{
 "cells": [
  {
   "cell_type": "markdown",
   "id": "5010a0ba-3b85-4f39-be1d-6c2d8f1a8bb0",
   "metadata": {},
   "source": [
    "# printing\n"
   ]
  },
  {
   "cell_type": "code",
   "execution_count": 4,
   "id": "c03fcb82-20c5-40b2-b151-b1e7884e4ab2",
   "metadata": {},
   "outputs": [
    {
     "name": "stdout",
     "output_type": "stream",
     "text": [
      "hello world\n",
      "dbhwjkdw\n"
     ]
    }
   ],
   "source": [
    "print(\"hello world\")\n",
    "print(\"dbhwjkdw\")"
   ]
  },
  {
   "cell_type": "markdown",
   "id": "0de1a80c-d311-4385-a8c5-c5fe1bf21591",
   "metadata": {},
   "source": [
    "# variable= a container for a value (string,integer,float,boolean)\n"
   ]
  },
  {
   "cell_type": "code",
   "execution_count": 5,
   "id": "57d62628-a110-4547-8a5b-e19e3535239e",
   "metadata": {},
   "outputs": [
    {
     "name": "stdout",
     "output_type": "stream",
     "text": [
      "simon\n"
     ]
    }
   ],
   "source": [
    "first=\"simon\"\n",
    "\n",
    "print(first)"
   ]
  },
  {
   "cell_type": "code",
   "execution_count": 8,
   "id": "ef05d1eb-f62f-4a25-9eca-5c6aea2dada3",
   "metadata": {},
   "outputs": [
    {
     "name": "stdout",
     "output_type": "stream",
     "text": [
      "hello simon\n",
      "i like food\n"
     ]
    }
   ],
   "source": [
    "print(\"hello\",first)\n",
    "a=\"food\"\n",
    "print(\"i like\",a)"
   ]
  },
  {
   "cell_type": "code",
   "execution_count": 10,
   "id": "a4a21cbd-93bf-452e-9ba6-0b6b3365d561",
   "metadata": {},
   "outputs": [
    {
     "name": "stdout",
     "output_type": "stream",
     "text": [
      "you are  25  years old\n"
     ]
    }
   ],
   "source": [
    "age=25\n",
    "print(\"you are \",age,\" years old\")"
   ]
  },
  {
   "cell_type": "code",
   "execution_count": 11,
   "id": "78fa7816-2ac7-4ae1-a71f-599584f74995",
   "metadata": {},
   "outputs": [
    {
     "name": "stdout",
     "output_type": "stream",
     "text": [
      "the price is$10.99\n"
     ]
    }
   ],
   "source": [
    "price=10.99\n",
    "print(f\"the price is${price}\")"
   ]
  },
  {
   "cell_type": "code",
   "execution_count": 12,
   "id": "dfe1b4cb-4adf-4660-be33-046ea5d755bc",
   "metadata": {},
   "outputs": [
    {
     "name": "stdout",
     "output_type": "stream",
     "text": [
      "are you a student: True\n"
     ]
    }
   ],
   "source": [
    "# boolean\n",
    "isstudent= True\n",
    "print(f\"are you a student: {isstudent}\")"
   ]
  },
  {
   "cell_type": "code",
   "execution_count": 13,
   "id": "fcded68e-c8c2-4df8-bfe2-3a44f9eac7c2",
   "metadata": {},
   "outputs": [
    {
     "name": "stdout",
     "output_type": "stream",
     "text": [
      "ebfjhfb\n"
     ]
    }
   ],
   "source": [
    "if isstudent:\n",
    "    print(\"ebfjhfb\")\n",
    "else:\n",
    "    print(\"dwuegytwe\")"
   ]
  },
  {
   "cell_type": "markdown",
   "id": "8e4b784a-4591-40f6-af7c-78527b0a10c0",
   "metadata": {},
   "source": [
    "# typecasting = the process of converting a variable from one data type to another str(), int(),float(),bool()"
   ]
  },
  {
   "cell_type": "code",
   "execution_count": 17,
   "id": "9819f04d-2a7c-47a9-83e1-0d129bfff541",
   "metadata": {},
   "outputs": [
    {
     "name": "stdout",
     "output_type": "stream",
     "text": [
      "<class 'str'> <class 'int'> <class 'float'> <class 'bool'>\n"
     ]
    }
   ],
   "source": [
    "name=\"simon j kurian\"\n",
    "age=20\n",
    "gpa=3.2\n",
    "is_student=True\n",
    "print(type(name),type(age),type(gpa),type(is_student))\n"
   ]
  },
  {
   "cell_type": "code",
   "execution_count": 22,
   "id": "ef28027c-443a-4139-a017-01816938bcc1",
   "metadata": {},
   "outputs": [
    {
     "name": "stdout",
     "output_type": "stream",
     "text": [
      "3\n",
      "<class 'int'>\n",
      "20.0\n",
      "<class 'str'>\n"
     ]
    }
   ],
   "source": [
    "gpa=int(gpa)\n",
    "print(gpa)\n",
    "print(type(gpa))\n",
    "\n",
    "age=float(age)\n",
    "print(age)\n",
    "\n",
    "age=str(age)\n",
    "print(type(age))\n"
   ]
  },
  {
   "cell_type": "code",
   "execution_count": 23,
   "id": "659518c8-fa08-469a-98e0-f4b6972fa764",
   "metadata": {},
   "outputs": [
    {
     "ename": "TypeError",
     "evalue": "can only concatenate str (not \"int\") to str",
     "output_type": "error",
     "traceback": [
      "\u001b[1;31m---------------------------------------------------------------------------\u001b[0m",
      "\u001b[1;31mTypeError\u001b[0m                                 Traceback (most recent call last)",
      "Cell \u001b[1;32mIn[23], line 1\u001b[0m\n\u001b[1;32m----> 1\u001b[0m \u001b[43mage\u001b[49m\u001b[38;5;241;43m+\u001b[39;49m\u001b[38;5;241;43m=\u001b[39;49m\u001b[38;5;241;43m1\u001b[39;49m\n",
      "\u001b[1;31mTypeError\u001b[0m: can only concatenate str (not \"int\") to str"
     ]
    }
   ],
   "source": [
    "age+=1"
   ]
  },
  {
   "cell_type": "code",
   "execution_count": 24,
   "id": "f0aa0585-3aab-47bc-9f53-e6e4f8f921eb",
   "metadata": {},
   "outputs": [
    {
     "ename": "NameError",
     "evalue": "name 'hello' is not defined",
     "output_type": "error",
     "traceback": [
      "\u001b[1;31m---------------------------------------------------------------------------\u001b[0m",
      "\u001b[1;31mNameError\u001b[0m                                 Traceback (most recent call last)",
      "Cell \u001b[1;32mIn[24], line 1\u001b[0m\n\u001b[1;32m----> 1\u001b[0m \u001b[38;5;28mprint\u001b[39m(age\u001b[38;5;241m+\u001b[39m\u001b[43mhello\u001b[49m)\n",
      "\u001b[1;31mNameError\u001b[0m: name 'hello' is not defined"
     ]
    }
   ],
   "source": [
    "print(age+hello)"
   ]
  },
  {
   "cell_type": "code",
   "execution_count": 26,
   "id": "54865cdd-3be7-4350-8ae3-b5533b5f9243",
   "metadata": {},
   "outputs": [
    {
     "name": "stdout",
     "output_type": "stream",
     "text": [
      "20.0hello\n"
     ]
    }
   ],
   "source": [
    "print(age+\"hello\")"
   ]
  },
  {
   "cell_type": "code",
   "execution_count": 27,
   "id": "8fd3a7ce-2f64-43a0-81c3-3680d49c82e5",
   "metadata": {},
   "outputs": [
    {
     "name": "stdout",
     "output_type": "stream",
     "text": [
      "20.0 30\n"
     ]
    }
   ],
   "source": [
    "print(age,\"30\")"
   ]
  },
  {
   "cell_type": "code",
   "execution_count": 28,
   "id": "c8dd2fd5-6bca-4053-8e51-00b3ac380187",
   "metadata": {},
   "outputs": [
    {
     "name": "stdout",
     "output_type": "stream",
     "text": [
      "True\n"
     ]
    }
   ],
   "source": [
    "name=bool(name)\n",
    "print(name)"
   ]
  },
  {
   "cell_type": "code",
   "execution_count": 29,
   "id": "36843925-0547-43fd-898a-bc9e186cc15f",
   "metadata": {},
   "outputs": [
    {
     "name": "stdout",
     "output_type": "stream",
     "text": [
      "False\n"
     ]
    }
   ],
   "source": [
    "a=\"\"\n",
    "a=bool(a)\n",
    "print(a)"
   ]
  },
  {
   "cell_type": "markdown",
   "id": "610e47c2-7231-4231-99a2-1e9ac43b33fa",
   "metadata": {},
   "source": [
    "# input() = a function that prompts the user to enter data returns the entered data as STRING"
   ]
  },
  {
   "cell_type": "code",
   "execution_count": 39,
   "id": "a85b34f1-9938-476b-b234-95cab328ff3c",
   "metadata": {},
   "outputs": [
    {
     "name": "stdin",
     "output_type": "stream",
     "text": [
      " wedfgh\n"
     ]
    },
    {
     "data": {
      "text/plain": [
       "'wedfgh'"
      ]
     },
     "execution_count": 39,
     "metadata": {},
     "output_type": "execute_result"
    }
   ],
   "source": [
    "input()"
   ]
  },
  {
   "cell_type": "code",
   "execution_count": 41,
   "id": "1512585b-3b73-4fb1-a6f8-0bf4776a6e33",
   "metadata": {},
   "outputs": [
    {
     "name": "stdin",
     "output_type": "stream",
     "text": [
      "what is your name? stephin\n"
     ]
    },
    {
     "data": {
      "text/plain": [
       "'stephin'"
      ]
     },
     "execution_count": 41,
     "metadata": {},
     "output_type": "execute_result"
    }
   ],
   "source": [
    "input(\"what is your name?\")"
   ]
  },
  {
   "cell_type": "code",
   "execution_count": 32,
   "id": "7cc87110-0a22-4067-9925-5ee986928f82",
   "metadata": {},
   "outputs": [
    {
     "ename": "NameError",
     "evalue": "name 'djvhwjh' is not defined",
     "output_type": "error",
     "traceback": [
      "\u001b[1;31m---------------------------------------------------------------------------\u001b[0m",
      "\u001b[1;31mNameError\u001b[0m                                 Traceback (most recent call last)",
      "Cell \u001b[1;32mIn[32], line 1\u001b[0m\n\u001b[1;32m----> 1\u001b[0m \u001b[38;5;28minput\u001b[39m(\u001b[43mdjvhwjh\u001b[49m)\n",
      "\u001b[1;31mNameError\u001b[0m: name 'djvhwjh' is not defined"
     ]
    }
   ],
   "source": [
    "input(djvhwjh)"
   ]
  },
  {
   "cell_type": "code",
   "execution_count": 34,
   "id": "d1e3d9c0-0e3a-479a-aaf9-58a9d912ac7a",
   "metadata": {},
   "outputs": [
    {
     "name": "stdin",
     "output_type": "stream",
     "text": [
      "what is your name? simon\n"
     ]
    },
    {
     "name": "stdout",
     "output_type": "stream",
     "text": [
      "hello simon\n"
     ]
    }
   ],
   "source": [
    "name=input(\"what is your name?\")\n",
    "print(f\"hello {name}\")"
   ]
  },
  {
   "cell_type": "code",
   "execution_count": 35,
   "id": "a3eb8726-b8c0-451f-a36a-80e0bc5d5e86",
   "metadata": {},
   "outputs": [
    {
     "name": "stdin",
     "output_type": "stream",
     "text": [
      "how old are you? simon\n"
     ]
    },
    {
     "ename": "TypeError",
     "evalue": "can only concatenate str (not \"int\") to str",
     "output_type": "error",
     "traceback": [
      "\u001b[1;31m---------------------------------------------------------------------------\u001b[0m",
      "\u001b[1;31mTypeError\u001b[0m                                 Traceback (most recent call last)",
      "Cell \u001b[1;32mIn[35], line 2\u001b[0m\n\u001b[0;32m      1\u001b[0m age\u001b[38;5;241m=\u001b[39m\u001b[38;5;28minput\u001b[39m(\u001b[38;5;124m\"\u001b[39m\u001b[38;5;124mhow old are you?\u001b[39m\u001b[38;5;124m\"\u001b[39m)\n\u001b[1;32m----> 2\u001b[0m age\u001b[38;5;241m=\u001b[39m\u001b[43mage\u001b[49m\u001b[38;5;241;43m+\u001b[39;49m\u001b[38;5;241;43m1\u001b[39;49m\n\u001b[0;32m      3\u001b[0m \u001b[38;5;28mprint\u001b[39m(age)\n",
      "\u001b[1;31mTypeError\u001b[0m: can only concatenate str (not \"int\") to str"
     ]
    }
   ],
   "source": [
    "age=input(\"how old are you?\")\n",
    "age=age+1\n",
    "print(age)   # so only string is accepted"
   ]
  },
  {
   "cell_type": "code",
   "execution_count": 40,
   "id": "544326e5-7c7a-48ee-ab89-6f0859761d06",
   "metadata": {},
   "outputs": [
    {
     "name": "stdin",
     "output_type": "stream",
     "text": [
      "how old are you? 25\n"
     ]
    },
    {
     "name": "stdout",
     "output_type": "stream",
     "text": [
      "happy birthday\n",
      "26\n"
     ]
    }
   ],
   "source": [
    "# age=int(input()) \n",
    "age=int(input(\"how old are you?\"))\n",
    "age=age+1\n",
    "print(\"happy birthday\")\n",
    "print(age)"
   ]
  },
  {
   "cell_type": "markdown",
   "id": "09c077fc-7cf3-4b0e-8503-3cc1739a98ff",
   "metadata": {},
   "source": [
    "# exercise 1"
   ]
  },
  {
   "cell_type": "code",
   "execution_count": 41,
   "id": "979440fc-bc23-4877-9252-b7caa19f092b",
   "metadata": {},
   "outputs": [
    {
     "name": "stdin",
     "output_type": "stream",
     "text": [
      "enter the length 2\n",
      "enter the width 3\n"
     ]
    },
    {
     "ename": "TypeError",
     "evalue": "can't multiply sequence by non-int of type 'str'",
     "output_type": "error",
     "traceback": [
      "\u001b[1;31m---------------------------------------------------------------------------\u001b[0m",
      "\u001b[1;31mTypeError\u001b[0m                                 Traceback (most recent call last)",
      "Cell \u001b[1;32mIn[41], line 3\u001b[0m\n\u001b[0;32m      1\u001b[0m length\u001b[38;5;241m=\u001b[39m\u001b[38;5;28minput\u001b[39m(\u001b[38;5;124m\"\u001b[39m\u001b[38;5;124menter the length\u001b[39m\u001b[38;5;124m\"\u001b[39m)\n\u001b[0;32m      2\u001b[0m b\u001b[38;5;241m=\u001b[39m\u001b[38;5;28minput\u001b[39m(\u001b[38;5;124m\"\u001b[39m\u001b[38;5;124menter the width\u001b[39m\u001b[38;5;124m\"\u001b[39m)\n\u001b[1;32m----> 3\u001b[0m area\u001b[38;5;241m=\u001b[39m\u001b[43mlength\u001b[49m\u001b[38;5;241;43m*\u001b[39;49m\u001b[43mb\u001b[49m\n\u001b[0;32m      4\u001b[0m \u001b[38;5;28mprint\u001b[39m(area)\n",
      "\u001b[1;31mTypeError\u001b[0m: can't multiply sequence by non-int of type 'str'"
     ]
    }
   ],
   "source": [
    "length=input(\"enter the length\")\n",
    "b=input(\"enter the width\")\n",
    "area=length*b\n",
    "print(area)"
   ]
  },
  {
   "cell_type": "code",
   "execution_count": 45,
   "id": "7560fb11-e032-42b7-83fe-31bfe8d60d9c",
   "metadata": {},
   "outputs": [
    {
     "name": "stdin",
     "output_type": "stream",
     "text": [
      "enter the length 2\n",
      "enter the width 3\n"
     ]
    },
    {
     "name": "stdout",
     "output_type": "stream",
     "text": [
      "area is 6.0\n"
     ]
    }
   ],
   "source": [
    "length=float(input(\"enter the length\"))\n",
    "b=float(input(\"enter the width\"))\n",
    "area=length*b\n",
    "print(\"area is\", area)\n"
   ]
  },
  {
   "cell_type": "markdown",
   "id": "1556ca57-8a9b-4780-a60c-6aaa6f925e70",
   "metadata": {},
   "source": [
    "# exercise 2"
   ]
  },
  {
   "cell_type": "code",
   "execution_count": 47,
   "id": "9b646de5-d782-422d-8b65-5a0357e858e9",
   "metadata": {},
   "outputs": [
    {
     "name": "stdin",
     "output_type": "stream",
     "text": [
      "what would you like to buy:  pizza\n",
      "what is the price 10.99\n",
      "how many would you like 3\n"
     ]
    },
    {
     "name": "stdout",
     "output_type": "stream",
     "text": [
      "you have bought 3 pizza , your total is 32.97\n"
     ]
    }
   ],
   "source": [
    "item=input(\"what would you like to buy: \")\n",
    "price=float(input(\"what is the price\"))\n",
    "quantity=int(input(\"how many would you like\"))\n",
    "total =price*quantity\n",
    "print(f\"you have bought {quantity} {item} , your total is {total}\")\n"
   ]
  },
  {
   "cell_type": "markdown",
   "id": "0073bc17-dbe0-4316-b004-5d59b125ab85",
   "metadata": {},
   "source": [
    "# madlibs game = word game where yiu create a story by filling in blanks with random words"
   ]
  },
  {
   "cell_type": "code",
   "execution_count": 50,
   "id": "b0cd3c57-61f4-41e4-b464-f0bfc6e6fb33",
   "metadata": {},
   "outputs": [
    {
     "name": "stdin",
     "output_type": "stream",
     "text": [
      "enter an adjective(description) suspicious\n",
      "enter a noun(person,place , thing) mark\n",
      "enter an adjective(description) angry\n",
      "enter a verb ending with'ing'  singing\n",
      "enter an adjective(description) happy\n"
     ]
    },
    {
     "name": "stdout",
     "output_type": "stream",
     "text": [
      "Today i went to a suspicious zoo\n",
      "in an exhibit, i saw a mark\n",
      "mark was angry and singing\n",
      "i was happy!\n"
     ]
    }
   ],
   "source": [
    "adjective1=input(\"enter an adjective(description)\")\n",
    "noun1=input(\"enter a noun(person,place , thing)\")\n",
    "adjective2=input(\"enter an adjective(description)\")\n",
    "verb1=input(\"enter a verb ending with'ing' \")\n",
    "adjective3=input(\"enter an adjective(description)\")\n",
    "\n",
    "\n",
    "print(f\"Today i went to a {adjective1} zoo\")\n",
    "print(f\"in an exhibit, i saw a {noun1}\")\n",
    "print(f\"{noun1} was {adjective2} and {verb1}\")\n",
    "print(f\"i was {adjective3}!\")"
   ]
  },
  {
   "cell_type": "markdown",
   "id": "ee0fdd73-7d6a-4812-af97-2a4b8a1f3cf2",
   "metadata": {},
   "source": [
    " # ARITHMETIC OPERATORS"
   ]
  },
  {
   "cell_type": "code",
   "execution_count": 52,
   "id": "a919d681-dd96-4b4d-9ee9-5ce6788fe755",
   "metadata": {},
   "outputs": [
    {
     "name": "stdout",
     "output_type": "stream",
     "text": [
      "3\n",
      "4\n",
      "2.0\n"
     ]
    }
   ],
   "source": [
    "friends=1\n",
    "friends=friends*3\n",
    "print(friends)\n",
    "friends+=1\n",
    "print(friends)\n",
    "friends/=2\n",
    "print(friends)\n",
    "\n"
   ]
  },
  {
   "cell_type": "code",
   "execution_count": 53,
   "id": "e5843140-1348-430d-8bf7-e05055a8ec60",
   "metadata": {},
   "outputs": [],
   "source": [
    "# exponents"
   ]
  },
  {
   "cell_type": "code",
   "execution_count": 54,
   "id": "8b4224cf-5fc2-478a-99fb-3d4955668c05",
   "metadata": {},
   "outputs": [
    {
     "name": "stdout",
     "output_type": "stream",
     "text": [
      "4.0\n"
     ]
    }
   ],
   "source": [
    "friends**=2\n",
    "print(friends)"
   ]
  },
  {
   "cell_type": "code",
   "execution_count": 1,
   "id": "fc04a11e-5e10-4360-8d23-b05e5dd6134f",
   "metadata": {},
   "outputs": [
    {
     "name": "stdout",
     "output_type": "stream",
     "text": [
      "8\n"
     ]
    }
   ],
   "source": [
    "a=2\n",
    "a**=3\n",
    "print(a)"
   ]
  },
  {
   "cell_type": "code",
   "execution_count": 56,
   "id": "79181eca-47f1-4b15-b47c-fb3c1d663d82",
   "metadata": {},
   "outputs": [
    {
     "name": "stdout",
     "output_type": "stream",
     "text": [
      "2\n"
     ]
    }
   ],
   "source": [
    "b=2\n",
    "r=b%3    # will give the remainder   \n",
    "print(r)"
   ]
  },
  {
   "cell_type": "markdown",
   "id": "edfcc6cd-b3f3-4caa-b6f4-f65d420ec66c",
   "metadata": {},
   "source": [
    "# built in math functions"
   ]
  },
  {
   "cell_type": "code",
   "execution_count": 64,
   "id": "cf3bdbdf-1309-4660-bbce-63ad515f7d4f",
   "metadata": {},
   "outputs": [
    {
     "name": "stdout",
     "output_type": "stream",
     "text": [
      "3\n"
     ]
    }
   ],
   "source": [
    "# round()\n",
    "x=3.14\n",
    "c=round(x)\n",
    "print(c)\n"
   ]
  },
  {
   "cell_type": "code",
   "execution_count": 68,
   "id": "63cc5f4a-fcd0-4053-811f-694501099e59",
   "metadata": {},
   "outputs": [
    {
     "name": "stdout",
     "output_type": "stream",
     "text": [
      "-3 3.14\n"
     ]
    }
   ],
   "source": [
    "#abs()\n",
    "x=-3.14\n",
    "print(round(x),abs(x))"
   ]
  },
  {
   "cell_type": "code",
   "execution_count": 69,
   "id": "d0f6d636-bc9d-4fbd-b851-6b6b160e9136",
   "metadata": {},
   "outputs": [
    {
     "name": "stdout",
     "output_type": "stream",
     "text": [
      "27\n"
     ]
    }
   ],
   "source": [
    "#pow()\n",
    "a=3\n",
    "result=pow(a,3)\n",
    "print(result)"
   ]
  },
  {
   "cell_type": "code",
   "execution_count": 70,
   "id": "ddc0e53f-dc9f-47fd-a9bf-e64a3b259801",
   "metadata": {},
   "outputs": [
    {
     "name": "stdout",
     "output_type": "stream",
     "text": [
      "maximum of a,b,c 55 minimum of a,b,c -9.0\n"
     ]
    }
   ],
   "source": [
    "#max() min()\n",
    "a=3\n",
    "b=-9.0\n",
    "c=55\n",
    "print(\"maximum of a,b,c\", max(a,b,c),\"minimum of a,b,c\", min(a,b,c))"
   ]
  },
  {
   "cell_type": "markdown",
   "id": "68c32ad1-79ba-4bf6-99ab-8550ab32b1eb",
   "metadata": {},
   "source": [
    "# imort math"
   ]
  },
  {
   "cell_type": "code",
   "execution_count": 2,
   "id": "34d78fca-a6c1-45b1-9193-609d44d5063d",
   "metadata": {},
   "outputs": [
    {
     "name": "stdout",
     "output_type": "stream",
     "text": [
      "3.141592653589793\n",
      "2.718281828459045\n",
      "2.8284271247461903\n",
      "1\n",
      "-9\n",
      "-10\n",
      "0\n"
     ]
    }
   ],
   "source": [
    "import math\n",
    "\n",
    "x=8\n",
    "print(math.pi)\n",
    "print(math.e)\n",
    "result=math.sqrt(x)\n",
    "print(result)\n",
    "y=0.9\n",
    "z=-9.8\n",
    "print(math.ceil(y))\n",
    "print(math.ceil(z))\n",
    "print(math.floor(z))\n",
    "print(math.floor(y))"
   ]
  },
  {
   "cell_type": "markdown",
   "id": "2297f325-0e26-4ff6-a0eb-7cfba88a766f",
   "metadata": {},
   "source": [
    "# exercise"
   ]
  },
  {
   "cell_type": "code",
   "execution_count": 3,
   "id": "a7799d8d-b3e4-47b7-ad30-1406cce09f89",
   "metadata": {},
   "outputs": [
    {
     "name": "stdin",
     "output_type": "stream",
     "text": [
      "enyer the radius of a circle: 2\n"
     ]
    },
    {
     "name": "stdout",
     "output_type": "stream",
     "text": [
      "the circumference is :12.57\n"
     ]
    }
   ],
   "source": [
    "import math\n",
    "radius=float(input(\"enyer the radius of a circle:\"))\n",
    "circumference=2*math.pi*radius\n",
    "print(f\"the circumference is :{round(circumference,2)}\")"
   ]
  },
  {
   "cell_type": "code",
   "execution_count": 77,
   "id": "a793f488-e7fd-406d-866d-536fc04f260e",
   "metadata": {},
   "outputs": [
    {
     "name": "stdin",
     "output_type": "stream",
     "text": [
      "enter the radius of circle 2\n"
     ]
    },
    {
     "name": "stdout",
     "output_type": "stream",
     "text": [
      "13\n"
     ]
    }
   ],
   "source": [
    "import math\n",
    "radius=float(input(\"enter the radius of circle\"))\n",
    "area=math.pi*pow(radius,2)\n",
    "print(round(area))"
   ]
  },
  {
   "cell_type": "code",
   "execution_count": 43,
   "id": "0a0df385-4d42-4fbc-9594-9f5a86cf4d09",
   "metadata": {},
   "outputs": [
    {
     "name": "stdin",
     "output_type": "stream",
     "text": [
      "enter side a 1\n",
      "enter side b 2\n"
     ]
    },
    {
     "name": "stdout",
     "output_type": "stream",
     "text": [
      "2.24\n"
     ]
    }
   ],
   "source": [
    "import math\n",
    "a=int(input(\"enter side a\"))\n",
    "b=int(input(\"enter side b\"))\n",
    "c=math.sqrt(pow(a,2)+pow(b,2))\n",
    "print(round(c,2))"
   ]
  },
  {
   "cell_type": "markdown",
   "id": "60c9e202-f003-4201-81e3-9b9e4d1cc7c4",
   "metadata": {},
   "source": [
    "# if= do some code IF  some condition is true ELSE  do something else "
   ]
  },
  {
   "cell_type": "code",
   "execution_count": 44,
   "id": "ff74addd-aa89-48a8-9101-7e445a05eb6f",
   "metadata": {},
   "outputs": [
    {
     "name": "stdin",
     "output_type": "stream",
     "text": [
      "enter your age 10\n"
     ]
    },
    {
     "name": "stdout",
     "output_type": "stream",
     "text": [
      "fuck off\n",
      "you must be 18+\n"
     ]
    }
   ],
   "source": [
    "age=int(input(\"enter your age\"))\n",
    "if age>=18:\n",
    "    print(\"you are now signed up\")\n",
    "elif age<0:\n",
    "    print(\"born first\")\n",
    "else:\n",
    "    print(\"fuck off\")\n",
    "    print(\"you must be 18+\")"
   ]
  },
  {
   "cell_type": "code",
   "execution_count": 83,
   "id": "c3f58977-c4dd-44d0-b1eb-40ac936a50ee",
   "metadata": {},
   "outputs": [
    {
     "name": "stdin",
     "output_type": "stream",
     "text": [
      "would you like food(Y/N) Y\n"
     ]
    },
    {
     "name": "stdout",
     "output_type": "stream",
     "text": [
      "have some food\n"
     ]
    }
   ],
   "source": [
    "response=input(\"would you like food(Y/N)\")\n",
    "if response==\"Y\":\n",
    "    print(\"have some food\")\n",
    "else:\n",
    "    print(\"no food\")\n"
   ]
  },
  {
   "cell_type": "code",
   "execution_count": 4,
   "id": "699cf9cb-1a31-425e-b571-5c2b23ba25d0",
   "metadata": {},
   "outputs": [
    {
     "name": "stdin",
     "output_type": "stream",
     "text": [
      "enter your name \n"
     ]
    },
    {
     "name": "stdout",
     "output_type": "stream",
     "text": [
      "type nigga\n"
     ]
    }
   ],
   "source": [
    "name=input(\"enter your name\")\n",
    "if name==\"\":\n",
    "    print(\"type nigga\")\n",
    "else:\n",
    "    print(f\"hello {name}\")"
   ]
  },
  {
   "cell_type": "code",
   "execution_count": 87,
   "id": "ecb6a604-7e8d-4ab8-8d72-abf794bc38ff",
   "metadata": {},
   "outputs": [
    {
     "name": "stdout",
     "output_type": "stream",
     "text": [
      "dkjbckdj\n"
     ]
    }
   ],
   "source": [
    "# boolean\n",
    "for_sale=True\n",
    "if for_sale:\n",
    "    print(\"dkjbckdj\")\n",
    "else:\n",
    "    print(\"dnsk\")"
   ]
  },
  {
   "cell_type": "markdown",
   "id": "e712b68c-9fd0-43d9-b5ae-25d8d4bf80e0",
   "metadata": {},
   "source": [
    "# calculator program"
   ]
  },
  {
   "cell_type": "code",
   "execution_count": 5,
   "id": "bc1f2794-3f8a-4899-9369-d01a3fc9011e",
   "metadata": {},
   "outputs": [
    {
     "name": "stdin",
     "output_type": "stream",
     "text": [
      "enter an operator(+,-,/,*) +\n",
      "enter first number: 1\n",
      "enter second number: 2\n"
     ]
    },
    {
     "name": "stdout",
     "output_type": "stream",
     "text": [
      "sum= 3\n"
     ]
    }
   ],
   "source": [
    "operator=input(\"enter an operator(+,-,/,*)\")\n",
    "num1=int(input(\"enter first number:\"))\n",
    "num2=int(input(\"enter second number:\"))\n",
    "\n",
    "if operator==\"+\":\n",
    "    print(f\"sum= {num1+num2}\")\n",
    "elif operator==\"-\":\n",
    "    print(f\"sub= {num1-num2}\")\n",
    "elif operator==\"*\":\n",
    "    print(f\"sub= {num1*num2}\")\n",
    "elif operator==\"/\":\n",
    "    print(f\"sub= {num1/num2}\")\n",
    "else:\n",
    "    print(\"choose valid operator \")"
   ]
  },
  {
   "cell_type": "markdown",
   "id": "03b68a48-cca5-47b1-8c13-bd2386f555cc",
   "metadata": {},
   "source": [
    "# python weight converter"
   ]
  },
  {
   "cell_type": "code",
   "execution_count": null,
   "id": "bb73d948-c16e-4e4a-97e3-b6ae61275aba",
   "metadata": {},
   "outputs": [],
   "source": [
    "weight=float(input(\"enter your weight\"))\n",
    "unit=input(\"kilograms or pounds(K/L)\")\n",
    "\n",
    "if unit==\"K\":\n",
    "    weight=weight*2.205\n",
    "    unit=\"Lbs\"\n",
    "elif unit==\"L\":\n",
    "    weight=weight/2.205\n",
    "    unit=\"kg\"\n",
    "else:\n",
    "    print(f\"{unit} was not valid\")\n",
    "\n",
    "print(f\"your weight is {weight}{unit}\")"
   ]
  },
  {
   "cell_type": "markdown",
   "id": "62cfaa8b-f7d8-45a6-9097-2e8928921d67",
   "metadata": {},
   "source": [
    "# logical operators= evaluate multiple conditions(or,and,not)\n",
    " "
   ]
  },
  {
   "cell_type": "code",
   "execution_count": 92,
   "id": "36db7cd7-bef8-416f-ad58-fd1c1a6ba10e",
   "metadata": {},
   "outputs": [
    {
     "name": "stdout",
     "output_type": "stream",
     "text": [
      "the outdoor event is still scheduled\n"
     ]
    }
   ],
   "source": [
    "temp=25\n",
    "\n",
    "is_raining=False\n",
    "\n",
    "if temp>35 or temp<0 or is_raining:\n",
    "    print(\"the outdoor event is cancelled\")\n",
    "else:\n",
    "    print(\"the outdoor event is still scheduled\")"
   ]
  },
  {
   "cell_type": "markdown",
   "id": "0da0cf93-5559-4245-b215-ac32423dc58a",
   "metadata": {},
   "source": [
    "# conditional expression =A one line shortcut for the if-else statement(ternary operator) Print or a assign one of two values based on conditon"
   ]
  },
  {
   "cell_type": "code",
   "execution_count": 93,
   "id": "c646c783-8286-4caa-9e2f-54ba735bc99a",
   "metadata": {},
   "outputs": [
    {
     "name": "stdout",
     "output_type": "stream",
     "text": [
      "positive\n"
     ]
    }
   ],
   "source": [
    "num=5\n",
    "print(\"positive\"if num>0 else \"negative\")"
   ]
  },
  {
   "cell_type": "code",
   "execution_count": 95,
   "id": "e23bdc14-53d6-45f8-a16e-4b6e0542b017",
   "metadata": {},
   "outputs": [
    {
     "name": "stdin",
     "output_type": "stream",
     "text": [
      "enter the number:  66\n"
     ]
    },
    {
     "name": "stdout",
     "output_type": "stream",
     "text": [
      "even number\n"
     ]
    }
   ],
   "source": [
    "n=int(input(\"enter the number: \"))\n",
    "print(\"even number\" if n%2==0 else\"odd number\")"
   ]
  },
  {
   "cell_type": "code",
   "execution_count": 97,
   "id": "42cb6926-948f-436e-8712-30255e7083d6",
   "metadata": {},
   "outputs": [
    {
     "name": "stdin",
     "output_type": "stream",
     "text": [
      "enter a 1\n",
      "enter b 2\n"
     ]
    },
    {
     "name": "stdout",
     "output_type": "stream",
     "text": [
      "2\n"
     ]
    }
   ],
   "source": [
    "a=int(input(\"enter a\"))\n",
    "b=int(input(\"enter b\"))\n",
    "max_num=a if a>b else b\n",
    "print(max_num)"
   ]
  },
  {
   "cell_type": "markdown",
   "id": "57a8df7a-9034-44c1-8aaf-0fcd6c439ce3",
   "metadata": {},
   "source": [
    "# strings"
   ]
  },
  {
   "cell_type": "code",
   "execution_count": 2,
   "id": "80d07ecf-2370-417c-8264-62c8458c6b68",
   "metadata": {},
   "outputs": [
    {
     "name": "stdin",
     "output_type": "stream",
     "text": [
      "enter your name simon\n"
     ]
    },
    {
     "name": "stdout",
     "output_type": "stream",
     "text": [
      "5\n",
      "number of letters in your name= 5\n",
      "0\n"
     ]
    }
   ],
   "source": [
    "# len()\n",
    "# replace()\n",
    "#find() = first occurence\n",
    "#rfind() = last occurence\n",
    "\n",
    "\n",
    "name=input(\"enter your name\")\n",
    "print(len(name))\n",
    "print(f\"number of letters in your name=\",len(name.replace(\" \",\"\")))\n",
    "result=name.find(\"s\")\n",
    "print(result)"
   ]
  },
  {
   "cell_type": "code",
   "execution_count": 4,
   "id": "62f4d9e7-9759-412e-a494-b09a82ff3191",
   "metadata": {},
   "outputs": [
    {
     "data": {
      "text/plain": [
       "2"
      ]
     },
     "execution_count": 4,
     "metadata": {},
     "output_type": "execute_result"
    }
   ],
   "source": [
    "a=\"abcdccdc\"\n",
    "a.count(\"cdc\")\n"
   ]
  },
  {
   "cell_type": "code",
   "execution_count": 112,
   "id": "e31ca047-b607-4f64-a9b8-0fe4186efdaa",
   "metadata": {},
   "outputs": [
    {
     "name": "stdin",
     "output_type": "stream",
     "text": [
      "enter your name simon j kurian\n"
     ]
    },
    {
     "name": "stdout",
     "output_type": "stream",
     "text": [
      "Simon j kurian\n",
      "SIMON J KURIAN\n",
      "simon j kurian\n",
      "False\n",
      "False\n"
     ]
    }
   ],
   "source": [
    "# capitalize() = used to capitalize only the first letter\n",
    "# upper() = used for making all letters capital\n",
    "# lower() = used for making all letters lower\n",
    "# isdigit() = return true or false \n",
    "#isalpha() =The isalpha() method in Python checks whether all characters in a string are alphabetic. \n",
    "            #If there are non-alphabetic characters (e.g., spaces, digits, or symbols) in the string, it will return False.\n",
    "\n",
    "name=input(\"enter your name\")\n",
    "print(name.capitalize())\n",
    "print(name.upper())\n",
    "print(name.lower())\n",
    "print(name.isdigit())\n",
    "print(name.isalpha())"
   ]
  },
  {
   "cell_type": "code",
   "execution_count": 113,
   "id": "23db7df2-f52e-4424-a85e-5a01e342f619",
   "metadata": {},
   "outputs": [
    {
     "name": "stdin",
     "output_type": "stream",
     "text": [
      "enter your name simonjkurian\n"
     ]
    },
    {
     "name": "stdout",
     "output_type": "stream",
     "text": [
      "True\n"
     ]
    }
   ],
   "source": [
    "name=input(\"enter your name\")\n",
    "\n",
    "print(name.isalpha())"
   ]
  },
  {
   "cell_type": "code",
   "execution_count": 2,
   "id": "763427f8-dc26-4219-854c-7d4fece934e1",
   "metadata": {},
   "outputs": [
    {
     "name": "stdin",
     "output_type": "stream",
     "text": [
      "enter your phone number 7736530635\n"
     ]
    },
    {
     "ename": "AttributeError",
     "evalue": "'int' object has no attribute 'count'",
     "output_type": "error",
     "traceback": [
      "\u001b[1;31m---------------------------------------------------------------------------\u001b[0m",
      "\u001b[1;31mAttributeError\u001b[0m                            Traceback (most recent call last)",
      "Cell \u001b[1;32mIn[2], line 3\u001b[0m\n\u001b[0;32m      1\u001b[0m \u001b[38;5;66;03m#count()\u001b[39;00m\n\u001b[0;32m      2\u001b[0m i\u001b[38;5;241m=\u001b[39m\u001b[38;5;28mint\u001b[39m(\u001b[38;5;28minput\u001b[39m(\u001b[38;5;124m\"\u001b[39m\u001b[38;5;124menter your phone number\u001b[39m\u001b[38;5;124m\"\u001b[39m))\n\u001b[1;32m----> 3\u001b[0m \u001b[38;5;28mprint\u001b[39m(\u001b[43mi\u001b[49m\u001b[38;5;241;43m.\u001b[39;49m\u001b[43mcount\u001b[49m(\u001b[38;5;241m7\u001b[39m))\n\u001b[0;32m      4\u001b[0m \u001b[38;5;28mprint\u001b[39m(i\u001b[38;5;241m.\u001b[39mcount())\n",
      "\u001b[1;31mAttributeError\u001b[0m: 'int' object has no attribute 'count'"
     ]
    }
   ],
   "source": [
    "#count()\n",
    "i=input(\"enter your phone number\")\n",
    "print(i.count(\"7\"))\n",
    "print(i.count())"
   ]
  },
  {
   "cell_type": "markdown",
   "id": "8aa32f48-d30d-4e7b-8066-267f89de8636",
   "metadata": {},
   "source": [
    "# The find() method returns the index of the first occurrence of a substring in a string. If the substring is not found, it returns -1.\n",
    "# count()Counts occurrences of a substring."
   ]
  },
  {
   "cell_type": "code",
   "execution_count": 117,
   "id": "67d85215-4442-4f08-a90b-19261103ea2f",
   "metadata": {},
   "outputs": [
    {
     "name": "stdin",
     "output_type": "stream",
     "text": [
      "enter your phone number 123456789\n"
     ]
    },
    {
     "name": "stdout",
     "output_type": "stream",
     "text": [
      "0\n",
      "10\n"
     ]
    }
   ],
   "source": [
    "#count()\n",
    "i=input(\"enter your phone number\")\n",
    "print(i.count(\"-\"))\n",
    "print(i.count(\"\"))"
   ]
  },
  {
   "cell_type": "raw",
   "id": "9b5bb101-5c1b-4372-b7b4-d4d7992392c2",
   "metadata": {},
   "source": [
    "there is also islower() and isupper() functions to check whether it is lower or upper case"
   ]
  },
  {
   "cell_type": "code",
   "execution_count": 118,
   "id": "377d7620-efbc-48cd-b783-ad34eec2d163",
   "metadata": {},
   "outputs": [
    {
     "name": "stdout",
     "output_type": "stream",
     "text": [
      "Help on class str in module builtins:\n",
      "\n",
      "class str(object)\n",
      " |  str(object='') -> str\n",
      " |  str(bytes_or_buffer[, encoding[, errors]]) -> str\n",
      " |\n",
      " |  Create a new string object from the given object. If encoding or\n",
      " |  errors is specified, then the object must expose a data buffer\n",
      " |  that will be decoded using the given encoding and error handler.\n",
      " |  Otherwise, returns the result of object.__str__() (if defined)\n",
      " |  or repr(object).\n",
      " |  encoding defaults to sys.getdefaultencoding().\n",
      " |  errors defaults to 'strict'.\n",
      " |\n",
      " |  Methods defined here:\n",
      " |\n",
      " |  __add__(self, value, /)\n",
      " |      Return self+value.\n",
      " |\n",
      " |  __contains__(self, key, /)\n",
      " |      Return bool(key in self).\n",
      " |\n",
      " |  __eq__(self, value, /)\n",
      " |      Return self==value.\n",
      " |\n",
      " |  __format__(self, format_spec, /)\n",
      " |      Return a formatted version of the string as described by format_spec.\n",
      " |\n",
      " |  __ge__(self, value, /)\n",
      " |      Return self>=value.\n",
      " |\n",
      " |  __getattribute__(self, name, /)\n",
      " |      Return getattr(self, name).\n",
      " |\n",
      " |  __getitem__(self, key, /)\n",
      " |      Return self[key].\n",
      " |\n",
      " |  __getnewargs__(...)\n",
      " |\n",
      " |  __gt__(self, value, /)\n",
      " |      Return self>value.\n",
      " |\n",
      " |  __hash__(self, /)\n",
      " |      Return hash(self).\n",
      " |\n",
      " |  __iter__(self, /)\n",
      " |      Implement iter(self).\n",
      " |\n",
      " |  __le__(self, value, /)\n",
      " |      Return self<=value.\n",
      " |\n",
      " |  __len__(self, /)\n",
      " |      Return len(self).\n",
      " |\n",
      " |  __lt__(self, value, /)\n",
      " |      Return self<value.\n",
      " |\n",
      " |  __mod__(self, value, /)\n",
      " |      Return self%value.\n",
      " |\n",
      " |  __mul__(self, value, /)\n",
      " |      Return self*value.\n",
      " |\n",
      " |  __ne__(self, value, /)\n",
      " |      Return self!=value.\n",
      " |\n",
      " |  __repr__(self, /)\n",
      " |      Return repr(self).\n",
      " |\n",
      " |  __rmod__(self, value, /)\n",
      " |      Return value%self.\n",
      " |\n",
      " |  __rmul__(self, value, /)\n",
      " |      Return value*self.\n",
      " |\n",
      " |  __sizeof__(self, /)\n",
      " |      Return the size of the string in memory, in bytes.\n",
      " |\n",
      " |  __str__(self, /)\n",
      " |      Return str(self).\n",
      " |\n",
      " |  capitalize(self, /)\n",
      " |      Return a capitalized version of the string.\n",
      " |\n",
      " |      More specifically, make the first character have upper case and the rest lower\n",
      " |      case.\n",
      " |\n",
      " |  casefold(self, /)\n",
      " |      Return a version of the string suitable for caseless comparisons.\n",
      " |\n",
      " |  center(self, width, fillchar=' ', /)\n",
      " |      Return a centered string of length width.\n",
      " |\n",
      " |      Padding is done using the specified fill character (default is a space).\n",
      " |\n",
      " |  count(...)\n",
      " |      S.count(sub[, start[, end]]) -> int\n",
      " |\n",
      " |      Return the number of non-overlapping occurrences of substring sub in\n",
      " |      string S[start:end].  Optional arguments start and end are\n",
      " |      interpreted as in slice notation.\n",
      " |\n",
      " |  encode(self, /, encoding='utf-8', errors='strict')\n",
      " |      Encode the string using the codec registered for encoding.\n",
      " |\n",
      " |      encoding\n",
      " |        The encoding in which to encode the string.\n",
      " |      errors\n",
      " |        The error handling scheme to use for encoding errors.\n",
      " |        The default is 'strict' meaning that encoding errors raise a\n",
      " |        UnicodeEncodeError.  Other possible values are 'ignore', 'replace' and\n",
      " |        'xmlcharrefreplace' as well as any other name registered with\n",
      " |        codecs.register_error that can handle UnicodeEncodeErrors.\n",
      " |\n",
      " |  endswith(...)\n",
      " |      S.endswith(suffix[, start[, end]]) -> bool\n",
      " |\n",
      " |      Return True if S ends with the specified suffix, False otherwise.\n",
      " |      With optional start, test S beginning at that position.\n",
      " |      With optional end, stop comparing S at that position.\n",
      " |      suffix can also be a tuple of strings to try.\n",
      " |\n",
      " |  expandtabs(self, /, tabsize=8)\n",
      " |      Return a copy where all tab characters are expanded using spaces.\n",
      " |\n",
      " |      If tabsize is not given, a tab size of 8 characters is assumed.\n",
      " |\n",
      " |  find(...)\n",
      " |      S.find(sub[, start[, end]]) -> int\n",
      " |\n",
      " |      Return the lowest index in S where substring sub is found,\n",
      " |      such that sub is contained within S[start:end].  Optional\n",
      " |      arguments start and end are interpreted as in slice notation.\n",
      " |\n",
      " |      Return -1 on failure.\n",
      " |\n",
      " |  format(...)\n",
      " |      S.format(*args, **kwargs) -> str\n",
      " |\n",
      " |      Return a formatted version of S, using substitutions from args and kwargs.\n",
      " |      The substitutions are identified by braces ('{' and '}').\n",
      " |\n",
      " |  format_map(...)\n",
      " |      S.format_map(mapping) -> str\n",
      " |\n",
      " |      Return a formatted version of S, using substitutions from mapping.\n",
      " |      The substitutions are identified by braces ('{' and '}').\n",
      " |\n",
      " |  index(...)\n",
      " |      S.index(sub[, start[, end]]) -> int\n",
      " |\n",
      " |      Return the lowest index in S where substring sub is found,\n",
      " |      such that sub is contained within S[start:end].  Optional\n",
      " |      arguments start and end are interpreted as in slice notation.\n",
      " |\n",
      " |      Raises ValueError when the substring is not found.\n",
      " |\n",
      " |  isalnum(self, /)\n",
      " |      Return True if the string is an alpha-numeric string, False otherwise.\n",
      " |\n",
      " |      A string is alpha-numeric if all characters in the string are alpha-numeric and\n",
      " |      there is at least one character in the string.\n",
      " |\n",
      " |  isalpha(self, /)\n",
      " |      Return True if the string is an alphabetic string, False otherwise.\n",
      " |\n",
      " |      A string is alphabetic if all characters in the string are alphabetic and there\n",
      " |      is at least one character in the string.\n",
      " |\n",
      " |  isascii(self, /)\n",
      " |      Return True if all characters in the string are ASCII, False otherwise.\n",
      " |\n",
      " |      ASCII characters have code points in the range U+0000-U+007F.\n",
      " |      Empty string is ASCII too.\n",
      " |\n",
      " |  isdecimal(self, /)\n",
      " |      Return True if the string is a decimal string, False otherwise.\n",
      " |\n",
      " |      A string is a decimal string if all characters in the string are decimal and\n",
      " |      there is at least one character in the string.\n",
      " |\n",
      " |  isdigit(self, /)\n",
      " |      Return True if the string is a digit string, False otherwise.\n",
      " |\n",
      " |      A string is a digit string if all characters in the string are digits and there\n",
      " |      is at least one character in the string.\n",
      " |\n",
      " |  isidentifier(self, /)\n",
      " |      Return True if the string is a valid Python identifier, False otherwise.\n",
      " |\n",
      " |      Call keyword.iskeyword(s) to test whether string s is a reserved identifier,\n",
      " |      such as \"def\" or \"class\".\n",
      " |\n",
      " |  islower(self, /)\n",
      " |      Return True if the string is a lowercase string, False otherwise.\n",
      " |\n",
      " |      A string is lowercase if all cased characters in the string are lowercase and\n",
      " |      there is at least one cased character in the string.\n",
      " |\n",
      " |  isnumeric(self, /)\n",
      " |      Return True if the string is a numeric string, False otherwise.\n",
      " |\n",
      " |      A string is numeric if all characters in the string are numeric and there is at\n",
      " |      least one character in the string.\n",
      " |\n",
      " |  isprintable(self, /)\n",
      " |      Return True if the string is printable, False otherwise.\n",
      " |\n",
      " |      A string is printable if all of its characters are considered printable in\n",
      " |      repr() or if it is empty.\n",
      " |\n",
      " |  isspace(self, /)\n",
      " |      Return True if the string is a whitespace string, False otherwise.\n",
      " |\n",
      " |      A string is whitespace if all characters in the string are whitespace and there\n",
      " |      is at least one character in the string.\n",
      " |\n",
      " |  istitle(self, /)\n",
      " |      Return True if the string is a title-cased string, False otherwise.\n",
      " |\n",
      " |      In a title-cased string, upper- and title-case characters may only\n",
      " |      follow uncased characters and lowercase characters only cased ones.\n",
      " |\n",
      " |  isupper(self, /)\n",
      " |      Return True if the string is an uppercase string, False otherwise.\n",
      " |\n",
      " |      A string is uppercase if all cased characters in the string are uppercase and\n",
      " |      there is at least one cased character in the string.\n",
      " |\n",
      " |  join(self, iterable, /)\n",
      " |      Concatenate any number of strings.\n",
      " |\n",
      " |      The string whose method is called is inserted in between each given string.\n",
      " |      The result is returned as a new string.\n",
      " |\n",
      " |      Example: '.'.join(['ab', 'pq', 'rs']) -> 'ab.pq.rs'\n",
      " |\n",
      " |  ljust(self, width, fillchar=' ', /)\n",
      " |      Return a left-justified string of length width.\n",
      " |\n",
      " |      Padding is done using the specified fill character (default is a space).\n",
      " |\n",
      " |  lower(self, /)\n",
      " |      Return a copy of the string converted to lowercase.\n",
      " |\n",
      " |  lstrip(self, chars=None, /)\n",
      " |      Return a copy of the string with leading whitespace removed.\n",
      " |\n",
      " |      If chars is given and not None, remove characters in chars instead.\n",
      " |\n",
      " |  partition(self, sep, /)\n",
      " |      Partition the string into three parts using the given separator.\n",
      " |\n",
      " |      This will search for the separator in the string.  If the separator is found,\n",
      " |      returns a 3-tuple containing the part before the separator, the separator\n",
      " |      itself, and the part after it.\n",
      " |\n",
      " |      If the separator is not found, returns a 3-tuple containing the original string\n",
      " |      and two empty strings.\n",
      " |\n",
      " |  removeprefix(self, prefix, /)\n",
      " |      Return a str with the given prefix string removed if present.\n",
      " |\n",
      " |      If the string starts with the prefix string, return string[len(prefix):].\n",
      " |      Otherwise, return a copy of the original string.\n",
      " |\n",
      " |  removesuffix(self, suffix, /)\n",
      " |      Return a str with the given suffix string removed if present.\n",
      " |\n",
      " |      If the string ends with the suffix string and that suffix is not empty,\n",
      " |      return string[:-len(suffix)]. Otherwise, return a copy of the original\n",
      " |      string.\n",
      " |\n",
      " |  replace(self, old, new, count=-1, /)\n",
      " |      Return a copy with all occurrences of substring old replaced by new.\n",
      " |\n",
      " |        count\n",
      " |          Maximum number of occurrences to replace.\n",
      " |          -1 (the default value) means replace all occurrences.\n",
      " |\n",
      " |      If the optional argument count is given, only the first count occurrences are\n",
      " |      replaced.\n",
      " |\n",
      " |  rfind(...)\n",
      " |      S.rfind(sub[, start[, end]]) -> int\n",
      " |\n",
      " |      Return the highest index in S where substring sub is found,\n",
      " |      such that sub is contained within S[start:end].  Optional\n",
      " |      arguments start and end are interpreted as in slice notation.\n",
      " |\n",
      " |      Return -1 on failure.\n",
      " |\n",
      " |  rindex(...)\n",
      " |      S.rindex(sub[, start[, end]]) -> int\n",
      " |\n",
      " |      Return the highest index in S where substring sub is found,\n",
      " |      such that sub is contained within S[start:end].  Optional\n",
      " |      arguments start and end are interpreted as in slice notation.\n",
      " |\n",
      " |      Raises ValueError when the substring is not found.\n",
      " |\n",
      " |  rjust(self, width, fillchar=' ', /)\n",
      " |      Return a right-justified string of length width.\n",
      " |\n",
      " |      Padding is done using the specified fill character (default is a space).\n",
      " |\n",
      " |  rpartition(self, sep, /)\n",
      " |      Partition the string into three parts using the given separator.\n",
      " |\n",
      " |      This will search for the separator in the string, starting at the end. If\n",
      " |      the separator is found, returns a 3-tuple containing the part before the\n",
      " |      separator, the separator itself, and the part after it.\n",
      " |\n",
      " |      If the separator is not found, returns a 3-tuple containing two empty strings\n",
      " |      and the original string.\n",
      " |\n",
      " |  rsplit(self, /, sep=None, maxsplit=-1)\n",
      " |      Return a list of the substrings in the string, using sep as the separator string.\n",
      " |\n",
      " |        sep\n",
      " |          The separator used to split the string.\n",
      " |\n",
      " |          When set to None (the default value), will split on any whitespace\n",
      " |          character (including \\n \\r \\t \\f and spaces) and will discard\n",
      " |          empty strings from the result.\n",
      " |        maxsplit\n",
      " |          Maximum number of splits.\n",
      " |          -1 (the default value) means no limit.\n",
      " |\n",
      " |      Splitting starts at the end of the string and works to the front.\n",
      " |\n",
      " |  rstrip(self, chars=None, /)\n",
      " |      Return a copy of the string with trailing whitespace removed.\n",
      " |\n",
      " |      If chars is given and not None, remove characters in chars instead.\n",
      " |\n",
      " |  split(self, /, sep=None, maxsplit=-1)\n",
      " |      Return a list of the substrings in the string, using sep as the separator string.\n",
      " |\n",
      " |        sep\n",
      " |          The separator used to split the string.\n",
      " |\n",
      " |          When set to None (the default value), will split on any whitespace\n",
      " |          character (including \\n \\r \\t \\f and spaces) and will discard\n",
      " |          empty strings from the result.\n",
      " |        maxsplit\n",
      " |          Maximum number of splits.\n",
      " |          -1 (the default value) means no limit.\n",
      " |\n",
      " |      Splitting starts at the front of the string and works to the end.\n",
      " |\n",
      " |      Note, str.split() is mainly useful for data that has been intentionally\n",
      " |      delimited.  With natural text that includes punctuation, consider using\n",
      " |      the regular expression module.\n",
      " |\n",
      " |  splitlines(self, /, keepends=False)\n",
      " |      Return a list of the lines in the string, breaking at line boundaries.\n",
      " |\n",
      " |      Line breaks are not included in the resulting list unless keepends is given and\n",
      " |      true.\n",
      " |\n",
      " |  startswith(...)\n",
      " |      S.startswith(prefix[, start[, end]]) -> bool\n",
      " |\n",
      " |      Return True if S starts with the specified prefix, False otherwise.\n",
      " |      With optional start, test S beginning at that position.\n",
      " |      With optional end, stop comparing S at that position.\n",
      " |      prefix can also be a tuple of strings to try.\n",
      " |\n",
      " |  strip(self, chars=None, /)\n",
      " |      Return a copy of the string with leading and trailing whitespace removed.\n",
      " |\n",
      " |      If chars is given and not None, remove characters in chars instead.\n",
      " |\n",
      " |  swapcase(self, /)\n",
      " |      Convert uppercase characters to lowercase and lowercase characters to uppercase.\n",
      " |\n",
      " |  title(self, /)\n",
      " |      Return a version of the string where each word is titlecased.\n",
      " |\n",
      " |      More specifically, words start with uppercased characters and all remaining\n",
      " |      cased characters have lower case.\n",
      " |\n",
      " |  translate(self, table, /)\n",
      " |      Replace each character in the string using the given translation table.\n",
      " |\n",
      " |        table\n",
      " |          Translation table, which must be a mapping of Unicode ordinals to\n",
      " |          Unicode ordinals, strings, or None.\n",
      " |\n",
      " |      The table must implement lookup/indexing via __getitem__, for instance a\n",
      " |      dictionary or list.  If this operation raises LookupError, the character is\n",
      " |      left untouched.  Characters mapped to None are deleted.\n",
      " |\n",
      " |  upper(self, /)\n",
      " |      Return a copy of the string converted to uppercase.\n",
      " |\n",
      " |  zfill(self, width, /)\n",
      " |      Pad a numeric string with zeros on the left, to fill a field of the given width.\n",
      " |\n",
      " |      The string is never truncated.\n",
      " |\n",
      " |  ----------------------------------------------------------------------\n",
      " |  Static methods defined here:\n",
      " |\n",
      " |  __new__(*args, **kwargs)\n",
      " |      Create and return a new object.  See help(type) for accurate signature.\n",
      " |\n",
      " |  maketrans(...)\n",
      " |      Return a translation table usable for str.translate().\n",
      " |\n",
      " |      If there is only one argument, it must be a dictionary mapping Unicode\n",
      " |      ordinals (integers) or characters to Unicode ordinals, strings or None.\n",
      " |      Character keys will be then converted to ordinals.\n",
      " |      If there are two arguments, they must be strings of equal length, and\n",
      " |      in the resulting dictionary, each character in x will be mapped to the\n",
      " |      character at the same position in y. If there is a third argument, it\n",
      " |      must be a string, whose characters will be mapped to None in the result.\n",
      "\n",
      "None\n"
     ]
    }
   ],
   "source": [
    "print(help(str))"
   ]
  },
  {
   "cell_type": "markdown",
   "id": "8e6cbe5b-3cff-4259-b565-9527bda54e7d",
   "metadata": {},
   "source": [
    "# validate user input exercise\n",
    "1. username is no more than 12 characters\n",
    "2. username must not contain spaces\n",
    "3. username must not contain digits"
   ]
  },
  {
   "cell_type": "code",
   "execution_count": 131,
   "id": "2fa9e574-dc01-4ee0-9a83-cc23d02cf4d4",
   "metadata": {},
   "outputs": [
    {
     "name": "stdin",
     "output_type": "stream",
     "text": [
      "enter your username:  simon j \n"
     ]
    },
    {
     "name": "stdout",
     "output_type": "stream",
     "text": [
      " should not contain spaces\n"
     ]
    }
   ],
   "source": [
    "username=input(\"enter your username: \")\n",
    "\n",
    "if len(username)>12:\n",
    "    print(\"your username must not be more than 12 characters\")\n",
    "elif not username.find(\" \")==-1:\n",
    "    print(\" should not contain spaces\")\n",
    "elif not username.isalpha():\n",
    "    print(\"no number\")\n",
    "else:\n",
    "    print(f\"welcome {username}\")"
   ]
  },
  {
   "cell_type": "markdown",
   "id": "acde7574-71e5-4abf-8bc7-cb55281f6371",
   "metadata": {},
   "source": [
    "# string indexing"
   ]
  },
  {
   "cell_type": "markdown",
   "id": "d15ffbbd-a558-42ff-9d7c-e1e82cb2e898",
   "metadata": {},
   "source": [
    "indexing=accessing elements of a sequence using [  ]\n",
    "         [start : end : stop]"
   ]
  },
  {
   "cell_type": "code",
   "execution_count": 3,
   "id": "8ccda01d-b4eb-4302-9a5f-55ec09a5f4aa",
   "metadata": {},
   "outputs": [
    {
     "name": "stdout",
     "output_type": "stream",
     "text": [
      "2\n"
     ]
    }
   ],
   "source": [
    "credit_number=\"1234-5678-9012-3425\"\n",
    "print(credit_number[1])"
   ]
  },
  {
   "cell_type": "code",
   "execution_count": 139,
   "id": "c9ed7384-32ce-4283-b8b5-62cf47dd8e8a",
   "metadata": {},
   "outputs": [
    {
     "name": "stdout",
     "output_type": "stream",
     "text": [
      "1234\n",
      "5678\n",
      "5678-9012-3425\n",
      "4783-5678-9012-3425\n"
     ]
    }
   ],
   "source": [
    "credit_number=\"1234-5678-9012-3425\"\n",
    "print(credit_number[0:4]) \n",
    "print(credit_number[5:9])\n",
    "print(credit_number[5:])\n",
    "print(credit_number.replace(credit_number[:5],\"4783-\"))"
   ]
  },
  {
   "cell_type": "markdown",
   "id": "ec4e24e9-2610-429b-8e6c-8f4f995ea586",
   "metadata": {},
   "source": [
    "# [ 0 : 4 ]  is same as [ : 4 ]"
   ]
  },
  {
   "cell_type": "code",
   "execution_count": 144,
   "id": "0e09e608-65f3-4375-aba6-3bbd61082f85",
   "metadata": {},
   "outputs": [
    {
     "name": "stdout",
     "output_type": "stream",
     "text": [
      "5\n",
      "-\n",
      "146-135\n",
      "3425\n"
     ]
    }
   ],
   "source": [
    "credit_number=\"1234-5678-9012-3425\"\n",
    "print(credit_number[-1])\n",
    "print(credit_number[-5])\n",
    "\n",
    "\n",
    "print(credit_number[::3])\n",
    "\n",
    "last_digits=credit_number[-4:]\n",
    "print(last_digits)"
   ]
  },
  {
   "cell_type": "code",
   "execution_count": 145,
   "id": "e2671060-3c43-4d64-9f0c-191cf24d3c34",
   "metadata": {},
   "outputs": [
    {
     "name": "stdout",
     "output_type": "stream",
     "text": [
      "5243-2109-8765-4321\n"
     ]
    }
   ],
   "source": [
    "#reversing\n",
    "\n",
    "credit_number=\"1234-5678-9012-3425\"\n",
    "print(credit_number[::-1])"
   ]
  },
  {
   "cell_type": "markdown",
   "id": "85abd4b4-d5b8-4bb5-bae2-e75e1f043408",
   "metadata": {},
   "source": [
    "# format specifiers={value:flags} format a value based on what flage are inserted"
   ]
  },
  {
   "cell_type": "code",
   "execution_count": 149,
   "id": "fbe5e27e-e562-4e2e-bc97-48095edac94b",
   "metadata": {},
   "outputs": [
    {
     "name": "stdout",
     "output_type": "stream",
     "text": [
      "price 1 is3.14\n",
      "price 2 is-647.37\n",
      "price 3 is12.50\n",
      "price 1 is   3.14159\n",
      "price 2 is -647.3737\n",
      "price 3 is      12.5\n",
      "price 1 is0003.14159\n",
      "price 2 is-0647.3737\n",
      "price 3 is00000012.5\n"
     ]
    }
   ],
   "source": [
    "price1=3.14159\n",
    "price2=-647.3737\n",
    "price3=12.5\n",
    "# decimal flags\n",
    "print(f\"price 1 is{price1:.2f}\")\n",
    "print(f\"price 2 is{price2:.2f}\")\n",
    "print(f\"price 3 is{price3:.2f}\")\n",
    "#padding\n",
    "print(f\"price 1 is{price1:10}\")\n",
    "print(f\"price 2 is{price2:10}\")\n",
    "print(f\"price 3 is{price3:10}\")\n",
    "\n",
    "print(f\"price 1 is{price1:010}\")\n",
    "print(f\"price 2 is{price2:010}\")\n",
    "print(f\"price 3 is{price3:010}\")"
   ]
  },
  {
   "cell_type": "markdown",
   "id": "ce072227-5e46-4565-a867-2bd4c0c70b31",
   "metadata": {},
   "source": [
    "# while loop"
   ]
  },
  {
   "cell_type": "markdown",
   "id": "530153ff-253d-407f-8159-2e23bc6d8f57",
   "metadata": {},
   "source": [
    "execute some code WHILE some conditions remain true"
   ]
  },
  {
   "cell_type": "code",
   "execution_count": 6,
   "id": "682aa2c1-62f9-430b-8fcf-1551e251d087",
   "metadata": {},
   "outputs": [
    {
     "name": "stdin",
     "output_type": "stream",
     "text": [
      "enter your name \n"
     ]
    },
    {
     "name": "stdout",
     "output_type": "stream",
     "text": [
      "you did not enter your name\n"
     ]
    },
    {
     "name": "stdin",
     "output_type": "stream",
     "text": [
      "enter your name simon\n"
     ]
    },
    {
     "name": "stdout",
     "output_type": "stream",
     "text": [
      "hello simon\n"
     ]
    }
   ],
   "source": [
    "name=input(\"enter your name\")\n",
    "while name==\"\":\n",
    "    print(\"you did not enter your name\")\n",
    "    name=input(\"enter your name\")\n",
    "print(f\"hello {name}\")"
   ]
  },
  {
   "cell_type": "code",
   "execution_count": 2,
   "id": "c4b331e1-0dd4-4d6d-b4b8-b452befc0af8",
   "metadata": {},
   "outputs": [
    {
     "name": "stdin",
     "output_type": "stream",
     "text": [
      "enter your age -1\n"
     ]
    },
    {
     "name": "stdout",
     "output_type": "stream",
     "text": [
      "age cannot be negative\n"
     ]
    },
    {
     "name": "stdin",
     "output_type": "stream",
     "text": [
      "enter your age -2\n"
     ]
    },
    {
     "name": "stdout",
     "output_type": "stream",
     "text": [
      "age cannot be negative\n"
     ]
    },
    {
     "name": "stdin",
     "output_type": "stream",
     "text": [
      "enter your age 23\n"
     ]
    },
    {
     "name": "stdout",
     "output_type": "stream",
     "text": [
      "you are 23 years old\n"
     ]
    }
   ],
   "source": [
    "age=int(input(\"enter your age\"))\n",
    "while age<0:\n",
    "    print(\"age cannot be negative\")\n",
    "    age=int(input(\"enter your age\"))\n",
    "print(f\"you are {age} years old\")"
   ]
  },
  {
   "cell_type": "code",
   "execution_count": null,
   "id": "7fa4399d-37ed-45da-b9fe-9ade16961838",
   "metadata": {},
   "outputs": [],
   "source": [
    "num=int(input(\"enter a number between 1-10\"))\n",
    "\n",
    "while num<1 or num>10:\n",
    "    print(\"not valid\")\n",
    "    num=int(input(\"enter a number between 1-10\"))\n",
    "print(f\"your number is {num}\")"
   ]
  },
  {
   "cell_type": "markdown",
   "id": "76ab5f92-6f08-4f78-9c70-5c41f37fd7a5",
   "metadata": {},
   "source": [
    "# python compound interest calculator"
   ]
  },
  {
   "cell_type": "code",
   "execution_count": 7,
   "id": "51e25681-9aff-44da-be74-f4f11c536f27",
   "metadata": {},
   "outputs": [
    {
     "name": "stdin",
     "output_type": "stream",
     "text": [
      "enter the principle amount:  0\n"
     ]
    },
    {
     "name": "stdout",
     "output_type": "stream",
     "text": [
      "principle amount cant be less than or equal to 0\n"
     ]
    },
    {
     "name": "stdin",
     "output_type": "stream",
     "text": [
      "enter the principle amount:  0\n"
     ]
    },
    {
     "name": "stdout",
     "output_type": "stream",
     "text": [
      "principle amount cant be less than or equal to 0\n"
     ]
    },
    {
     "name": "stdin",
     "output_type": "stream",
     "text": [
      "enter the principle amount:  10\n",
      "enter the rate:  1\n",
      "enter the time:  1\n"
     ]
    },
    {
     "name": "stdout",
     "output_type": "stream",
     "text": [
      "balance after 1 years : $10.100000\n"
     ]
    }
   ],
   "source": [
    "principle=0\n",
    "rate=0\n",
    "time=0\n",
    "\n",
    "while principle<=0:\n",
    "    principle=float(input(\"enter the principle amount: \"))\n",
    "    if principle<=0:\n",
    "        print(\"principle amount cant be less than or equal to 0\")\n",
    "while rate<=0:\n",
    "    rate=float(input(\"enter the rate: \"))\n",
    "    if rate<=0:\n",
    "        print(\"rate cant be less than or equal to 0\")\n",
    "while time<=0:\n",
    "    time=int(input(\"enter the time: \"))\n",
    "    if time<=0:\n",
    "        print(\"time cant be less than or equal to 0\")\n",
    "total=principle*pow(1+rate/100,time)\n",
    "print(f\"balance after {time} years : ${total:2f}\")"
   ]
  },
  {
   "cell_type": "code",
   "execution_count": 8,
   "id": "134c3ae9-46a3-4d73-81cc-9c6e207d62a7",
   "metadata": {},
   "outputs": [
    {
     "name": "stdin",
     "output_type": "stream",
     "text": [
      "enter the principle amount:  0\n",
      "enter the rate:  0\n",
      "enter the time:  0\n"
     ]
    },
    {
     "name": "stdout",
     "output_type": "stream",
     "text": [
      "balance after 0 years : $0.000000\n"
     ]
    }
   ],
   "source": [
    "principle=0\n",
    "rate=0\n",
    "time=0\n",
    "\n",
    "while True:\n",
    "    principle=float(input(\"enter the principle amount: \"))\n",
    "    if principle<0:\n",
    "        print(\"principle amount cant be less than or equal to 0\")\n",
    "    else:\n",
    "        break\n",
    "        \n",
    "while True:\n",
    "    rate=float(input(\"enter the rate: \"))\n",
    "    if rate<0:\n",
    "        print(\"rate cant be less than or equal to 0\")\n",
    "    else:\n",
    "        break\n",
    "while True:\n",
    "    time=int(input(\"enter the time: \"))\n",
    "    if time<0:\n",
    "        print(\"time cant be less than or equal to 0\")\n",
    "    else:\n",
    "        break\n",
    "total=principle*pow(1+rate/100,time)\n",
    "print(f\"balance after {time} years : ${total:2f}\")"
   ]
  },
  {
   "cell_type": "code",
   "execution_count": 9,
   "id": "6f2df8dc-3c52-42c9-b13a-1fa603e91839",
   "metadata": {},
   "outputs": [],
   "source": [
    "# while True = means your loop runs infinitely"
   ]
  },
  {
   "cell_type": "markdown",
   "id": "c740f592-291c-4d67-9701-c848f7f9b8a3",
   "metadata": {},
   "source": [
    "# for loops = execute a block of code a fixed number of times.You can iterate over a range ,string,sequence,etc"
   ]
  },
  {
   "cell_type": "code",
   "execution_count": 10,
   "id": "c054f21a-b0f2-436d-a875-450958b70964",
   "metadata": {},
   "outputs": [
    {
     "name": "stdout",
     "output_type": "stream",
     "text": [
      "1\n",
      "2\n",
      "3\n",
      "4\n",
      "5\n",
      "6\n",
      "7\n",
      "8\n",
      "9\n"
     ]
    }
   ],
   "source": [
    "for x in range(1,10):\n",
    "    print(x)"
   ]
  },
  {
   "cell_type": "code",
   "execution_count": 11,
   "id": "d9597208-5387-47bf-b3b0-5f7100af6124",
   "metadata": {},
   "outputs": [
    {
     "name": "stdout",
     "output_type": "stream",
     "text": [
      "1\n",
      "2\n",
      "3\n",
      "4\n",
      "5\n",
      "6\n",
      "7\n",
      "8\n",
      "9\n",
      "10\n"
     ]
    }
   ],
   "source": [
    "for x in range(1,11):\n",
    "    print(x)"
   ]
  },
  {
   "cell_type": "code",
   "execution_count": 12,
   "id": "3f1793e7-03ef-4efc-95f0-b9f0bb80f016",
   "metadata": {},
   "outputs": [],
   "source": [
    "# it excludes the last number or item\n",
    "#When to Use range in a for Loop\n",
    "#The range() function is used when you need to iterate over a sequence of numbers or control the loop with an explicit index.\n",
    "#When NOT to Use range\n",
    "#You don’t need range when you’re iterating over an iterable object (e.g., lists, strings, dictionaries) directly. \n",
    "#Python allows you to iterate over these objects without explicitly using indices.\n",
    "#Iterating Over a List or Tuple:"
   ]
  },
  {
   "cell_type": "code",
   "execution_count": 3,
   "id": "549e8fe2-0c9f-4e85-96be-1ac0817251de",
   "metadata": {},
   "outputs": [
    {
     "name": "stdout",
     "output_type": "stream",
     "text": [
      "10\n",
      "9\n",
      "8\n",
      "7\n",
      "6\n",
      "5\n",
      "4\n",
      "3\n",
      "2\n",
      "1\n"
     ]
    }
   ],
   "source": [
    "for x in reversed(range(1,11)):\n",
    "    print(x)"
   ]
  },
  {
   "cell_type": "code",
   "execution_count": 4,
   "id": "464ffef0-6e30-4bf1-a7b4-65df870adc28",
   "metadata": {},
   "outputs": [
    {
     "name": "stdout",
     "output_type": "stream",
     "text": [
      "0\n",
      "1\n",
      "2\n",
      "3\n",
      "4\n",
      "5\n",
      "6\n",
      "7\n",
      "8\n",
      "9\n"
     ]
    }
   ],
   "source": [
    "for x in range(0,10):\n",
    "    print(x)"
   ]
  },
  {
   "cell_type": "markdown",
   "id": "aff8967d-b199-4a01-b162-bed4debe05fa",
   "metadata": {},
   "source": [
    " we can also include the step function"
   ]
  },
  {
   "cell_type": "code",
   "execution_count": 5,
   "id": "126489b6-1e74-4bba-be3c-9e1847173d35",
   "metadata": {},
   "outputs": [
    {
     "name": "stdout",
     "output_type": "stream",
     "text": [
      "1\n",
      "4\n",
      "7\n",
      "10\n"
     ]
    }
   ],
   "source": [
    "for x in range(1,11,3):\n",
    "    print(x)"
   ]
  },
  {
   "cell_type": "code",
   "execution_count": 7,
   "id": "a0ce0cea-d48f-43d3-a842-f86eb0ce72e0",
   "metadata": {},
   "outputs": [
    {
     "ename": "TypeError",
     "evalue": "'int' object is not iterable",
     "output_type": "error",
     "traceback": [
      "\u001b[1;31m---------------------------------------------------------------------------\u001b[0m",
      "\u001b[1;31mTypeError\u001b[0m                                 Traceback (most recent call last)",
      "Cell \u001b[1;32mIn[7], line 2\u001b[0m\n\u001b[0;32m      1\u001b[0m number\u001b[38;5;241m=\u001b[39m\u001b[38;5;241m1234567893546\u001b[39m\n\u001b[1;32m----> 2\u001b[0m \u001b[38;5;28;43;01mfor\u001b[39;49;00m\u001b[43m \u001b[49m\u001b[43mx\u001b[49m\u001b[43m \u001b[49m\u001b[38;5;129;43;01min\u001b[39;49;00m\u001b[43m \u001b[49m\u001b[43mnumber\u001b[49m\u001b[43m:\u001b[49m\n\u001b[0;32m      3\u001b[0m \u001b[43m    \u001b[49m\u001b[38;5;28;43mprint\u001b[39;49m\u001b[43m(\u001b[49m\u001b[43mx\u001b[49m\u001b[43m)\u001b[49m\n",
      "\u001b[1;31mTypeError\u001b[0m: 'int' object is not iterable"
     ]
    }
   ],
   "source": [
    "number=1234567893546\n",
    "for x in number:\n",
    "    print(x)"
   ]
  },
  {
   "cell_type": "markdown",
   "id": "a79bef26-3ca1-483d-a354-cde09c0b9f72",
   "metadata": {},
   "source": [
    "The error occurs because you are trying to iterate over an integer. The variable number is assigned as an integer (or a numeric literal with dashes, which isn't a valid integer format). Python can't directly iterate over integers."
   ]
  },
  {
   "cell_type": "code",
   "execution_count": 8,
   "id": "b63035fa-2a3e-40de-b167-157e03c06891",
   "metadata": {},
   "outputs": [
    {
     "name": "stdout",
     "output_type": "stream",
     "text": [
      "1\n",
      "2\n",
      "3\n",
      "4\n",
      "-\n",
      "5\n",
      "6\n",
      "7\n",
      "8\n",
      "-\n",
      "9\n",
      "3\n",
      "5\n",
      "4\n",
      "6\n"
     ]
    }
   ],
   "source": [
    "number = \"1234-5678-93546\"  # treat the number as a string\n",
    "for x in number:\n",
    "    print(x)\n"
   ]
  },
  {
   "cell_type": "markdown",
   "id": "d157454c-37b0-49a6-a190-6a1ae9e722e6",
   "metadata": {},
   "source": [
    "# continue"
   ]
  },
  {
   "cell_type": "code",
   "execution_count": 9,
   "id": "4a042055-5979-4be5-8a79-92b9ff531f45",
   "metadata": {},
   "outputs": [
    {
     "name": "stdout",
     "output_type": "stream",
     "text": [
      "1\n",
      "2\n",
      "3\n",
      "4\n",
      "5\n",
      "6\n",
      "7\n",
      "8\n",
      "9\n",
      "10\n",
      "11\n",
      "12\n",
      "14\n",
      "15\n",
      "16\n",
      "17\n",
      "18\n",
      "19\n",
      "20\n"
     ]
    }
   ],
   "source": [
    "for x in range(1,21):\n",
    "    if x==13:\n",
    "        continue\n",
    "    else:\n",
    "        print(x)"
   ]
  },
  {
   "cell_type": "markdown",
   "id": "49c747e7-7317-41e8-a5a3-c73072af5f10",
   "metadata": {},
   "source": [
    "# countdown program"
   ]
  },
  {
   "cell_type": "code",
   "execution_count": 8,
   "id": "bbe2c98d-b038-4fc4-b619-19a032931eea",
   "metadata": {},
   "outputs": [
    {
     "name": "stdout",
     "output_type": "stream",
     "text": [
      "times up\n"
     ]
    }
   ],
   "source": [
    "import time\n",
    "\n",
    "time.sleep(3)\n",
    "print(\"times up\")"
   ]
  },
  {
   "cell_type": "code",
   "execution_count": 12,
   "id": "3d0e3fc1-7e22-484a-a61a-e1d26d9add47",
   "metadata": {},
   "outputs": [
    {
     "name": "stdin",
     "output_type": "stream",
     "text": [
      "enter the time in seconds 9\n"
     ]
    },
    {
     "name": "stdout",
     "output_type": "stream",
     "text": [
      "0\n",
      "1\n",
      "2\n",
      "3\n",
      "4\n",
      "5\n",
      "6\n",
      "7\n",
      "8\n",
      "times up\n"
     ]
    }
   ],
   "source": [
    "import time\n",
    "\n",
    "my_time=int(input(\"enter the time in seconds\"))\n",
    "for x in range(0,my_time):\n",
    "    print(x)\n",
    "    time.sleep(1)\n",
    "print(\"times up\")"
   ]
  },
  {
   "cell_type": "code",
   "execution_count": 15,
   "id": "5d4bf731-fa75-407b-b496-12402beea5de",
   "metadata": {},
   "outputs": [
    {
     "name": "stdin",
     "output_type": "stream",
     "text": [
      "enter the time in seconds 4\n"
     ]
    },
    {
     "name": "stdout",
     "output_type": "stream",
     "text": [
      "00:00:03\n",
      "00:00:02\n",
      "00:00:01\n",
      "00:00:00\n",
      "times up\n"
     ]
    }
   ],
   "source": [
    "import time\n",
    "\n",
    "my_time=int(input(\"enter the time in seconds\"))\n",
    "for x in reversed(range(0,my_time)):\n",
    "    seconds=x%60\n",
    "    minutes=int(x/60)%60\n",
    "    hours=int(x/3600)\n",
    "    print(f\"{hours:02}:{minutes:02}:{seconds:02}\")\n",
    "    time.sleep(1)\n",
    "print(\"times up\")"
   ]
  },
  {
   "cell_type": "markdown",
   "id": "699b3465-a692-4f27-8dba-81a1451e5868",
   "metadata": {},
   "source": [
    "# nested loops = A loop within another loop (outer,inner)\n",
    "#                outer loop\n",
    "\n",
    "#                           inner loop:"
   ]
  },
  {
   "cell_type": "code",
   "execution_count": 17,
   "id": "20891227-0caa-4cf8-bd2e-39fc93483bde",
   "metadata": {},
   "outputs": [
    {
     "name": "stdout",
     "output_type": "stream",
     "text": [
      "1\n",
      "2\n",
      "3\n",
      "4\n",
      "5\n",
      "6\n",
      "7\n",
      "8\n",
      "9\n"
     ]
    }
   ],
   "source": [
    "for x in range (1,10):\n",
    "    print(x)"
   ]
  },
  {
   "cell_type": "code",
   "execution_count": 18,
   "id": "b375ce23-d4eb-45e3-8404-4b46fb6d88a1",
   "metadata": {},
   "outputs": [
    {
     "name": "stdout",
     "output_type": "stream",
     "text": [
      "123456789"
     ]
    }
   ],
   "source": [
    "for x in range (1,10):\n",
    "    print(x,end=\"\")"
   ]
  },
  {
   "cell_type": "code",
   "execution_count": 20,
   "id": "f73a2bfc-f017-4a3a-b8c3-d09ed900b5a4",
   "metadata": {},
   "outputs": [
    {
     "name": "stdout",
     "output_type": "stream",
     "text": [
      "123456789123456789123456789"
     ]
    }
   ],
   "source": [
    "for x in range(3):\n",
    "    for y in range(1,10):\n",
    "        print(y,end=\"\")"
   ]
  },
  {
   "cell_type": "code",
   "execution_count": 21,
   "id": "168877c6-0405-4474-a62c-61ab24e48990",
   "metadata": {},
   "outputs": [
    {
     "name": "stdout",
     "output_type": "stream",
     "text": [
      "123456789\n",
      "123456789\n",
      "123456789\n"
     ]
    }
   ],
   "source": [
    "for x in range(3):\n",
    "    for y in range(1,10):\n",
    "        print(y,end=\"\")\n",
    "    print()"
   ]
  },
  {
   "cell_type": "code",
   "execution_count": 9,
   "id": "89d4db37-e907-4de7-84af-d5386c0276c7",
   "metadata": {},
   "outputs": [
    {
     "name": "stdin",
     "output_type": "stream",
     "text": [
      "enter the no. of rows 3\n",
      "enter the no. of columns 4\n",
      "enter any symbol %\n"
     ]
    },
    {
     "name": "stdout",
     "output_type": "stream",
     "text": [
      "%%%%\n",
      "%%%%\n",
      "%%%%\n"
     ]
    }
   ],
   "source": [
    "rows=int(input(\"enter the no. of rows\"))\n",
    "col=int(input(\"enter the no. of columns\"))\n",
    "symbol=input(\"enter any symbol\")\n",
    "\n",
    "for x in range(rows):\n",
    "    for y in range(col):\n",
    "        print(symbol,end=\"\")\n",
    "    print()"
   ]
  },
  {
   "cell_type": "code",
   "execution_count": 32,
   "id": "d8f26708-19b5-4164-b5a5-d095cf008a0a",
   "metadata": {},
   "outputs": [
    {
     "name": "stdin",
     "output_type": "stream",
     "text": [
      "enter the number 4\n"
     ]
    },
    {
     "name": "stdout",
     "output_type": "stream",
     "text": [
      "1\n",
      "12\n",
      "123\n",
      "1234\n"
     ]
    }
   ],
   "source": [
    "n=int(input(\"enter the number\"))\n",
    "\n",
    "for x in range(1,n+1):\n",
    "    for y in range(1,x+1):\n",
    "        print(y,end=\"\")\n",
    "    print()"
   ]
  },
  {
   "cell_type": "markdown",
   "id": "94d0c556-bef8-4c14-9357-4817a17d3b31",
   "metadata": {},
   "source": [
    "Let’s assume n = 4 as an example input. Now, let’s break down the iterations step by step.\n",
    "\n",
    "First Loop (for x in range(1, n+1)):\n",
    "This loop controls the rows. It will run from x = 1 to x = n (which is 4 in this case).\n",
    "\n",
    "1st Iteration of the Outer Loop (x = 1):\n",
    "The range for x is from 1 to 4+1 = 5, so the outer loop starts with x = 1.\n",
    "\n",
    "Now, the inner loop starts:\n",
    "\n",
    "Inner Loop (for y in range(1, x+1)):\n",
    "\n",
    "Here x = 1, so the inner loop will run from y = 1 to y = 1 (since x+1 = 2).\n",
    "\n",
    "1st Iteration of Inner Loop: y = 1\n",
    "\n",
    "It prints 1 without moving to the next line because of end=\"\".\n",
    "After the inner loop finishes, print() moves the output to the next line.\n",
    "\n",
    "Output so far:\n",
    "\n",
    "Copy code\n",
    "1\n",
    "2nd Iteration of the Outer Loop (x = 2):\n",
    "The outer loop moves to the next iteration with x = 2.\n",
    "\n",
    "Now, the inner loop starts:\n",
    "\n",
    "Inner Loop (for y in range(1, x+1)):\n",
    "\n",
    "Here x = 2, so the inner loop will run from y = 1 to y = 2 (since x+1 = 3).\n",
    "\n",
    "1st Iteration of Inner Loop: y = 1\n",
    "\n",
    "It prints 1 without moving to the next line.\n",
    "2nd Iteration of Inner Loop: y = 2\n",
    "\n",
    "It prints 2 right after 1 (still on the same line).\n",
    "After the inner loop finishes, print() moves to the next line.\n",
    "\n",
    "Output so far:\n",
    "\n",
    "Copy code\n",
    "1\n",
    "12\n",
    "3rd Iteration of the Outer Loop (x = 3):\n",
    "The outer loop moves to the next iteration with x = 3.\n",
    "\n",
    "Now, the inner loop starts:\n",
    "\n",
    "Inner Loop (for y in range(1, x+1)):\n",
    "\n",
    "Here x = 3, so the inner loop will run from y = 1 to y = 3 (since x+1 = 4).\n",
    "\n",
    "1st Iteration of Inner Loop: y = 1\n",
    "\n",
    "It prints 1.\n",
    "2nd Iteration of Inner Loop: y = 2\n",
    "\n",
    "It prints 2 right after 1.\n",
    "3rd Iteration of Inner Loop: y = 3\n",
    "\n",
    "It prints 3 right after 2.\n",
    "After the inner loop finishes, print() moves to the next line.\n",
    "\n",
    "Output so far:\n",
    "\n",
    "Copy code\n",
    "1\n",
    "12\n",
    "123\n",
    "4th Iteration of the Outer Loop (x = 4):\n",
    "The outer loop moves to the next iteration with x = 4.\n",
    "\n",
    "Now, the inner loop starts:\n",
    "\n",
    "Inner Loop (for y in range(1, x+1)):\n",
    "\n",
    "Here x = 4, so the inner loop will run from y = 1 to y = 4 (since x+1 = 5).\n",
    "\n",
    "1st Iteration of Inner Loop: y = 1\n",
    "\n",
    "It prints 1.\n",
    "2nd Iteration of Inner Loop: y = 2\n",
    "\n",
    "It prints 2 right after 1.\n",
    "3rd Iteration of Inner Loop: y = 3\n",
    "\n",
    "It prints 3 right after 2.\n",
    "4th Iteration of Inner Loop: y = 4\n",
    "\n",
    "It prints 4 right after 3.\n",
    "After the inner loop finishes, print() moves to the next line.\n",
    "\n",
    "Final Output:\n",
    "\n",
    "yaml\n",
    "Copy code\n",
    "1\n",
    "12\n",
    "123\n",
    "1234\n",
    "Conclusion:\n",
    "The outer loop controls how many rows will be printed, starting from x = 1 up to n.\n",
    "The inner loop controls how many numbers will be printed in each row. It runs from 1 to the current row number x.\n",
    "Each row prints the numbers from 1 to x, and then the print() moves to a new line.\n",
    "For every new row, one more number is printed than the previous row."
   ]
  },
  {
   "cell_type": "markdown",
   "id": "deb348ee-7199-4ad6-b2dd-06a9520f3a5d",
   "metadata": {},
   "source": [
    "# collection = single \"variable\" used to store multiple values\n",
    "# list =[] ordered and changeable. DUPLICATES OK\n",
    "# set = {} unordered and immutable, but Add/Remove OK ,NO DUPLICTES\n",
    "# tuple=() ordered and unchangeable ,duplicates OK, FASTER"
   ]
  },
  {
   "cell_type": "code",
   "execution_count": 34,
   "id": "eda2aa90-3148-4efd-9d44-00b4bab4a0cc",
   "metadata": {},
   "outputs": [
    {
     "name": "stdout",
     "output_type": "stream",
     "text": [
      "['apple', 'orange', 'banana', 'coconut']\n"
     ]
    }
   ],
   "source": [
    "# COLLECTION\n",
    "\n",
    "\n",
    "#list\n",
    "fruit=[\"apple\",\"orange\",\"banana\",\"coconut\"]\n",
    "print(fruit)"
   ]
  },
  {
   "cell_type": "code",
   "execution_count": 35,
   "id": "814e7acb-7002-47db-822e-459094e85195",
   "metadata": {},
   "outputs": [
    {
     "name": "stdout",
     "output_type": "stream",
     "text": [
      "orange\n"
     ]
    }
   ],
   "source": [
    "fruit=[\"apple\",\"orange\",\"banana\",\"coconut\"]\n",
    "print(fruit[1])"
   ]
  },
  {
   "cell_type": "code",
   "execution_count": 36,
   "id": "91672a9f-6ce3-4eaf-b0d0-4275224e3ebb",
   "metadata": {},
   "outputs": [
    {
     "ename": "IndexError",
     "evalue": "list index out of range",
     "output_type": "error",
     "traceback": [
      "\u001b[1;31m---------------------------------------------------------------------------\u001b[0m",
      "\u001b[1;31mIndexError\u001b[0m                                Traceback (most recent call last)",
      "Cell \u001b[1;32mIn[36], line 2\u001b[0m\n\u001b[0;32m      1\u001b[0m fruit\u001b[38;5;241m=\u001b[39m[\u001b[38;5;124m\"\u001b[39m\u001b[38;5;124mapple\u001b[39m\u001b[38;5;124m\"\u001b[39m,\u001b[38;5;124m\"\u001b[39m\u001b[38;5;124morange\u001b[39m\u001b[38;5;124m\"\u001b[39m,\u001b[38;5;124m\"\u001b[39m\u001b[38;5;124mbanana\u001b[39m\u001b[38;5;124m\"\u001b[39m,\u001b[38;5;124m\"\u001b[39m\u001b[38;5;124mcoconut\u001b[39m\u001b[38;5;124m\"\u001b[39m]\n\u001b[1;32m----> 2\u001b[0m \u001b[38;5;28mprint\u001b[39m(\u001b[43mfruit\u001b[49m\u001b[43m[\u001b[49m\u001b[38;5;241;43m4\u001b[39;49m\u001b[43m]\u001b[49m)\n",
      "\u001b[1;31mIndexError\u001b[0m: list index out of range"
     ]
    }
   ],
   "source": [
    "fruit=[\"apple\",\"orange\",\"banana\",\"coconut\"]\n",
    "print(fruit[4])"
   ]
  },
  {
   "cell_type": "code",
   "execution_count": 37,
   "id": "ef8988a5-cc89-4f6f-b5ae-0a1a3adceba6",
   "metadata": {},
   "outputs": [
    {
     "name": "stdout",
     "output_type": "stream",
     "text": [
      "['apple', 'orange', 'banana']\n"
     ]
    }
   ],
   "source": [
    "fruit=[\"apple\",\"orange\",\"banana\",\"coconut\"]\n",
    "print(fruit[0:3])"
   ]
  },
  {
   "cell_type": "code",
   "execution_count": 38,
   "id": "1682fa75-ca91-4379-8567-839152cf9625",
   "metadata": {},
   "outputs": [
    {
     "name": "stdout",
     "output_type": "stream",
     "text": [
      "['apple', 'banana']\n"
     ]
    }
   ],
   "source": [
    "fruit=[\"apple\",\"orange\",\"banana\",\"coconut\"]\n",
    "print(fruit[::2])"
   ]
  },
  {
   "cell_type": "code",
   "execution_count": 39,
   "id": "3821e6fd-ee80-44e6-94ec-51e64d7234a8",
   "metadata": {},
   "outputs": [
    {
     "name": "stdout",
     "output_type": "stream",
     "text": [
      "apple\n",
      "orange\n",
      "banana\n",
      "coconut\n"
     ]
    }
   ],
   "source": [
    "fruit=[\"apple\",\"orange\",\"banana\",\"coconut\"]\n",
    "for x in fruit:\n",
    "    print(x)"
   ]
  },
  {
   "cell_type": "code",
   "execution_count": 41,
   "id": "ec7c2f44-7d31-47a4-ba05-f415f00c5126",
   "metadata": {},
   "outputs": [
    {
     "name": "stdout",
     "output_type": "stream",
     "text": [
      "apple orange banana coconut "
     ]
    }
   ],
   "source": [
    "fruit=[\"apple\",\"orange\",\"banana\",\"coconut\"]\n",
    "for x in fruit:\n",
    "    print(x,end=\" \")"
   ]
  },
  {
   "cell_type": "code",
   "execution_count": 42,
   "id": "fa9bfa63-a6f7-43c0-9daa-adae8f2d12d5",
   "metadata": {},
   "outputs": [
    {
     "name": "stdout",
     "output_type": "stream",
     "text": [
      "<built-in function dir>\n"
     ]
    }
   ],
   "source": [
    "print(dir)"
   ]
  },
  {
   "cell_type": "code",
   "execution_count": 43,
   "id": "9abe59eb-b83d-40fa-bc96-f4a20da76e27",
   "metadata": {},
   "outputs": [
    {
     "name": "stdout",
     "output_type": "stream",
     "text": [
      "Help on list object:\n",
      "\n",
      "class list(object)\n",
      " |  list(iterable=(), /)\n",
      " |\n",
      " |  Built-in mutable sequence.\n",
      " |\n",
      " |  If no argument is given, the constructor creates a new empty list.\n",
      " |  The argument must be an iterable if specified.\n",
      " |\n",
      " |  Methods defined here:\n",
      " |\n",
      " |  __add__(self, value, /)\n",
      " |      Return self+value.\n",
      " |\n",
      " |  __contains__(self, key, /)\n",
      " |      Return bool(key in self).\n",
      " |\n",
      " |  __delitem__(self, key, /)\n",
      " |      Delete self[key].\n",
      " |\n",
      " |  __eq__(self, value, /)\n",
      " |      Return self==value.\n",
      " |\n",
      " |  __ge__(self, value, /)\n",
      " |      Return self>=value.\n",
      " |\n",
      " |  __getattribute__(self, name, /)\n",
      " |      Return getattr(self, name).\n",
      " |\n",
      " |  __getitem__(self, index, /)\n",
      " |      Return self[index].\n",
      " |\n",
      " |  __gt__(self, value, /)\n",
      " |      Return self>value.\n",
      " |\n",
      " |  __iadd__(self, value, /)\n",
      " |      Implement self+=value.\n",
      " |\n",
      " |  __imul__(self, value, /)\n",
      " |      Implement self*=value.\n",
      " |\n",
      " |  __init__(self, /, *args, **kwargs)\n",
      " |      Initialize self.  See help(type(self)) for accurate signature.\n",
      " |\n",
      " |  __iter__(self, /)\n",
      " |      Implement iter(self).\n",
      " |\n",
      " |  __le__(self, value, /)\n",
      " |      Return self<=value.\n",
      " |\n",
      " |  __len__(self, /)\n",
      " |      Return len(self).\n",
      " |\n",
      " |  __lt__(self, value, /)\n",
      " |      Return self<value.\n",
      " |\n",
      " |  __mul__(self, value, /)\n",
      " |      Return self*value.\n",
      " |\n",
      " |  __ne__(self, value, /)\n",
      " |      Return self!=value.\n",
      " |\n",
      " |  __repr__(self, /)\n",
      " |      Return repr(self).\n",
      " |\n",
      " |  __reversed__(self, /)\n",
      " |      Return a reverse iterator over the list.\n",
      " |\n",
      " |  __rmul__(self, value, /)\n",
      " |      Return value*self.\n",
      " |\n",
      " |  __setitem__(self, key, value, /)\n",
      " |      Set self[key] to value.\n",
      " |\n",
      " |  __sizeof__(self, /)\n",
      " |      Return the size of the list in memory, in bytes.\n",
      " |\n",
      " |  append(self, object, /)\n",
      " |      Append object to the end of the list.\n",
      " |\n",
      " |  clear(self, /)\n",
      " |      Remove all items from list.\n",
      " |\n",
      " |  copy(self, /)\n",
      " |      Return a shallow copy of the list.\n",
      " |\n",
      " |  count(self, value, /)\n",
      " |      Return number of occurrences of value.\n",
      " |\n",
      " |  extend(self, iterable, /)\n",
      " |      Extend list by appending elements from the iterable.\n",
      " |\n",
      " |  index(self, value, start=0, stop=9223372036854775807, /)\n",
      " |      Return first index of value.\n",
      " |\n",
      " |      Raises ValueError if the value is not present.\n",
      " |\n",
      " |  insert(self, index, object, /)\n",
      " |      Insert object before index.\n",
      " |\n",
      " |  pop(self, index=-1, /)\n",
      " |      Remove and return item at index (default last).\n",
      " |\n",
      " |      Raises IndexError if list is empty or index is out of range.\n",
      " |\n",
      " |  remove(self, value, /)\n",
      " |      Remove first occurrence of value.\n",
      " |\n",
      " |      Raises ValueError if the value is not present.\n",
      " |\n",
      " |  reverse(self, /)\n",
      " |      Reverse *IN PLACE*.\n",
      " |\n",
      " |  sort(self, /, *, key=None, reverse=False)\n",
      " |      Sort the list in ascending order and return None.\n",
      " |\n",
      " |      The sort is in-place (i.e. the list itself is modified) and stable (i.e. the\n",
      " |      order of two equal elements is maintained).\n",
      " |\n",
      " |      If a key function is given, apply it once to each list item and sort them,\n",
      " |      ascending or descending, according to their function values.\n",
      " |\n",
      " |      The reverse flag can be set to sort in descending order.\n",
      " |\n",
      " |  ----------------------------------------------------------------------\n",
      " |  Class methods defined here:\n",
      " |\n",
      " |  __class_getitem__(...)\n",
      " |      See PEP 585\n",
      " |\n",
      " |  ----------------------------------------------------------------------\n",
      " |  Static methods defined here:\n",
      " |\n",
      " |  __new__(*args, **kwargs)\n",
      " |      Create and return a new object.  See help(type) for accurate signature.\n",
      " |\n",
      " |  ----------------------------------------------------------------------\n",
      " |  Data and other attributes defined here:\n",
      " |\n",
      " |  __hash__ = None\n",
      "\n",
      "None\n"
     ]
    }
   ],
   "source": [
    "print(help(fruit))"
   ]
  },
  {
   "cell_type": "code",
   "execution_count": 44,
   "id": "b2ddd07d-15c6-4c35-9c90-9fbcae798021",
   "metadata": {},
   "outputs": [
    {
     "name": "stdout",
     "output_type": "stream",
     "text": [
      "4\n"
     ]
    }
   ],
   "source": [
    "fruit=[\"apple\",\"orange\",\"banana\",\"coconut\"]\n",
    "print(len(fruit))"
   ]
  },
  {
   "cell_type": "code",
   "execution_count": 45,
   "id": "b9a257b0-4659-46ad-9abc-69c3da3e0dd6",
   "metadata": {},
   "outputs": [
    {
     "name": "stdout",
     "output_type": "stream",
     "text": [
      "True\n"
     ]
    }
   ],
   "source": [
    "print(\"apple\"in fruit )"
   ]
  },
  {
   "cell_type": "markdown",
   "id": "5cc9331a-a026-405a-b3f6-93648bbfce5e",
   "metadata": {},
   "source": [
    "Some of the methods found in the list"
   ]
  },
  {
   "cell_type": "code",
   "execution_count": 46,
   "id": "05c8e934-4d84-471a-997a-21f170f44f71",
   "metadata": {},
   "outputs": [
    {
     "name": "stdout",
     "output_type": "stream",
     "text": [
      "['apple', 'orange', 'banana', 'coconut', 'chocolatee']\n"
     ]
    }
   ],
   "source": [
    "# APPEND\n",
    "fruit=[\"apple\",\"orange\",\"banana\",\"coconut\"]\n",
    "fruit.append(\"chocolatee\")\n",
    "print(fruit)"
   ]
  },
  {
   "cell_type": "code",
   "execution_count": 50,
   "id": "56d27652-0f37-4001-9512-fa6d97ef94dc",
   "metadata": {},
   "outputs": [
    {
     "name": "stdout",
     "output_type": "stream",
     "text": [
      "['orange', 'banana', 'coconut']\n"
     ]
    }
   ],
   "source": [
    "\n",
    "#REMOVE\n",
    "fruit=[\"apple\",\"orange\",\"banana\",\"coconut\"]\n",
    "fruit.remove(\"apple\")\n",
    "print(fruit)"
   ]
  },
  {
   "cell_type": "code",
   "execution_count": 52,
   "id": "0241c111-2928-479d-aeff-62b6167e7627",
   "metadata": {},
   "outputs": [
    {
     "name": "stdout",
     "output_type": "stream",
     "text": [
      "['pinapple', 'apple', 'orange', 'banana', 'coconut']\n"
     ]
    }
   ],
   "source": [
    "#INSERT\n",
    "fruit=[\"apple\",\"orange\",\"banana\",\"coconut\"]\n",
    "fruit.insert(0,\"pinapple\")\n",
    "print(fruit)"
   ]
  },
  {
   "cell_type": "code",
   "execution_count": 54,
   "id": "44cd7f2c-c232-4d48-8711-8208986ebd9c",
   "metadata": {},
   "outputs": [
    {
     "name": "stdout",
     "output_type": "stream",
     "text": [
      "['apple', 'banana', 'coconut', 'orange', 'pinapple']\n"
     ]
    }
   ],
   "source": [
    "# SORT\n",
    "\n",
    "fruit.sort()\n",
    "print(fruit)\n"
   ]
  },
  {
   "cell_type": "code",
   "execution_count": 55,
   "id": "6739e67b-728c-4372-85a8-a2d1e32f6833",
   "metadata": {},
   "outputs": [
    {
     "name": "stdout",
     "output_type": "stream",
     "text": [
      "['pinapple', 'orange', 'coconut', 'banana', 'apple']\n"
     ]
    }
   ],
   "source": [
    "# REVERSE\n",
    "fruit.reverse()\n",
    "print(fruit)"
   ]
  },
  {
   "cell_type": "code",
   "execution_count": 56,
   "id": "1ab57394-5585-485f-b902-0751c7afaabb",
   "metadata": {},
   "outputs": [
    {
     "name": "stdout",
     "output_type": "stream",
     "text": [
      "[]\n"
     ]
    }
   ],
   "source": [
    "#clear\n",
    "fruit.clear()\n",
    "print(fruit)"
   ]
  },
  {
   "cell_type": "code",
   "execution_count": 59,
   "id": "ce5b7f86-e66b-4e06-8d56-0a4cf398a327",
   "metadata": {},
   "outputs": [
    {
     "name": "stdout",
     "output_type": "stream",
     "text": [
      "4\n"
     ]
    }
   ],
   "source": [
    "#INDEX\n",
    "\n",
    "fruit=[\"apple\",\"orange\",\"banana\",\"coconut\"]\n",
    "print(fruit.index(\"coconut\")+1)"
   ]
  },
  {
   "cell_type": "code",
   "execution_count": 60,
   "id": "c29a8bec-6094-4464-95d0-a182b0d8de6e",
   "metadata": {},
   "outputs": [
    {
     "name": "stdout",
     "output_type": "stream",
     "text": [
      "1\n"
     ]
    }
   ],
   "source": [
    "# COUNT\n",
    "print(fruit.count(\"banana\"))"
   ]
  },
  {
   "cell_type": "markdown",
   "id": "6166e0b4-8460-43b8-b068-f1239eaf13ba",
   "metadata": {},
   "source": [
    "# SET"
   ]
  },
  {
   "cell_type": "code",
   "execution_count": 61,
   "id": "a5ace4ce-c75b-4b83-96ec-2f83e89f8a93",
   "metadata": {},
   "outputs": [
    {
     "name": "stdout",
     "output_type": "stream",
     "text": [
      "['__and__', '__class__', '__class_getitem__', '__contains__', '__delattr__', '__dir__', '__doc__', '__eq__', '__format__', '__ge__', '__getattribute__', '__getstate__', '__gt__', '__hash__', '__iand__', '__init__', '__init_subclass__', '__ior__', '__isub__', '__iter__', '__ixor__', '__le__', '__len__', '__lt__', '__ne__', '__new__', '__or__', '__rand__', '__reduce__', '__reduce_ex__', '__repr__', '__ror__', '__rsub__', '__rxor__', '__setattr__', '__sizeof__', '__str__', '__sub__', '__subclasshook__', '__xor__', 'add', 'clear', 'copy', 'difference', 'difference_update', 'discard', 'intersection', 'intersection_update', 'isdisjoint', 'issubset', 'issuperset', 'pop', 'remove', 'symmetric_difference', 'symmetric_difference_update', 'union', 'update']\n"
     ]
    }
   ],
   "source": [
    "fruits={\"apple\",\"orange\",\"banana\",\"coconut\"}\n",
    "print(dir(fruits))"
   ]
  },
  {
   "cell_type": "markdown",
   "id": "7a73a6d8-2bd2-4c83-8ae7-79cc6bd2ff4c",
   "metadata": {},
   "source": [
    "# we cannot use indexing in set "
   ]
  },
  {
   "cell_type": "code",
   "execution_count": 62,
   "id": "25bc8e5b-cd47-4034-98fc-53e0ee7333ac",
   "metadata": {},
   "outputs": [
    {
     "name": "stdout",
     "output_type": "stream",
     "text": [
      "{'orange', 'apple', 'banana', 'coconut', 'pinapple'}\n"
     ]
    }
   ],
   "source": [
    "fruits.add(\"pinapple\")\n",
    "print(fruits)"
   ]
  },
  {
   "cell_type": "markdown",
   "id": "40e815ef-56a0-4bdb-a3fa-f158fa9f5788",
   "metadata": {},
   "source": [
    "# fruits.add(\"pinapple\")\n",
    "# fruits.remove(\"apple\")\n",
    "# fruits.pop()\n",
    "# fruits.clear()"
   ]
  },
  {
   "cell_type": "markdown",
   "id": "19522886-b262-4777-ae77-9c21c9b5262f",
   "metadata": {},
   "source": [
    "# tuple\n",
    "# ORDERED ,UNCHANGEABLE, DUPLICATE OK, FASTER"
   ]
  },
  {
   "cell_type": "code",
   "execution_count": 63,
   "id": "89169bea-32e8-48af-b88b-1606e2f7f801",
   "metadata": {},
   "outputs": [
    {
     "name": "stdout",
     "output_type": "stream",
     "text": [
      "['__add__', '__class__', '__class_getitem__', '__contains__', '__delattr__', '__dir__', '__doc__', '__eq__', '__format__', '__ge__', '__getattribute__', '__getitem__', '__getnewargs__', '__getstate__', '__gt__', '__hash__', '__init__', '__init_subclass__', '__iter__', '__le__', '__len__', '__lt__', '__mul__', '__ne__', '__new__', '__reduce__', '__reduce_ex__', '__repr__', '__rmul__', '__setattr__', '__sizeof__', '__str__', '__subclasshook__', 'count', 'index']\n"
     ]
    }
   ],
   "source": [
    "fruit=(\"apple\",\"orange\",\"banana\",\"coconut\")\n",
    "print(dir(fruit))"
   ]
  },
  {
   "cell_type": "code",
   "execution_count": 64,
   "id": "b7ccce94-9327-4f90-a2c9-fe425969b8dd",
   "metadata": {},
   "outputs": [],
   "source": [
    "# indexing is possible"
   ]
  },
  {
   "cell_type": "markdown",
   "id": "beeda440-4e3a-4bfd-b456-0bfc82f99ad0",
   "metadata": {},
   "source": [
    "# 2D LISTS"
   ]
  },
  {
   "cell_type": "code",
   "execution_count": 5,
   "id": "49d08a66-64d6-4576-9a0d-4d0654d2e012",
   "metadata": {},
   "outputs": [
    {
     "name": "stdout",
     "output_type": "stream",
     "text": [
      "['apple', 'orange', 'banana', 'coconut']\n",
      "[['apple', 'orange', 'banana', 'coconut'], ['celery', 'carrots', 'potatoes'], ['chicken', 'fish', 'turkey']]\n"
     ]
    }
   ],
   "source": [
    "fruit=[\"apple\",\"orange\",\"banana\",\"coconut\"]\n",
    "vegetables=[\"celery\",\"carrots\",\"potatoes\"]\n",
    "meats=[\"chicken\",\"fish\",\"turkey\"]\n",
    "\n",
    "groceries=[fruit,vegetables,meats]\n",
    "\n",
    "print(fruit)\n",
    "\n",
    "print(groceries)"
   ]
  },
  {
   "cell_type": "code",
   "execution_count": 9,
   "id": "af433179-67d6-4d60-b3e5-af5e6ac96b11",
   "metadata": {},
   "outputs": [
    {
     "name": "stdout",
     "output_type": "stream",
     "text": [
      "['apple', 'orange', 'banana', 'coconut']\n",
      "['celery', 'carrots', 'potatoes']\n",
      "apple\n"
     ]
    }
   ],
   "source": [
    "fruit=[\"apple\",\"orange\",\"banana\",\"coconut\"]\n",
    "vegetables=[\"celery\",\"carrots\",\"potatoes\"]\n",
    "meats=[\"chicken\",\"fish\",\"turkey\"]\n",
    "\n",
    "groceries=[fruit,vegetables,meats]\n",
    "print(groceries[0])\n",
    "print(groceries[1])\n",
    "print(groceries[0][0])   # row 0 column 0\n"
   ]
  },
  {
   "cell_type": "code",
   "execution_count": 10,
   "id": "e99ba016-20b1-4c08-a869-c0689c69973b",
   "metadata": {},
   "outputs": [
    {
     "name": "stdout",
     "output_type": "stream",
     "text": [
      "[['apple', 'orange', 'banana', 'coconut'], ['celery', 'carrots', 'potatoes'], ['chicken', 'fish', 'turkey']]\n"
     ]
    }
   ],
   "source": [
    "# OR\n",
    "groceries=[[\"apple\",\"orange\",\"banana\",\"coconut\"],\n",
    "           [\"celery\",\"carrots\",\"potatoes\"],\n",
    "           [\"chicken\",\"fish\",\"turkey\"]]\n",
    "print(groceries)"
   ]
  },
  {
   "cell_type": "markdown",
   "id": "240691d6-e286-487f-b6b5-b488bee35890",
   "metadata": {},
   "source": [
    "# if you need iterate u can use for loop nested"
   ]
  },
  {
   "cell_type": "code",
   "execution_count": 14,
   "id": "655e9284-cced-475f-997a-2f2e48c52d0b",
   "metadata": {},
   "outputs": [
    {
     "name": "stdout",
     "output_type": "stream",
     "text": [
      "['apple', 'orange', 'banana', 'coconut']\n",
      "['celery', 'carrots', 'potatoes']\n",
      "['chicken', 'fish', 'turkey']\n",
      "apple orange banana coconut \n",
      "celery carrots potatoes \n",
      "chicken fish turkey \n"
     ]
    }
   ],
   "source": [
    "groceries=[[\"apple\",\"orange\",\"banana\",\"coconut\"],\n",
    "           [\"celery\",\"carrots\",\"potatoes\"],\n",
    "           [\"chicken\",\"fish\",\"turkey\"]]\n",
    "\n",
    "for collection in groceries:\n",
    "    print(collection)\n",
    "\n",
    "for i in groceries:\n",
    "    for j in i:\n",
    "        print(j,end=\" \")\n",
    "    print()"
   ]
  },
  {
   "cell_type": "markdown",
   "id": "3c24d0ec-88f0-48b9-84d8-2aaaab9e7475",
   "metadata": {},
   "source": [
    "# we can even use the tupples"
   ]
  },
  {
   "cell_type": "code",
   "execution_count": 16,
   "id": "7517bf8b-86e6-46ff-b097-f9f3716baa60",
   "metadata": {},
   "outputs": [
    {
     "name": "stdout",
     "output_type": "stream",
     "text": [
      "1 2 3 \n",
      "4 5 6 \n",
      "7 8 9 \n",
      "* 0 # \n"
     ]
    }
   ],
   "source": [
    "num_pad=((1,2,3),\n",
    "         (4,5,6),\n",
    "         (7,8,9),\n",
    "         (\"*\",0,\"#\"))\n",
    "for row in num_pad:\n",
    "    for num in row:\n",
    "        print(num,end=\" \")\n",
    "    print()"
   ]
  },
  {
   "cell_type": "markdown",
   "id": "e03d0ef0-50b4-44b2-b380-e0626bbc6a54",
   "metadata": {},
   "source": [
    "# quiz game"
   ]
  },
  {
   "cell_type": "code",
   "execution_count": 19,
   "id": "43de53b9-3a59-4511-9f5f-bc452f4a576e",
   "metadata": {},
   "outputs": [
    {
     "name": "stdout",
     "output_type": "stream",
     "text": [
      "-----------------\n",
      "How many elementsare in the periodic table?\n",
      "A.116\n",
      "B.387\n",
      "C.67\n",
      "D.878\n"
     ]
    },
    {
     "name": "stdin",
     "output_type": "stream",
     "text": [
      "enter a,b,c,d a\n"
     ]
    },
    {
     "name": "stdout",
     "output_type": "stream",
     "text": [
      "incorrect\n",
      "-----------------\n",
      "which animal lays the largest egg?\n",
      "A.whale\n",
      "B.crocodile\n",
      "C.tiger\n",
      "D.lion\n"
     ]
    },
    {
     "name": "stdin",
     "output_type": "stream",
     "text": [
      "enter a,b,c,d a\n"
     ]
    },
    {
     "name": "stdout",
     "output_type": "stream",
     "text": [
      "incorrect\n",
      "-----------------\n",
      "how many bones in the human body\n",
      "A.206\n",
      "B.207\n",
      "C.208\n",
      "D.209\n"
     ]
    },
    {
     "name": "stdin",
     "output_type": "stream",
     "text": [
      "enter a,b,c,d a\n"
     ]
    },
    {
     "name": "stdout",
     "output_type": "stream",
     "text": [
      "correct\n",
      "your score is 1\n"
     ]
    }
   ],
   "source": [
    "questions=(\"How many elementsare in the periodic table?\",\n",
    "          \"which animal lays the largest egg?\",\n",
    "           \"how many bones in the human body\")\n",
    "\n",
    "options=((\"A.116\",\"B.387\",\"C.67\",\"D.878\"),\n",
    "         (\"A.whale\",\"B.crocodile\",\"C.tiger\",\"D.lion\"),\n",
    "         (\"A.206\",\"B.207\",\"C.208\",\"D.209\"))\n",
    "\n",
    "answers=(\"C\",\"D\",\"A\")\n",
    "guesses=[]\n",
    "score=0\n",
    "question_num=0\n",
    "\n",
    "for question in questions:\n",
    "    print(\"-----------------\")\n",
    "    print(question)\n",
    "    for option in options[question_num]:\n",
    "        print(option)\n",
    "    guess=input(\"enter a,b,c,d\").upper()\n",
    "    guesses.append(guess)\n",
    "    if guess==answers[question_num]:\n",
    "        score+=1\n",
    "        print(\"correct\")\n",
    "    else:\n",
    "        print(\"incorrect\")\n",
    "    question_num+=1\n",
    "\n",
    "print(\"your score is\",score)"
   ]
  },
  {
   "cell_type": "markdown",
   "id": "0f353035-5150-4782-aacc-6a34360b5629",
   "metadata": {},
   "source": [
    "# dictionary = collection of{key:value} pairs\n",
    "# ordered and unchangeable\n",
    "# no duplicates"
   ]
  },
  {
   "cell_type": "code",
   "execution_count": 20,
   "id": "79f9fa6e-ca25-4c92-adb4-4e4a1fbc9233",
   "metadata": {},
   "outputs": [
    {
     "name": "stdout",
     "output_type": "stream",
     "text": [
      "{'USA': 'washingtion', 'india': 'delhi', 'china': 'beijing', 'russia': 'moscow'}\n"
     ]
    }
   ],
   "source": [
    "capitals ={\"USA\":\"washingtion\",\n",
    "          \"india\":\"delhi\",\n",
    "          \"china\":\"beijing\",\n",
    "          \"russia\":\"moscow\"}\n",
    "print(capitals)"
   ]
  },
  {
   "cell_type": "code",
   "execution_count": 21,
   "id": "21c89df8-e8c5-4ed2-8158-c95bb363bd5d",
   "metadata": {},
   "outputs": [
    {
     "name": "stdout",
     "output_type": "stream",
     "text": [
      "['__class__', '__class_getitem__', '__contains__', '__delattr__', '__delitem__', '__dir__', '__doc__', '__eq__', '__format__', '__ge__', '__getattribute__', '__getitem__', '__getstate__', '__gt__', '__hash__', '__init__', '__init_subclass__', '__ior__', '__iter__', '__le__', '__len__', '__lt__', '__ne__', '__new__', '__or__', '__reduce__', '__reduce_ex__', '__repr__', '__reversed__', '__ror__', '__setattr__', '__setitem__', '__sizeof__', '__str__', '__subclasshook__', 'clear', 'copy', 'fromkeys', 'get', 'items', 'keys', 'pop', 'popitem', 'setdefault', 'update', 'values']\n"
     ]
    }
   ],
   "source": [
    "print(dir(capitals))"
   ]
  },
  {
   "cell_type": "code",
   "execution_count": 22,
   "id": "78161317-c6d3-45e2-b502-325c44d3b606",
   "metadata": {},
   "outputs": [
    {
     "name": "stdout",
     "output_type": "stream",
     "text": [
      "Help on dict object:\n",
      "\n",
      "class dict(object)\n",
      " |  dict() -> new empty dictionary\n",
      " |  dict(mapping) -> new dictionary initialized from a mapping object's\n",
      " |      (key, value) pairs\n",
      " |  dict(iterable) -> new dictionary initialized as if via:\n",
      " |      d = {}\n",
      " |      for k, v in iterable:\n",
      " |          d[k] = v\n",
      " |  dict(**kwargs) -> new dictionary initialized with the name=value pairs\n",
      " |      in the keyword argument list.  For example:  dict(one=1, two=2)\n",
      " |\n",
      " |  Built-in subclasses:\n",
      " |      StgDict\n",
      " |\n",
      " |  Methods defined here:\n",
      " |\n",
      " |  __contains__(self, key, /)\n",
      " |      True if the dictionary has the specified key, else False.\n",
      " |\n",
      " |  __delitem__(self, key, /)\n",
      " |      Delete self[key].\n",
      " |\n",
      " |  __eq__(self, value, /)\n",
      " |      Return self==value.\n",
      " |\n",
      " |  __ge__(self, value, /)\n",
      " |      Return self>=value.\n",
      " |\n",
      " |  __getattribute__(self, name, /)\n",
      " |      Return getattr(self, name).\n",
      " |\n",
      " |  __getitem__(self, key, /)\n",
      " |      Return self[key].\n",
      " |\n",
      " |  __gt__(self, value, /)\n",
      " |      Return self>value.\n",
      " |\n",
      " |  __init__(self, /, *args, **kwargs)\n",
      " |      Initialize self.  See help(type(self)) for accurate signature.\n",
      " |\n",
      " |  __ior__(self, value, /)\n",
      " |      Return self|=value.\n",
      " |\n",
      " |  __iter__(self, /)\n",
      " |      Implement iter(self).\n",
      " |\n",
      " |  __le__(self, value, /)\n",
      " |      Return self<=value.\n",
      " |\n",
      " |  __len__(self, /)\n",
      " |      Return len(self).\n",
      " |\n",
      " |  __lt__(self, value, /)\n",
      " |      Return self<value.\n",
      " |\n",
      " |  __ne__(self, value, /)\n",
      " |      Return self!=value.\n",
      " |\n",
      " |  __or__(self, value, /)\n",
      " |      Return self|value.\n",
      " |\n",
      " |  __repr__(self, /)\n",
      " |      Return repr(self).\n",
      " |\n",
      " |  __reversed__(self, /)\n",
      " |      Return a reverse iterator over the dict keys.\n",
      " |\n",
      " |  __ror__(self, value, /)\n",
      " |      Return value|self.\n",
      " |\n",
      " |  __setitem__(self, key, value, /)\n",
      " |      Set self[key] to value.\n",
      " |\n",
      " |  __sizeof__(...)\n",
      " |      D.__sizeof__() -> size of D in memory, in bytes\n",
      " |\n",
      " |  clear(...)\n",
      " |      D.clear() -> None.  Remove all items from D.\n",
      " |\n",
      " |  copy(...)\n",
      " |      D.copy() -> a shallow copy of D\n",
      " |\n",
      " |  get(self, key, default=None, /)\n",
      " |      Return the value for key if key is in the dictionary, else default.\n",
      " |\n",
      " |  items(...)\n",
      " |      D.items() -> a set-like object providing a view on D's items\n",
      " |\n",
      " |  keys(...)\n",
      " |      D.keys() -> a set-like object providing a view on D's keys\n",
      " |\n",
      " |  pop(...)\n",
      " |      D.pop(k[,d]) -> v, remove specified key and return the corresponding value.\n",
      " |\n",
      " |      If the key is not found, return the default if given; otherwise,\n",
      " |      raise a KeyError.\n",
      " |\n",
      " |  popitem(self, /)\n",
      " |      Remove and return a (key, value) pair as a 2-tuple.\n",
      " |\n",
      " |      Pairs are returned in LIFO (last-in, first-out) order.\n",
      " |      Raises KeyError if the dict is empty.\n",
      " |\n",
      " |  setdefault(self, key, default=None, /)\n",
      " |      Insert key with a value of default if key is not in the dictionary.\n",
      " |\n",
      " |      Return the value for key if key is in the dictionary, else default.\n",
      " |\n",
      " |  update(...)\n",
      " |      D.update([E, ]**F) -> None.  Update D from dict/iterable E and F.\n",
      " |      If E is present and has a .keys() method, then does:  for k in E: D[k] = E[k]\n",
      " |      If E is present and lacks a .keys() method, then does:  for k, v in E: D[k] = v\n",
      " |      In either case, this is followed by: for k in F:  D[k] = F[k]\n",
      " |\n",
      " |  values(...)\n",
      " |      D.values() -> an object providing a view on D's values\n",
      " |\n",
      " |  ----------------------------------------------------------------------\n",
      " |  Class methods defined here:\n",
      " |\n",
      " |  __class_getitem__(...)\n",
      " |      See PEP 585\n",
      " |\n",
      " |  fromkeys(iterable, value=None, /)\n",
      " |      Create a new dictionary with keys from iterable and values set to value.\n",
      " |\n",
      " |  ----------------------------------------------------------------------\n",
      " |  Static methods defined here:\n",
      " |\n",
      " |  __new__(*args, **kwargs)\n",
      " |      Create and return a new object.  See help(type) for accurate signature.\n",
      " |\n",
      " |  ----------------------------------------------------------------------\n",
      " |  Data and other attributes defined here:\n",
      " |\n",
      " |  __hash__ = None\n",
      "\n",
      "None\n"
     ]
    }
   ],
   "source": [
    "print(help(capitals))"
   ]
  },
  {
   "cell_type": "code",
   "execution_count": 23,
   "id": "9b159687-05f8-4c3f-8e26-7403588a81f8",
   "metadata": {},
   "outputs": [],
   "source": [
    "# to get some values from the dictionary\n",
    "\n"
   ]
  },
  {
   "cell_type": "markdown",
   "id": "130eeec0-0937-4fca-af38-014814774458",
   "metadata": {},
   "source": [
    "# we will use .get()"
   ]
  },
  {
   "cell_type": "code",
   "execution_count": 24,
   "id": "aa39c544-b0de-4d38-bfcc-161fd53aa4a8",
   "metadata": {},
   "outputs": [
    {
     "ename": "NameError",
     "evalue": "name 'india' is not defined",
     "output_type": "error",
     "traceback": [
      "\u001b[1;31m---------------------------------------------------------------------------\u001b[0m",
      "\u001b[1;31mNameError\u001b[0m                                 Traceback (most recent call last)",
      "Cell \u001b[1;32mIn[24], line 6\u001b[0m\n\u001b[0;32m      1\u001b[0m capitals \u001b[38;5;241m=\u001b[39m{\u001b[38;5;124m\"\u001b[39m\u001b[38;5;124mUSA\u001b[39m\u001b[38;5;124m\"\u001b[39m:\u001b[38;5;124m\"\u001b[39m\u001b[38;5;124mwashingtion\u001b[39m\u001b[38;5;124m\"\u001b[39m,\n\u001b[0;32m      2\u001b[0m           \u001b[38;5;124m\"\u001b[39m\u001b[38;5;124mindia\u001b[39m\u001b[38;5;124m\"\u001b[39m:\u001b[38;5;124m\"\u001b[39m\u001b[38;5;124mdelhi\u001b[39m\u001b[38;5;124m\"\u001b[39m,\n\u001b[0;32m      3\u001b[0m           \u001b[38;5;124m\"\u001b[39m\u001b[38;5;124mchina\u001b[39m\u001b[38;5;124m\"\u001b[39m:\u001b[38;5;124m\"\u001b[39m\u001b[38;5;124mbeijing\u001b[39m\u001b[38;5;124m\"\u001b[39m,\n\u001b[0;32m      4\u001b[0m           \u001b[38;5;124m\"\u001b[39m\u001b[38;5;124mrussia\u001b[39m\u001b[38;5;124m\"\u001b[39m:\u001b[38;5;124m\"\u001b[39m\u001b[38;5;124mmoscow\u001b[39m\u001b[38;5;124m\"\u001b[39m}\n\u001b[1;32m----> 6\u001b[0m \u001b[38;5;28mprint\u001b[39m(capitals\u001b[38;5;241m.\u001b[39mget(\u001b[43mindia\u001b[49m))\n",
      "\u001b[1;31mNameError\u001b[0m: name 'india' is not defined"
     ]
    }
   ],
   "source": [
    "capitals ={\"USA\":\"washingtion\",\n",
    "          \"india\":\"delhi\",\n",
    "          \"china\":\"beijing\",\n",
    "          \"russia\":\"moscow\"}\n",
    "\n",
    "print(capitals.get(india))"
   ]
  },
  {
   "cell_type": "code",
   "execution_count": 11,
   "id": "6db1b1a7-143c-4dce-a74d-89d3adaa275d",
   "metadata": {},
   "outputs": [
    {
     "name": "stdout",
     "output_type": "stream",
     "text": [
      "moscow\n"
     ]
    }
   ],
   "source": [
    "capitals ={\"USA\":\"washingtion\",\n",
    "          \"india\":\"delhi\",\n",
    "          \"china\":\"beijing\",\n",
    "          \"russia\":\"moscow\"}\n",
    "print(capitals.get(\"russia\"))"
   ]
  },
  {
   "cell_type": "markdown",
   "id": "43b37bea-b2ae-426a-be5d-b415b8de0792",
   "metadata": {},
   "source": [
    "# .update() method"
   ]
  },
  {
   "cell_type": "code",
   "execution_count": 26,
   "id": "8edaea22-a386-49ac-abc0-1e20d67c5b83",
   "metadata": {},
   "outputs": [
    {
     "name": "stdout",
     "output_type": "stream",
     "text": [
      "{'USA': 'washingtion', 'india': 'delhi', 'china': 'beijing', 'russia': 'moscow', 'germany': 'berlin'}\n"
     ]
    }
   ],
   "source": [
    "capitals.update({\"germany\":\"berlin\"})\n",
    "print(capitals)"
   ]
  },
  {
   "cell_type": "code",
   "execution_count": 27,
   "id": "cf99a8f0-8fdd-4391-be95-6a851e21f663",
   "metadata": {},
   "outputs": [
    {
     "name": "stdout",
     "output_type": "stream",
     "text": [
      "{'USA': 'detroit', 'india': 'delhi', 'china': 'beijing', 'russia': 'moscow', 'germany': 'berlin'}\n"
     ]
    }
   ],
   "source": [
    "capitals.update({\"USA\": \"detroit\"})\n",
    "print(capitals)"
   ]
  },
  {
   "cell_type": "markdown",
   "id": "2435d30c-0c7b-4957-adf0-089eb3dc39ad",
   "metadata": {},
   "source": [
    "# .pop() method"
   ]
  },
  {
   "cell_type": "code",
   "execution_count": 28,
   "id": "fddc35cc-4641-410e-9eba-f18091039f99",
   "metadata": {},
   "outputs": [
    {
     "name": "stdout",
     "output_type": "stream",
     "text": [
      "{'USA': 'detroit', 'india': 'delhi', 'russia': 'moscow', 'germany': 'berlin'}\n"
     ]
    }
   ],
   "source": [
    "capitals.pop(\"china\")\n",
    "print(capitals)"
   ]
  },
  {
   "cell_type": "code",
   "execution_count": 29,
   "id": "40c267c2-4931-4796-8273-f0c3ed350e50",
   "metadata": {},
   "outputs": [
    {
     "name": "stdout",
     "output_type": "stream",
     "text": [
      "{'USA': 'detroit', 'india': 'delhi', 'russia': 'moscow'}\n"
     ]
    }
   ],
   "source": [
    "# pop item method\n",
    "# it will remove last element from our dictionary\n",
    "capitals.popitem()\n",
    "print(capitals)"
   ]
  },
  {
   "cell_type": "markdown",
   "id": "02cd81cf-8075-4140-bd6f-3d345b37dca6",
   "metadata": {},
   "source": [
    "# .clear() method\n"
   ]
  },
  {
   "cell_type": "code",
   "execution_count": 30,
   "id": "e458b20f-08ca-44ee-876f-09090bf0e487",
   "metadata": {},
   "outputs": [
    {
     "name": "stdout",
     "output_type": "stream",
     "text": [
      "{}\n"
     ]
    }
   ],
   "source": [
    "capitals.clear()\n",
    "print(capitals)"
   ]
  },
  {
   "cell_type": "markdown",
   "id": "8a30b365-3123-4d08-8586-a8bdb8faf1a2",
   "metadata": {},
   "source": [
    "# .keys method = will get all of the key"
   ]
  },
  {
   "cell_type": "code",
   "execution_count": 31,
   "id": "cf654f44-e14a-4349-94dd-1e2ce34b8a69",
   "metadata": {},
   "outputs": [
    {
     "name": "stdout",
     "output_type": "stream",
     "text": [
      "dict_keys([])\n"
     ]
    }
   ],
   "source": [
    "keys=capitals.keys()\n",
    "print(keys)"
   ]
  },
  {
   "cell_type": "code",
   "execution_count": 32,
   "id": "b34294ea-0a7a-4024-a612-cb3d93b12aec",
   "metadata": {},
   "outputs": [
    {
     "name": "stdout",
     "output_type": "stream",
     "text": [
      "dict_keys(['USA', 'india', 'china', 'russia'])\n"
     ]
    }
   ],
   "source": [
    "capitals ={\"USA\":\"washingtion\",\n",
    "          \"india\":\"delhi\",\n",
    "          \"china\":\"beijing\",\n",
    "          \"russia\":\"moscow\"}\n",
    "keys=capitals.keys()\n",
    "print(keys)"
   ]
  },
  {
   "cell_type": "code",
   "execution_count": 33,
   "id": "5fba47af-c84d-4185-8120-d93df267d124",
   "metadata": {},
   "outputs": [
    {
     "name": "stdout",
     "output_type": "stream",
     "text": [
      "USA\n",
      "india\n",
      "china\n",
      "russia\n"
     ]
    }
   ],
   "source": [
    "for key in capitals.keys():\n",
    "    print(key)"
   ]
  },
  {
   "cell_type": "markdown",
   "id": "c9160651-cf02-42af-8bc2-1aa296b7909f",
   "metadata": {},
   "source": [
    "# .values method"
   ]
  },
  {
   "cell_type": "code",
   "execution_count": 34,
   "id": "e0a16bf1-1458-487a-aeeb-3c0d839a8ef6",
   "metadata": {},
   "outputs": [
    {
     "name": "stdout",
     "output_type": "stream",
     "text": [
      "washingtion\n",
      "delhi\n",
      "beijing\n",
      "moscow\n"
     ]
    }
   ],
   "source": [
    "for value in capitals.values():\n",
    "    print(value)"
   ]
  },
  {
   "cell_type": "markdown",
   "id": "38c7c946-d3b7-48fe-986e-c8ab3bf49837",
   "metadata": {},
   "source": [
    "# .items method "
   ]
  },
  {
   "cell_type": "code",
   "execution_count": 36,
   "id": "50cac632-d8ce-49c4-b1d0-764e602e88c3",
   "metadata": {},
   "outputs": [
    {
     "name": "stdout",
     "output_type": "stream",
     "text": [
      "dict_items([('USA', 'washingtion'), ('india', 'delhi'), ('china', 'beijing'), ('russia', 'moscow')])\n"
     ]
    }
   ],
   "source": [
    "items=capitals.items()\n",
    "print(items)"
   ]
  },
  {
   "cell_type": "code",
   "execution_count": 37,
   "id": "9b0244e2-155a-4044-9db3-5a8889df317c",
   "metadata": {},
   "outputs": [
    {
     "name": "stdout",
     "output_type": "stream",
     "text": [
      "USA:washingtion\n",
      "india:delhi\n",
      "china:beijing\n",
      "russia:moscow\n"
     ]
    }
   ],
   "source": [
    "for key,value in capitals.items():\n",
    "    print(f\"{key}:{value}\")"
   ]
  },
  {
   "cell_type": "markdown",
   "id": "454912e3-3fb9-44bc-b68e-7bae757f6c88",
   "metadata": {},
   "source": [
    "# consession stand program"
   ]
  },
  {
   "cell_type": "code",
   "execution_count": 18,
   "id": "792065fe-533f-4acd-ab39-c63e7aa760d9",
   "metadata": {},
   "outputs": [
    {
     "name": "stdout",
     "output_type": "stream",
     "text": [
      "-----------------menu----------------\n",
      "pizza     : $3.00\n",
      "nachos    : $4.50\n",
      "popcorn   : $6.00\n",
      "fries     : $2.50\n",
      "chips     : $1.00\n",
      "pretzel   : $3.50\n",
      "soda      : $3.00\n",
      "lemonade  : $4.25\n",
      "--------------------------------------\n"
     ]
    },
    {
     "name": "stdin",
     "output_type": "stream",
     "text": [
      "select an item (q to quit):  popcorn\n",
      "select an item (q to quit):  soda\n",
      "select an item (q to quit):  q\n"
     ]
    },
    {
     "name": "stdout",
     "output_type": "stream",
     "text": [
      "-----------------your order----------------\n",
      "popcorn soda \n",
      "total is : $9.00\n"
     ]
    }
   ],
   "source": [
    "menu={\"pizza\":3,\n",
    "      \"nachos\":4.5,\n",
    "      \"popcorn\":6,\n",
    "      \"fries\":2.50,\n",
    "      \"chips\":1.00,\n",
    "      \"pretzel\":3.50,\n",
    "      \"soda\":3.00,\n",
    "      \"lemonade\":4.25}\n",
    "cart=[]\n",
    "total=0\n",
    "\n",
    "print(\"-----------------menu----------------\")\n",
    "for key,value in menu.items():\n",
    "    print(f\"{key:10}: ${value:.2f}\")\n",
    "\n",
    "print(\"--------------------------------------\")\n",
    "\n",
    "while True:\n",
    "    food=input(\"select an item (q to quit): \").lower()\n",
    "    if food==\"q\":\n",
    "        break\n",
    "    elif menu.get(food) is not None:\n",
    "        cart.append(food)\n",
    "print(\"-----------------your order----------------\")\n",
    "for food in cart:\n",
    "    total=total+menu.get(food)\n",
    "    print(food,end=\" \")\n",
    "print()\n",
    "print(f\"total is : ${total:.2f}\")\n"
   ]
  },
  {
   "cell_type": "markdown",
   "id": "631d8b4b-1953-41e5-9cd3-d79efd390cd5",
   "metadata": {},
   "source": [
    "# generating random number "
   ]
  },
  {
   "cell_type": "code",
   "execution_count": 20,
   "id": "53b011bd-94f6-47af-98e9-3621612f1554",
   "metadata": {},
   "outputs": [
    {
     "name": "stdout",
     "output_type": "stream",
     "text": [
      "2\n"
     ]
    }
   ],
   "source": [
    "import random\n",
    "number =random.randint(1,6)\n",
    "print(number)"
   ]
  },
  {
   "cell_type": "code",
   "execution_count": 22,
   "id": "fa56038e-6fb8-41e7-9999-3c2f808e065c",
   "metadata": {},
   "outputs": [
    {
     "name": "stdout",
     "output_type": "stream",
     "text": [
      "93\n"
     ]
    }
   ],
   "source": [
    "import random\n",
    "#.randint()\n",
    "low=1\n",
    "high=100\n",
    "number =random.randint(low,high)\n",
    "print(number)"
   ]
  },
  {
   "cell_type": "code",
   "execution_count": 26,
   "id": "c617e907-8508-4618-8b06-8e98e101a25e",
   "metadata": {},
   "outputs": [
    {
     "name": "stdout",
     "output_type": "stream",
     "text": [
      "rock\n"
     ]
    }
   ],
   "source": [
    "#.choice()\n",
    "import random \n",
    "options=(\"rock\",\"paper\",\"scissors\")\n",
    "option=random.choice(options)\n",
    "print(option)"
   ]
  },
  {
   "cell_type": "code",
   "execution_count": 27,
   "id": "c759b2dc-d921-477f-a477-bc7734e8df5c",
   "metadata": {},
   "outputs": [
    {
     "name": "stdout",
     "output_type": "stream",
     "text": [
      "None\n"
     ]
    }
   ],
   "source": [
    "import random\n",
    "cards=[\"2\",\"3\",\"4\",\"5\",\"6\"]\n",
    "shuf=random.shuffle(cards)\n",
    "print(shuf)"
   ]
  },
  {
   "cell_type": "code",
   "execution_count": 30,
   "id": "42165956-4e8d-4bfa-808f-ad56a265544a",
   "metadata": {},
   "outputs": [
    {
     "name": "stdout",
     "output_type": "stream",
     "text": [
      "['6', '3', '5', '2', '4']\n"
     ]
    }
   ],
   "source": [
    "import random\n",
    "cards=[\"2\",\"3\",\"4\",\"5\",\"6\"]\n",
    "random.shuffle(cards)\n",
    "print(cards)"
   ]
  },
  {
   "cell_type": "markdown",
   "id": "0072bf66-b5e7-4121-b3e8-f78c7079b7d5",
   "metadata": {},
   "source": [
    "# number guessing game"
   ]
  },
  {
   "cell_type": "code",
   "execution_count": 32,
   "id": "e382773c-ac07-4bc9-b018-f213f8d26037",
   "metadata": {},
   "outputs": [
    {
     "name": "stdout",
     "output_type": "stream",
     "text": [
      "python number guessing game \n",
      "select a number between 1 and 100\n"
     ]
    },
    {
     "name": "stdin",
     "output_type": "stream",
     "text": [
      "enter your guess 3\n"
     ]
    },
    {
     "ename": "AttributeError",
     "evalue": "'int' object has no attribute 'isdigit'",
     "output_type": "error",
     "traceback": [
      "\u001b[1;31m---------------------------------------------------------------------------\u001b[0m",
      "\u001b[1;31mAttributeError\u001b[0m                            Traceback (most recent call last)",
      "Cell \u001b[1;32mIn[32], line 15\u001b[0m\n\u001b[0;32m     13\u001b[0m \u001b[38;5;28;01mwhile\u001b[39;00m is_running:\n\u001b[0;32m     14\u001b[0m     guess\u001b[38;5;241m=\u001b[39m\u001b[38;5;28mint\u001b[39m(\u001b[38;5;28minput\u001b[39m(\u001b[38;5;124m\"\u001b[39m\u001b[38;5;124menter your guess\u001b[39m\u001b[38;5;124m\"\u001b[39m))\n\u001b[1;32m---> 15\u001b[0m     \u001b[38;5;28;01mif\u001b[39;00m \u001b[43mguess\u001b[49m\u001b[38;5;241;43m.\u001b[39;49m\u001b[43misdigit\u001b[49m():\n\u001b[0;32m     16\u001b[0m         guesses\u001b[38;5;241m+\u001b[39m\u001b[38;5;241m=\u001b[39m\u001b[38;5;241m1\u001b[39m\n\u001b[0;32m     18\u001b[0m         \u001b[38;5;28;01mif\u001b[39;00m guess\u001b[38;5;241m<\u001b[39mlow_num \u001b[38;5;129;01mor\u001b[39;00m guess\u001b[38;5;241m>\u001b[39mhigh_num:\n",
      "\u001b[1;31mAttributeError\u001b[0m: 'int' object has no attribute 'isdigit'"
     ]
    }
   ],
   "source": [
    "import random\n",
    "\n",
    "low_num=1\n",
    "high_num=100\n",
    "\n",
    "answer=random.randint(low_num,high_num)\n",
    "guesses=0\n",
    "is_running=True\n",
    "\n",
    "print(\"python number guessing game \")\n",
    "print(f\"select a number between {low_num} and {high_num}\")\n",
    "\n",
    "while is_running:\n",
    "    guess=int(input(\"enter your guess\"))\n",
    "    if guess.isdigit():\n",
    "        guesses+=1\n",
    "\n",
    "        if guess<low_num or guess>high_num:\n",
    "            print(\"number out of range\")\n",
    "            print(f\"please select a number between 1 and 100\")\n",
    "        elif guess<answer:\n",
    "            print(\"two low! try again\")\n",
    "        elif guess>answer:\n",
    "            print(\"two high try again\")\n",
    "        else:\n",
    "            print(f\"correct number of guesses: {guesses}\")\n",
    "    else:\n",
    "        print(\"invalid\")\n",
    "        print(f\"please select a number between 1 and 100\")"
   ]
  },
  {
   "cell_type": "raw",
   "id": "210fb15b-6cea-4b7a-991e-4f3248ecf2e3",
   "metadata": {},
   "source": [
    "Why the Error?\n",
    "guess = int(input(\"enter your guess\")):\n",
    "This converts the user's input into an integer.\n",
    "Once converted to an integer, isdigit() cannot be used because isdigit() is a string method. It cannot be called on an integer."
   ]
  },
  {
   "cell_type": "code",
   "execution_count": 35,
   "id": "115674d2-9aca-4b01-86f9-2ca50e335068",
   "metadata": {},
   "outputs": [
    {
     "name": "stdout",
     "output_type": "stream",
     "text": [
      "python number guessing game \n",
      "select a number between 1 and 100\n"
     ]
    },
    {
     "name": "stdin",
     "output_type": "stream",
     "text": [
      "enter your guess 3\n"
     ]
    },
    {
     "name": "stdout",
     "output_type": "stream",
     "text": [
      "two low! try again\n"
     ]
    },
    {
     "name": "stdin",
     "output_type": "stream",
     "text": [
      "enter your guess 10\n"
     ]
    },
    {
     "name": "stdout",
     "output_type": "stream",
     "text": [
      "two low! try again\n"
     ]
    },
    {
     "name": "stdin",
     "output_type": "stream",
     "text": [
      "enter your guess 90\n"
     ]
    },
    {
     "name": "stdout",
     "output_type": "stream",
     "text": [
      "two high try again\n"
     ]
    },
    {
     "name": "stdin",
     "output_type": "stream",
     "text": [
      "enter your guess 85\n"
     ]
    },
    {
     "name": "stdout",
     "output_type": "stream",
     "text": [
      "two high try again\n"
     ]
    },
    {
     "name": "stdin",
     "output_type": "stream",
     "text": [
      "enter your guess 65\n"
     ]
    },
    {
     "name": "stdout",
     "output_type": "stream",
     "text": [
      "two high try again\n"
     ]
    },
    {
     "name": "stdin",
     "output_type": "stream",
     "text": [
      "enter your guess 45\n"
     ]
    },
    {
     "name": "stdout",
     "output_type": "stream",
     "text": [
      "two high try again\n"
     ]
    },
    {
     "name": "stdin",
     "output_type": "stream",
     "text": [
      "enter your guess 20\n"
     ]
    },
    {
     "name": "stdout",
     "output_type": "stream",
     "text": [
      "two low! try again\n"
     ]
    },
    {
     "name": "stdin",
     "output_type": "stream",
     "text": [
      "enter your guess 30\n"
     ]
    },
    {
     "name": "stdout",
     "output_type": "stream",
     "text": [
      "two low! try again\n"
     ]
    },
    {
     "name": "stdin",
     "output_type": "stream",
     "text": [
      "enter your guess 35\n"
     ]
    },
    {
     "name": "stdout",
     "output_type": "stream",
     "text": [
      "two high try again\n"
     ]
    },
    {
     "name": "stdin",
     "output_type": "stream",
     "text": [
      "enter your guess 32\n"
     ]
    },
    {
     "name": "stdout",
     "output_type": "stream",
     "text": [
      "two low! try again\n"
     ]
    },
    {
     "name": "stdin",
     "output_type": "stream",
     "text": [
      "enter your guess 31\n"
     ]
    },
    {
     "name": "stdout",
     "output_type": "stream",
     "text": [
      "two low! try again\n"
     ]
    },
    {
     "name": "stdin",
     "output_type": "stream",
     "text": [
      "enter your guess 34\n"
     ]
    },
    {
     "name": "stdout",
     "output_type": "stream",
     "text": [
      "two high try again\n"
     ]
    },
    {
     "name": "stdin",
     "output_type": "stream",
     "text": [
      "enter your guess 33\n"
     ]
    },
    {
     "name": "stdout",
     "output_type": "stream",
     "text": [
      "correct number of guesses: 13\n"
     ]
    },
    {
     "name": "stdin",
     "output_type": "stream",
     "text": [
      "enter your guess ld,\n"
     ]
    },
    {
     "name": "stdout",
     "output_type": "stream",
     "text": [
      "invalid\n",
      "please select a number between 1 and 100\n"
     ]
    },
    {
     "name": "stdin",
     "output_type": "stream",
     "text": [
      "enter your guess d\n"
     ]
    },
    {
     "name": "stdout",
     "output_type": "stream",
     "text": [
      "invalid\n",
      "please select a number between 1 and 100\n"
     ]
    },
    {
     "name": "stdin",
     "output_type": "stream",
     "text": [
      "enter your guess 2\n"
     ]
    },
    {
     "name": "stdout",
     "output_type": "stream",
     "text": [
      "two low! try again\n"
     ]
    },
    {
     "name": "stdin",
     "output_type": "stream",
     "text": [
      "enter your guess 2\n"
     ]
    },
    {
     "name": "stdout",
     "output_type": "stream",
     "text": [
      "two low! try again\n"
     ]
    },
    {
     "name": "stdin",
     "output_type": "stream",
     "text": [
      "enter your guess 2\n"
     ]
    },
    {
     "name": "stdout",
     "output_type": "stream",
     "text": [
      "two low! try again\n"
     ]
    },
    {
     "name": "stdin",
     "output_type": "stream",
     "text": [
      "enter your guess 2\n"
     ]
    },
    {
     "name": "stdout",
     "output_type": "stream",
     "text": [
      "two low! try again\n"
     ]
    },
    {
     "name": "stdin",
     "output_type": "stream",
     "text": [
      "enter your guess 2\n"
     ]
    },
    {
     "name": "stdout",
     "output_type": "stream",
     "text": [
      "two low! try again\n"
     ]
    },
    {
     "name": "stdin",
     "output_type": "stream",
     "text": [
      "enter your guess 2\n"
     ]
    },
    {
     "name": "stdout",
     "output_type": "stream",
     "text": [
      "two low! try again\n"
     ]
    },
    {
     "name": "stdin",
     "output_type": "stream",
     "text": [
      "enter your guess 2\n"
     ]
    },
    {
     "name": "stdout",
     "output_type": "stream",
     "text": [
      "two low! try again\n"
     ]
    },
    {
     "name": "stdin",
     "output_type": "stream",
     "text": [
      "enter your guess 2\n"
     ]
    },
    {
     "name": "stdout",
     "output_type": "stream",
     "text": [
      "two low! try again\n"
     ]
    },
    {
     "name": "stdin",
     "output_type": "stream",
     "text": [
      "enter your guess 2\n"
     ]
    },
    {
     "name": "stdout",
     "output_type": "stream",
     "text": [
      "two low! try again\n"
     ]
    },
    {
     "name": "stdin",
     "output_type": "stream",
     "text": [
      "enter your guess 2\n"
     ]
    },
    {
     "name": "stdout",
     "output_type": "stream",
     "text": [
      "two low! try again\n"
     ]
    },
    {
     "name": "stdin",
     "output_type": "stream",
     "text": [
      "enter your guess 2\n"
     ]
    },
    {
     "name": "stdout",
     "output_type": "stream",
     "text": [
      "two low! try again\n"
     ]
    },
    {
     "name": "stdin",
     "output_type": "stream",
     "text": [
      "enter your guess 2\n"
     ]
    },
    {
     "name": "stdout",
     "output_type": "stream",
     "text": [
      "two low! try again\n"
     ]
    },
    {
     "ename": "KeyboardInterrupt",
     "evalue": "Interrupted by user",
     "output_type": "error",
     "traceback": [
      "\u001b[1;31m---------------------------------------------------------------------------\u001b[0m",
      "\u001b[1;31mKeyboardInterrupt\u001b[0m                         Traceback (most recent call last)",
      "Cell \u001b[1;32mIn[35], line 14\u001b[0m\n\u001b[0;32m     11\u001b[0m \u001b[38;5;28mprint\u001b[39m(\u001b[38;5;124mf\u001b[39m\u001b[38;5;124m\"\u001b[39m\u001b[38;5;124mselect a number between \u001b[39m\u001b[38;5;132;01m{\u001b[39;00mlow_num\u001b[38;5;132;01m}\u001b[39;00m\u001b[38;5;124m and \u001b[39m\u001b[38;5;132;01m{\u001b[39;00mhigh_num\u001b[38;5;132;01m}\u001b[39;00m\u001b[38;5;124m\"\u001b[39m)\n\u001b[0;32m     13\u001b[0m \u001b[38;5;28;01mwhile\u001b[39;00m is_running:\n\u001b[1;32m---> 14\u001b[0m     guess\u001b[38;5;241m=\u001b[39m\u001b[38;5;28;43minput\u001b[39;49m\u001b[43m(\u001b[49m\u001b[38;5;124;43m\"\u001b[39;49m\u001b[38;5;124;43menter your guess\u001b[39;49m\u001b[38;5;124;43m\"\u001b[39;49m\u001b[43m)\u001b[49m\n\u001b[0;32m     15\u001b[0m     \u001b[38;5;28;01mif\u001b[39;00m guess\u001b[38;5;241m.\u001b[39misdigit():\n\u001b[0;32m     16\u001b[0m         guess \u001b[38;5;241m=\u001b[39m \u001b[38;5;28mint\u001b[39m(guess)\n",
      "File \u001b[1;32m~\\AppData\\Local\\Programs\\Python\\Python312\\Lib\\site-packages\\ipykernel\\kernelbase.py:1282\u001b[0m, in \u001b[0;36mKernel.raw_input\u001b[1;34m(self, prompt)\u001b[0m\n\u001b[0;32m   1280\u001b[0m     msg \u001b[38;5;241m=\u001b[39m \u001b[38;5;124m\"\u001b[39m\u001b[38;5;124mraw_input was called, but this frontend does not support input requests.\u001b[39m\u001b[38;5;124m\"\u001b[39m\n\u001b[0;32m   1281\u001b[0m     \u001b[38;5;28;01mraise\u001b[39;00m StdinNotImplementedError(msg)\n\u001b[1;32m-> 1282\u001b[0m \u001b[38;5;28;01mreturn\u001b[39;00m \u001b[38;5;28;43mself\u001b[39;49m\u001b[38;5;241;43m.\u001b[39;49m\u001b[43m_input_request\u001b[49m\u001b[43m(\u001b[49m\n\u001b[0;32m   1283\u001b[0m \u001b[43m    \u001b[49m\u001b[38;5;28;43mstr\u001b[39;49m\u001b[43m(\u001b[49m\u001b[43mprompt\u001b[49m\u001b[43m)\u001b[49m\u001b[43m,\u001b[49m\n\u001b[0;32m   1284\u001b[0m \u001b[43m    \u001b[49m\u001b[38;5;28;43mself\u001b[39;49m\u001b[38;5;241;43m.\u001b[39;49m\u001b[43m_parent_ident\u001b[49m\u001b[43m[\u001b[49m\u001b[38;5;124;43m\"\u001b[39;49m\u001b[38;5;124;43mshell\u001b[39;49m\u001b[38;5;124;43m\"\u001b[39;49m\u001b[43m]\u001b[49m\u001b[43m,\u001b[49m\n\u001b[0;32m   1285\u001b[0m \u001b[43m    \u001b[49m\u001b[38;5;28;43mself\u001b[39;49m\u001b[38;5;241;43m.\u001b[39;49m\u001b[43mget_parent\u001b[49m\u001b[43m(\u001b[49m\u001b[38;5;124;43m\"\u001b[39;49m\u001b[38;5;124;43mshell\u001b[39;49m\u001b[38;5;124;43m\"\u001b[39;49m\u001b[43m)\u001b[49m\u001b[43m,\u001b[49m\n\u001b[0;32m   1286\u001b[0m \u001b[43m    \u001b[49m\u001b[43mpassword\u001b[49m\u001b[38;5;241;43m=\u001b[39;49m\u001b[38;5;28;43;01mFalse\u001b[39;49;00m\u001b[43m,\u001b[49m\n\u001b[0;32m   1287\u001b[0m \u001b[43m\u001b[49m\u001b[43m)\u001b[49m\n",
      "File \u001b[1;32m~\\AppData\\Local\\Programs\\Python\\Python312\\Lib\\site-packages\\ipykernel\\kernelbase.py:1325\u001b[0m, in \u001b[0;36mKernel._input_request\u001b[1;34m(self, prompt, ident, parent, password)\u001b[0m\n\u001b[0;32m   1322\u001b[0m \u001b[38;5;28;01mexcept\u001b[39;00m \u001b[38;5;167;01mKeyboardInterrupt\u001b[39;00m:\n\u001b[0;32m   1323\u001b[0m     \u001b[38;5;66;03m# re-raise KeyboardInterrupt, to truncate traceback\u001b[39;00m\n\u001b[0;32m   1324\u001b[0m     msg \u001b[38;5;241m=\u001b[39m \u001b[38;5;124m\"\u001b[39m\u001b[38;5;124mInterrupted by user\u001b[39m\u001b[38;5;124m\"\u001b[39m\n\u001b[1;32m-> 1325\u001b[0m     \u001b[38;5;28;01mraise\u001b[39;00m \u001b[38;5;167;01mKeyboardInterrupt\u001b[39;00m(msg) \u001b[38;5;28;01mfrom\u001b[39;00m \u001b[38;5;28;01mNone\u001b[39;00m\n\u001b[0;32m   1326\u001b[0m \u001b[38;5;28;01mexcept\u001b[39;00m \u001b[38;5;167;01mException\u001b[39;00m:\n\u001b[0;32m   1327\u001b[0m     \u001b[38;5;28mself\u001b[39m\u001b[38;5;241m.\u001b[39mlog\u001b[38;5;241m.\u001b[39mwarning(\u001b[38;5;124m\"\u001b[39m\u001b[38;5;124mInvalid Message:\u001b[39m\u001b[38;5;124m\"\u001b[39m, exc_info\u001b[38;5;241m=\u001b[39m\u001b[38;5;28;01mTrue\u001b[39;00m)\n",
      "\u001b[1;31mKeyboardInterrupt\u001b[0m: Interrupted by user"
     ]
    }
   ],
   "source": []
  },
  {
   "cell_type": "code",
   "execution_count": 36,
   "id": "4affcfe2-c53b-4568-b36c-75c7e8830096",
   "metadata": {},
   "outputs": [
    {
     "name": "stdout",
     "output_type": "stream",
     "text": [
      "python number guessing game \n",
      "select a number between 1 and 100\n"
     ]
    },
    {
     "name": "stdin",
     "output_type": "stream",
     "text": [
      "enter your guess s\n"
     ]
    },
    {
     "name": "stdout",
     "output_type": "stream",
     "text": [
      "invalid\n",
      "please select a number between 1 and 100\n"
     ]
    }
   ],
   "source": [
    "import random\n",
    "\n",
    "low_num=1\n",
    "high_num=100\n",
    "\n",
    "answer=random.randint(low_num,high_num)\n",
    "guesses=0\n",
    "is_running=True\n",
    "\n",
    "print(\"python number guessing game \")\n",
    "print(f\"select a number between {low_num} and {high_num}\")\n",
    "\n",
    "while is_running:\n",
    "    guess=input(\"enter your guess\")\n",
    "    if guess.isdigit():\n",
    "        guess = int(guess)\n",
    "        guesses+=1\n",
    "\n",
    "        if guess<low_num or guess>high_num:\n",
    "            print(\"number out of range\")\n",
    "            print(f\"please select a number between 1 and 100\")\n",
    "        elif guess<answer:\n",
    "            print(\"two low! try again\")\n",
    "        elif guess>answer:\n",
    "            print(\"two high try again\")\n",
    "        else:\n",
    "            print(f\"correct number of guesses: {guesses}\")\n",
    "            break\n",
    "    else:\n",
    "        print(\"invalid\")\n",
    "        break\n",
    "        print(f\"please select a number between 1 and 100\")\n",
    "     "
   ]
  },
  {
   "cell_type": "markdown",
   "id": "c4c225d4-9355-484d-9c9a-89373dec3235",
   "metadata": {},
   "source": [
    "# rock paper scissors"
   ]
  },
  {
   "cell_type": "code",
   "execution_count": 38,
   "id": "5ac05cd7-f7cf-44f6-acb6-7cdba8d274c1",
   "metadata": {},
   "outputs": [
    {
     "name": "stdin",
     "output_type": "stream",
     "text": [
      "enter choice rock paper scissors:  rock\n"
     ]
    },
    {
     "name": "stdout",
     "output_type": "stream",
     "text": [
      "player: rock\n",
      "computer:scissors\n",
      "you win\n"
     ]
    }
   ],
   "source": [
    "import random\n",
    "\n",
    "options=(\"rock\",\"paper\",\"scissors\")\n",
    "player=None\n",
    "computer=random.choice(options)\n",
    "\n",
    "running =True\n",
    "while running:\n",
    "    while player not in options:\n",
    "        player = input(\"enter choice rock paper scissors: \")\n",
    "    \n",
    "    print(f\"player: {player}\")\n",
    "    print(f\"computer:{computer}\")\n",
    "    \n",
    "    if player==computer:\n",
    "        print(\"its a tie\")\n",
    "    elif player==\"rock\"and computer==\"scissors\":\n",
    "        print(\"you win\")\n",
    "    elif player==\"paper\"and computer==\"rock\":\n",
    "        print(\"you win!\")\n",
    "    elif player==\"scissors\" and computer==\"paper\":\n",
    "        print(\"you win!\")\n",
    "    else:\n",
    "        print(\"you lose\")\n",
    "    play_again=input(\"play again y/n\").lower()\n",
    "    if not play_again==\"y\":\n",
    "        running=False\n",
    "print(\"thanks for playing\")\n",
    "\n"
   ]
  },
  {
   "cell_type": "markdown",
   "id": "0779d5e2-116c-4896-98f0-076f052a8ffc",
   "metadata": {},
   "source": [
    "# function = a block of reusable code place() after the function name to invoke it "
   ]
  },
  {
   "cell_type": "code",
   "execution_count": 40,
   "id": "46381f59-0b38-4317-98bc-468b9c0b6bd0",
   "metadata": {},
   "outputs": [
    {
     "name": "stdout",
     "output_type": "stream",
     "text": [
      "hello\n",
      "world\n",
      "hello\n",
      "world\n"
     ]
    }
   ],
   "source": [
    "def happy():\n",
    "    print(\"hello\")\n",
    "    print(\"world\")\n",
    "\n",
    "happy()\n",
    "happy()"
   ]
  },
  {
   "cell_type": "raw",
   "id": "4e538add-a628-49cb-8fa0-fde407498e51",
   "metadata": {},
   "source": [
    "you can send arguments in the parenthesis which can be passed or recieved by the function by a variable"
   ]
  },
  {
   "cell_type": "code",
   "execution_count": 41,
   "id": "7559753c-4a16-4493-adba-96d311bde773",
   "metadata": {},
   "outputs": [],
   "source": [
    "# position of the parameters or the arguments passed also matters"
   ]
  },
  {
   "cell_type": "code",
   "execution_count": 2,
   "id": "aaf2ac6c-966b-4070-b095-b93b87a89abb",
   "metadata": {},
   "outputs": [
    {
     "name": "stdout",
     "output_type": "stream",
     "text": [
      "hello simon\n",
      "your bill of $100 is due 01/01\n"
     ]
    }
   ],
   "source": [
    "def display_invoice(username,amount,due_date):\n",
    "    print(f\"hello {username}\")\n",
    "    print(f\"your bill of ${amount} is due {due_date}\")\n",
    "\n",
    "display_invoice(\"simon\",100,\"01/01\")"
   ]
  },
  {
   "cell_type": "markdown",
   "id": "03f95304-ecae-4949-9418-1bddff11e71e",
   "metadata": {},
   "source": [
    "# return = statement used to end a function and send a result back to the caller"
   ]
  },
  {
   "cell_type": "code",
   "execution_count": 5,
   "id": "ec0bafb4-1b79-426b-8cf5-bc3857fa1430",
   "metadata": {},
   "outputs": [
    {
     "name": "stdout",
     "output_type": "stream",
     "text": [
      "3\n",
      "3\n"
     ]
    }
   ],
   "source": [
    "def add(x,y):\n",
    "    z=x+y\n",
    "    return z\n",
    "\n",
    "def subtract(x,y):\n",
    "     z=x-y\n",
    "     return z\n",
    "\n",
    "print(add(1,2))\n",
    "print(add(1,2))\n",
    "    "
   ]
  },
  {
   "cell_type": "code",
   "execution_count": 7,
   "id": "1f46eb52-7292-48bd-94a2-a73e30ac53a4",
   "metadata": {},
   "outputs": [
    {
     "name": "stdout",
     "output_type": "stream",
     "text": [
      "Simon Kurian\n"
     ]
    }
   ],
   "source": [
    "def create_name(first,last):\n",
    "    first=first.capitalize()\n",
    "    last=last.capitalize()\n",
    "    return first+\" \"+last\n",
    "\n",
    "full_name=create_name(\"simon\",\"kurian\")\n",
    "print(full_name)"
   ]
  },
  {
   "cell_type": "markdown",
   "id": "e7744498-dea4-4616-b601-a0793c9afe72",
   "metadata": {},
   "source": [
    "# default arguments= A default value for certain parameters\n",
    "#                    default is is used when that argument is ommited\n",
    "#                    make your functions more flexible ,reduces # of arguments\n",
    "#                    1.positional 2.default 3.keyword 4.arbitary"
   ]
  },
  {
   "cell_type": "code",
   "execution_count": 8,
   "id": "768fdf8c-fbe5-4aa4-87a4-d4613b8fa7aa",
   "metadata": {},
   "outputs": [
    {
     "name": "stdout",
     "output_type": "stream",
     "text": [
      "525.0\n"
     ]
    }
   ],
   "source": [
    "def net_price(list_price,discount,tax):\n",
    "    return list_price*(1-discount)*(1+tax)\n",
    "\n",
    "print(net_price(500,0,0.05))"
   ]
  },
  {
   "cell_type": "code",
   "execution_count": 9,
   "id": "83d17f2d-b715-4589-bfe2-be55e4acb56c",
   "metadata": {},
   "outputs": [
    {
     "name": "stdout",
     "output_type": "stream",
     "text": [
      "525.0\n"
     ]
    }
   ],
   "source": [
    "def net_price(list_price,discount=0,tax=0.05):\n",
    "    return list_price*(1-discount)*(1+tax)\n",
    "\n",
    "print(net_price(500))"
   ]
  },
  {
   "cell_type": "markdown",
   "id": "f04e7544-4a98-4f8a-bb4f-54e90ac8b2df",
   "metadata": {},
   "source": [
    "# program"
   ]
  },
  {
   "cell_type": "code",
   "execution_count": 10,
   "id": "7fa005d3-52b8-4844-ac7c-d13e4d1fc861",
   "metadata": {},
   "outputs": [
    {
     "name": "stdout",
     "output_type": "stream",
     "text": [
      "0\n",
      "1\n",
      "2\n",
      "3\n",
      "4\n",
      "5\n",
      "6\n",
      "7\n",
      "8\n",
      "9\n",
      "10\n",
      "done\n"
     ]
    }
   ],
   "source": [
    "import time\n",
    "\n",
    "def count(start,end):\n",
    "    for x in range(start,end+1):\n",
    "        print(x)\n",
    "        time.sleep(1)\n",
    "    print(\"done\")\n",
    "\n",
    "count(0,10)"
   ]
  },
  {
   "cell_type": "code",
   "execution_count": 11,
   "id": "6a8f9236-011b-40b2-91d9-4d46e05c0706",
   "metadata": {},
   "outputs": [],
   "source": [
    "# if we are using default arguments it should come after non default argument"
   ]
  },
  {
   "cell_type": "markdown",
   "id": "981de16c-a22d-4d67-96cf-4d522fc20c5c",
   "metadata": {},
   "source": [
    "# default arguments = an argument preceeded by an identifier, helps with readability, order of arguments don't matter\n"
   ]
  },
  {
   "cell_type": "code",
   "execution_count": 14,
   "id": "203770dc-ffed-4fcb-9ef2-1eb1dcfc6599",
   "metadata": {},
   "outputs": [
    {
     "name": "stdout",
     "output_type": "stream",
     "text": [
      "helllo mr.simonkurian\n"
     ]
    }
   ],
   "source": [
    "def hello(greeting,title,first,last):\n",
    "    print(f\"{greeting} {title}.{first}{last}\")\n",
    "\n",
    "hello(\"helllo\",\"mr\",\"simon\",\"kurian\")"
   ]
  },
  {
   "cell_type": "code",
   "execution_count": 15,
   "id": "7cc0aa8d-59ec-42df-a9db-f6283a879938",
   "metadata": {},
   "outputs": [
    {
     "name": "stdout",
     "output_type": "stream",
     "text": [
      "helllo mr.kuriansimon\n"
     ]
    }
   ],
   "source": [
    "def hello(greeting,title,first,last):\n",
    "    print(f\"{greeting} {title}.{first}{last}\")\n",
    "\n",
    "hello(\"helllo\",title=\"mr\",last=\"simon\",first=\"kurian\")"
   ]
  },
  {
   "cell_type": "code",
   "execution_count": 16,
   "id": "b68e0251-f536-49d2-b47f-b968d746a20d",
   "metadata": {},
   "outputs": [
    {
     "ename": "TypeError",
     "evalue": "hello() missing 1 required positional argument: 'greeting'",
     "output_type": "error",
     "traceback": [
      "\u001b[1;31m---------------------------------------------------------------------------\u001b[0m",
      "\u001b[1;31mTypeError\u001b[0m                                 Traceback (most recent call last)",
      "Cell \u001b[1;32mIn[16], line 4\u001b[0m\n\u001b[0;32m      1\u001b[0m \u001b[38;5;28;01mdef\u001b[39;00m \u001b[38;5;21mhello\u001b[39m(greeting,title,first,last):\n\u001b[0;32m      2\u001b[0m     \u001b[38;5;28mprint\u001b[39m(\u001b[38;5;124mf\u001b[39m\u001b[38;5;124m\"\u001b[39m\u001b[38;5;132;01m{\u001b[39;00mgreeting\u001b[38;5;132;01m}\u001b[39;00m\u001b[38;5;124m \u001b[39m\u001b[38;5;132;01m{\u001b[39;00mtitle\u001b[38;5;132;01m}\u001b[39;00m\u001b[38;5;124m.\u001b[39m\u001b[38;5;132;01m{\u001b[39;00mfirst\u001b[38;5;132;01m}\u001b[39;00m\u001b[38;5;132;01m{\u001b[39;00mlast\u001b[38;5;132;01m}\u001b[39;00m\u001b[38;5;124m\"\u001b[39m)\n\u001b[1;32m----> 4\u001b[0m \u001b[43mhello\u001b[49m\u001b[43m(\u001b[49m\u001b[43mtitle\u001b[49m\u001b[38;5;241;43m=\u001b[39;49m\u001b[38;5;124;43m\"\u001b[39;49m\u001b[38;5;124;43mmr\u001b[39;49m\u001b[38;5;124;43m\"\u001b[39;49m\u001b[43m,\u001b[49m\u001b[43mlast\u001b[49m\u001b[38;5;241;43m=\u001b[39;49m\u001b[38;5;124;43m\"\u001b[39;49m\u001b[38;5;124;43msimon\u001b[39;49m\u001b[38;5;124;43m\"\u001b[39;49m\u001b[43m,\u001b[49m\u001b[43mfirst\u001b[49m\u001b[38;5;241;43m=\u001b[39;49m\u001b[38;5;124;43m\"\u001b[39;49m\u001b[38;5;124;43mkurian\u001b[39;49m\u001b[38;5;124;43m\"\u001b[39;49m\u001b[43m)\u001b[49m\n",
      "\u001b[1;31mTypeError\u001b[0m: hello() missing 1 required positional argument: 'greeting'"
     ]
    }
   ],
   "source": [
    "def hello(greeting,title,first,last):\n",
    "    print(f\"{greeting} {title}.{first}{last}\")\n",
    "\n",
    "hello(title=\"mr\",last=\"simon\",first=\"kurian\")"
   ]
  },
  {
   "cell_type": "code",
   "execution_count": 17,
   "id": "c5216a21-5480-4ae2-8715-d96d4417903d",
   "metadata": {},
   "outputs": [
    {
     "name": "stdout",
     "output_type": "stream",
     "text": [
      "1 2 3 4 5 6 7 8 9 10 "
     ]
    }
   ],
   "source": [
    "for x in range(1,11):\n",
    "    print(x, end=\" \")\n",
    "    "
   ]
  },
  {
   "cell_type": "code",
   "execution_count": 18,
   "id": "f6ddb9ee-674c-4b30-b77a-113ee02a5eac",
   "metadata": {},
   "outputs": [
    {
     "name": "stdout",
     "output_type": "stream",
     "text": [
      "1-2\n"
     ]
    }
   ],
   "source": [
    "print(\"1\",\"2\",sep=\"-\")"
   ]
  },
  {
   "cell_type": "markdown",
   "id": "657f8920-5c23-4926-8fd7-f1e6d6b559ac",
   "metadata": {},
   "source": [
    "# *args= allows yoou to pass multiple non key arguments\n",
    "# **kwargs= allows yoou to pass multiple keyword -arguments\n",
    "# *unpacking operator"
   ]
  },
  {
   "cell_type": "code",
   "execution_count": 19,
   "id": "b99d9c85-2ed5-4dfe-9eb9-a2e1c2a507fc",
   "metadata": {},
   "outputs": [
    {
     "ename": "NameError",
     "evalue": "name 'a' is not defined",
     "output_type": "error",
     "traceback": [
      "\u001b[1;31m---------------------------------------------------------------------------\u001b[0m",
      "\u001b[1;31mNameError\u001b[0m                                 Traceback (most recent call last)",
      "Cell \u001b[1;32mIn[19], line 4\u001b[0m\n\u001b[0;32m      1\u001b[0m \u001b[38;5;28;01mdef\u001b[39;00m \u001b[38;5;21madd\u001b[39m(\u001b[38;5;241m*\u001b[39margs):\n\u001b[0;32m      2\u001b[0m     \u001b[38;5;28;01mreturn\u001b[39;00m a\u001b[38;5;241m+\u001b[39mb\n\u001b[1;32m----> 4\u001b[0m add(\u001b[43madd\u001b[49m\u001b[43m(\u001b[49m\u001b[38;5;241;43m1\u001b[39;49m\u001b[43m,\u001b[49m\u001b[38;5;241;43m2\u001b[39;49m\u001b[43m)\u001b[49m)\n",
      "Cell \u001b[1;32mIn[19], line 2\u001b[0m, in \u001b[0;36madd\u001b[1;34m(*args)\u001b[0m\n\u001b[0;32m      1\u001b[0m \u001b[38;5;28;01mdef\u001b[39;00m \u001b[38;5;21madd\u001b[39m(\u001b[38;5;241m*\u001b[39margs):\n\u001b[1;32m----> 2\u001b[0m     \u001b[38;5;28;01mreturn\u001b[39;00m \u001b[43ma\u001b[49m\u001b[38;5;241m+\u001b[39mb\n",
      "\u001b[1;31mNameError\u001b[0m: name 'a' is not defined"
     ]
    }
   ],
   "source": [
    "def add(*args):\n",
    "    return a+b\n",
    "\n",
    "add(add(1,2))"
   ]
  },
  {
   "cell_type": "code",
   "execution_count": 20,
   "id": "471bc96b-ddd1-47a5-919f-ed4b36710f0e",
   "metadata": {},
   "outputs": [
    {
     "name": "stdout",
     "output_type": "stream",
     "text": [
      "<class 'tuple'>\n"
     ]
    }
   ],
   "source": [
    "def add(*args):\n",
    "    print(type(args))\n",
    "\n",
    "add(1,2)"
   ]
  },
  {
   "cell_type": "code",
   "execution_count": 21,
   "id": "88afd91f-43ca-44d5-bac6-199fe351f840",
   "metadata": {},
   "outputs": [
    {
     "name": "stdout",
     "output_type": "stream",
     "text": [
      "10\n"
     ]
    }
   ],
   "source": [
    "def add(*args):\n",
    "    total=0\n",
    "    for arg in args:\n",
    "        total+=arg\n",
    "    return total\n",
    "\n",
    "print(add(1,2,3,4))"
   ]
  },
  {
   "cell_type": "code",
   "execution_count": 22,
   "id": "481f1565-5f4b-4a3e-916f-5061fd9a46fa",
   "metadata": {},
   "outputs": [],
   "source": [
    "# parameter name can vary"
   ]
  },
  {
   "cell_type": "code",
   "execution_count": 25,
   "id": "31514639-6a80-40d5-97a1-75e64707b0a3",
   "metadata": {},
   "outputs": [
    {
     "name": "stdout",
     "output_type": "stream",
     "text": [
      "street: jfbjfbdj\n",
      "city: hbdshbd\n",
      "state: india\n"
     ]
    }
   ],
   "source": [
    "def print_address(**kwargs):\n",
    "    for key,value in kwargs.items():\n",
    "        print(f\"{key}: {value}\")\n",
    "\n",
    "print_address(street=\"jfbjfbdj\",\n",
    "             city=\"hbdshbd\",\n",
    "             state=\"india\",\n",
    "             )"
   ]
  },
  {
   "cell_type": "markdown",
   "id": "784ecae7-2c2f-4a4b-b814-0efe4bb47391",
   "metadata": {},
   "source": [
    "# PROBLEMS"
   ]
  },
  {
   "cell_type": "code",
   "execution_count": 1,
   "id": "2f0e27b8-b027-49ce-8c65-9de81978fac0",
   "metadata": {},
   "outputs": [
    {
     "name": "stdin",
     "output_type": "stream",
     "text": [
      "Enter a string:  Www.HackerRank.com\n"
     ]
    },
    {
     "name": "stdout",
     "output_type": "stream",
     "text": [
      "wWW.hACKERrANK.COM\n"
     ]
    }
   ],
   "source": [
    "def swap_case(s):\n",
    "    s = list(s)  # Convert string to a list\n",
    "    for i in range(len(s)):\n",
    "        if s[i].islower():  # Check if the character is lowercase\n",
    "            s[i] = s[i].upper()  # Convert to uppercase\n",
    "        elif s[i].isupper():  # Check if the character is uppercase\n",
    "            s[i] = s[i].lower()  # Convert to lowercase\n",
    "    return ''.join(s)  # Join the modified list back into a string\n",
    "\n",
    "if __name__ == '__main__':\n",
    "    s = input(\"Enter a string: \")\n",
    "    result = swap_case(s)\n",
    "    print(result)\n"
   ]
  },
  {
   "cell_type": "code",
   "execution_count": 3,
   "id": "d27ca12d-0888-4f06-bf63-b018133e8fb5",
   "metadata": {},
   "outputs": [
    {
     "name": "stdin",
     "output_type": "stream",
     "text": [
      " this is a string\n"
     ]
    },
    {
     "name": "stdout",
     "output_type": "stream",
     "text": [
      "this-is-a-string\n"
     ]
    }
   ],
   "source": [
    "def split_and_join(line):\n",
    "    \n",
    "    line=line.replace(\" \",\"-\")\n",
    "    return line\n",
    "\n",
    "if __name__ == '__main__':\n",
    "    line = input()\n",
    "    result = split_and_join(line)\n",
    "    print(result)"
   ]
  },
  {
   "cell_type": "code",
   "execution_count": 3,
   "id": "ad0ffa6d-01dc-4e99-bad8-80a8f68c4726",
   "metadata": {},
   "outputs": [
    {
     "name": "stdin",
     "output_type": "stream",
     "text": [
      " 3\n",
      " 1 2 3 4 5 5 6 7 \n"
     ]
    },
    {
     "name": "stdout",
     "output_type": "stream",
     "text": [
      "12345567"
     ]
    }
   ],
   "source": [
    "if __name__ == '__main__':\n",
    "    n = int(input())\n",
    "    arr = map(int, input().split())\n",
    "    for i in arr:\n",
    "        print(i,end=\"\")"
   ]
  },
  {
   "cell_type": "code",
   "execution_count": null,
   "id": "aab6b1ab-b15b-4f0a-8b05-b6adbe23d402",
   "metadata": {},
   "outputs": [],
   "source": [
    "if __name__ == '__main__':\n",
    "    n = int(input())\n",
    "    arr = map(int, input().split())\n",
    "    u = list(set(arr))\n",
    "    u.sort(reverse=True)\n",
    "    print(u[1])"
   ]
  },
  {
   "cell_type": "code",
   "execution_count": 8,
   "id": "6a13b9a8-a9e9-4dd9-be23-16aa51802f0b",
   "metadata": {},
   "outputs": [
    {
     "ename": "SyntaxError",
     "evalue": "did you forget parentheses around the comprehension target? (14049481.py, line 7)",
     "output_type": "error",
     "traceback": [
      "\u001b[1;36m  Cell \u001b[1;32mIn[8], line 7\u001b[1;36m\u001b[0m\n\u001b[1;33m    smallest=min([score,for _,score in list1])\u001b[0m\n\u001b[1;37m                  ^\u001b[0m\n\u001b[1;31mSyntaxError\u001b[0m\u001b[1;31m:\u001b[0m did you forget parentheses around the comprehension target?\n"
     ]
    }
   ],
   "source": [
    "if __name__ == '__main__':\n",
    "    list1=[]\n",
    "    for _ in range(int(input())):\n",
    "        name = input()\n",
    "        score = float(input())\n",
    "        list1.append([name,score])\n",
    "    smallest=min([score for _,score in list1])\n",
    "    second_smallest=min([score for _,score in list1 if score!=smallest])\n",
    "    second_smallest_name=[name for name,score in list1 if score==second_smallest]\n",
    "    second_smallest_name.sort()\n",
    "    for name in second_smallest_name:\n",
    "        print(name)\n",
    "      "
   ]
  },
  {
   "cell_type": "raw",
   "id": "bd770404-160a-4b5b-b921-317d022de5b7",
   "metadata": {},
   "source": [
    "The provided code stub will read in a\n",
    "dictionary containing key/value pairs of name:[marks] \n",
    "for a list of students. Print the average of the marks array for the student name provided, showing 2 places after the decimal."
   ]
  },
  {
   "cell_type": "code",
   "execution_count": null,
   "id": "b2c32094-433c-4f69-9374-2d29fff0270d",
   "metadata": {},
   "outputs": [],
   "source": [
    "if __name__ == '__main__':\n",
    "    n = int(input())\n",
    "    student_marks = {}\n",
    "    for _ in range(n):\n",
    "        name, *line = input().split()\n",
    "        scores = list(map(float, line))\n",
    "        student_marks[name] = scores\n",
    "    query_name = input()\n",
    "    if query_name in student_marks:\n",
    "        scores = student_marks[query_name]\n",
    "        avg_score = sum(scores) / len(scores)\n",
    "       \n",
    "        print(f\"{avg_score:.2f}\")\n",
    "        "
   ]
  },
  {
   "cell_type": "markdown",
   "id": "a3588a3f-82c0-4084-aee4-5bbc9569b91e",
   "metadata": {},
   "source": [
    "# object oriented programming\n"
   ]
  },
  {
   "cell_type": "raw",
   "id": "b8cbe3af-1d5a-4ce9-a41f-6bfb6d347241",
   "metadata": {},
   "source": [
    "object = a bundle of related of attributes(variables) and methods(functions) you need a class to create many objects\n",
    "class= used to design the structure and layout of an object"
   ]
  },
  {
   "cell_type": "code",
   "execution_count": 2,
   "id": "8b3c1ed3-8119-4c8f-a6c6-39c0d8aa4e7f",
   "metadata": {},
   "outputs": [
    {
     "name": "stdout",
     "output_type": "stream",
     "text": [
      "<__main__.Car object at 0x000001F13E0C63F0>\n"
     ]
    }
   ],
   "source": [
    "class Car:\n",
    "    def __init__(self,model,year,color,for_sale): # it is a constructor method to create objects its a dunder method =double underscore\n",
    "        self.model=model\n",
    "        self.year=year\n",
    "        self.color=color\n",
    "        self.for_sale=for_sale\n",
    "\n",
    "car1=Car(\"mustang\",2024,\"red\",False)\n",
    "print(car1)\n",
    "       \n",
    "        "
   ]
  },
  {
   "cell_type": "code",
   "execution_count": 3,
   "id": "9a5c92b2-3ff7-41c4-b42c-b5708a303fe6",
   "metadata": {},
   "outputs": [],
   "source": [
    "# the output we get is he memory address of this car object where it is located"
   ]
  },
  {
   "cell_type": "code",
   "execution_count": 7,
   "id": "f6453d03-2bc4-4170-9e17-1bf0176ba2de",
   "metadata": {},
   "outputs": [
    {
     "name": "stdout",
     "output_type": "stream",
     "text": [
      "mustang\n",
      "red\n",
      "False\n",
      "bmw\n"
     ]
    }
   ],
   "source": [
    "class Car:\n",
    "    def __init__(self,model,year,color,for_sale): \n",
    "        self.model=model\n",
    "        self.year=year\n",
    "        self.color=color\n",
    "        self.for_sale=for_sale\n",
    "\n",
    "car1=Car(\"mustang\",2024,\"red\",False)\n",
    "print(car1.model)\n",
    "print(car1.color)\n",
    "print(car1.for_sale)\n",
    "       \n",
    "car2=Car(\"bmw\",2024,\"blue\",True)\n",
    "print(car2.model)"
   ]
  },
  {
   "cell_type": "code",
   "execution_count": 8,
   "id": "eba316fb-6b4b-4f25-8e4c-ed4c551c5ada",
   "metadata": {},
   "outputs": [],
   "source": [
    "# METHODS are actions that an object can perform"
   ]
  },
  {
   "cell_type": "code",
   "execution_count": 13,
   "id": "9791f6c6-3876-48f9-935d-35f967d70d4f",
   "metadata": {},
   "outputs": [
    {
     "name": "stdout",
     "output_type": "stream",
     "text": [
      "you drive the mustang\n",
      "you stop the car\n"
     ]
    }
   ],
   "source": [
    "class Car:\n",
    "    def __init__(self,model,year,color,for_sale): \n",
    "        self.model=model\n",
    "        self.year=year\n",
    "        self.color=color\n",
    "        self.for_sale=for_sale\n",
    "    def drive(self):\n",
    "        print(f\"you drive the {self.model}\")\n",
    "    def stop(self):\n",
    "        print(\"you stop the car\")\n",
    "\n",
    "car1=Car(\"mustang\",2024,\"red\",False)\n",
    "car1.drive()\n",
    "car1.stop()"
   ]
  },
  {
   "cell_type": "markdown",
   "id": "55ede127-c330-4096-a773-fa7abbea85da",
   "metadata": {},
   "source": [
    "# class variables= shared among all instances of a class defined outside the construtor, allow you to share dat aong all objects created from that class"
   ]
  },
  {
   "cell_type": "code",
   "execution_count": 14,
   "id": "ccaa72a2-0b08-42a8-86af-686a5c729bed",
   "metadata": {},
   "outputs": [
    {
     "name": "stdout",
     "output_type": "stream",
     "text": [
      "20\n"
     ]
    }
   ],
   "source": [
    "class Student:\n",
    "    def __init__(self,name,age):\n",
    "        self.name=name\n",
    "        self.age=age\n",
    "\n",
    "student1=Student(\"simmon\",20)\n",
    "student2=Student(\"rohan\",19)\n",
    "print(student1.age)"
   ]
  },
  {
   "cell_type": "code",
   "execution_count": 17,
   "id": "06b4ef3c-da72-44dd-8981-ff72b6f12f7f",
   "metadata": {},
   "outputs": [
    {
     "name": "stdout",
     "output_type": "stream",
     "text": [
      "2024\n",
      "2024\n",
      "2024\n"
     ]
    }
   ],
   "source": [
    "class Student:\n",
    "\n",
    "    class_year=2024\n",
    "    def __init__(self,name,age):\n",
    "        self.name=name\n",
    "        self.age=age\n",
    "\n",
    "student1=Student(\"simmon\",20)\n",
    "student2=Student(\"rohan\",19)\n",
    "print(student1.class_year)\n",
    "print(student2.class_year)\n",
    "print(Student.class_year)"
   ]
  },
  {
   "cell_type": "code",
   "execution_count": null,
   "id": "8be588d1-8fd6-47cc-a47a-fbad5895af1c",
   "metadata": {},
   "outputs": [],
   "source": []
  }
 ],
 "metadata": {
  "kernelspec": {
   "display_name": "Python 3 (ipykernel)",
   "language": "python",
   "name": "python3"
  },
  "language_info": {
   "codemirror_mode": {
    "name": "ipython",
    "version": 3
   },
   "file_extension": ".py",
   "mimetype": "text/x-python",
   "name": "python",
   "nbconvert_exporter": "python",
   "pygments_lexer": "ipython3",
   "version": "3.12.3"
  }
 },
 "nbformat": 4,
 "nbformat_minor": 5
}
