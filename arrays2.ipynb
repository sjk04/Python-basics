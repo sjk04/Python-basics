{
 "cells": [
  {
   "cell_type": "code",
   "execution_count": 1,
   "id": "32735a50-f593-406f-bd5b-d36308a50397",
   "metadata": {},
   "outputs": [],
   "source": [
    "#TWO SUM"
   ]
  },
  {
   "cell_type": "code",
   "execution_count": 6,
   "id": "0c8248b4-55e5-4e3f-9006-9819379ae3f6",
   "metadata": {},
   "outputs": [
    {
     "name": "stdin",
     "output_type": "stream",
     "text": [
      " 2 7 11 15\n",
      " 9\n"
     ]
    },
    {
     "name": "stdout",
     "output_type": "stream",
     "text": [
      "[1, 0]\n"
     ]
    }
   ],
   "source": [
    "\n",
    "def twosum(a,target):\n",
    "    dic={}\n",
    "    for i in range(len(a)):\n",
    "        rem=target-a[i]\n",
    "        if rem in dic:\n",
    "            return [i,dic[rem]]\n",
    "        else:\n",
    "            dic[a[i]]=i\n",
    "        \n",
    "a=list(map(int,input().split()))\n",
    "target=int(input())    \n",
    "print(twosum(a,target))"
   ]
  },
  {
   "cell_type": "code",
   "execution_count": 7,
   "id": "28aa118f-093b-4efa-993c-0602e8c4d5f9",
   "metadata": {},
   "outputs": [],
   "source": [
    "# leetcode 75 sort 0s 1s and 2s brute force"
   ]
  },
  {
   "cell_type": "code",
   "execution_count": 9,
   "id": "c2e22821-c91b-4e76-a7d6-74d0fa12dcf0",
   "metadata": {},
   "outputs": [
    {
     "name": "stdin",
     "output_type": "stream",
     "text": [
      " 2 0 1\n"
     ]
    },
    {
     "name": "stdout",
     "output_type": "stream",
     "text": [
      "[0, 1, 2]\n"
     ]
    }
   ],
   "source": [
    "nums=list(map(int,input().split()))\n",
    "for i in range(len(nums)):\n",
    "    for j in range(i,len(nums)):\n",
    "        if nums[i]>nums[j]:\n",
    "            nums[i],nums[j]=nums[j],nums[i]\n",
    "print(nums)"
   ]
  },
  {
   "cell_type": "code",
   "execution_count": 10,
   "id": "de27fe33-7917-45ae-9c93-20b8d6943c35",
   "metadata": {},
   "outputs": [],
   "source": [
    "#count approach"
   ]
  },
  {
   "cell_type": "code",
   "execution_count": 16,
   "id": "3f9910b5-34a3-4e7e-96f7-c8976b696b7f",
   "metadata": {},
   "outputs": [
    {
     "name": "stdin",
     "output_type": "stream",
     "text": [
      " 2 2 2 1 1 1 1 2 0 0\n"
     ]
    },
    {
     "name": "stdout",
     "output_type": "stream",
     "text": [
      "[0, 0, 1, 1, 1, 1, 2, 2, 2, 2]\n"
     ]
    }
   ],
   "source": [
    "nums=list(map(int,input().split()))\n",
    "c0=0\n",
    "c1=0\n",
    "c2=0\n",
    "for i in range(len(nums)):\n",
    "    if nums[i]==0:\n",
    "        c0+=1\n",
    "    if nums[i]==1:\n",
    "        c1+=1\n",
    "    if nums[i]==2:\n",
    "        c2+=1\n",
    "for i in range(c0):\n",
    "    nums[i]=0\n",
    "for i in range(c0,c1+c0):\n",
    "    nums[i]=1\n",
    "for i in range(c0+c1,len(nums)):\n",
    "    nums[i]=2\n",
    "print(nums)"
   ]
  },
  {
   "cell_type": "code",
   "execution_count": 17,
   "id": "a0cb47ab-e8a2-40ce-9488-c9febc7dc4a1",
   "metadata": {},
   "outputs": [],
   "source": [
    "#LEETCOE 53 MAX SUBARRAY"
   ]
  },
  {
   "cell_type": "code",
   "execution_count": 27,
   "id": "04af1662-3b42-4475-b368-345d01ac9381",
   "metadata": {},
   "outputs": [
    {
     "name": "stdin",
     "output_type": "stream",
     "text": [
      " -2,1,-3,4,-1,2,1,-5,4\n"
     ]
    },
    {
     "name": "stdout",
     "output_type": "stream",
     "text": [
      "6\n",
      "[-2, 1, -3, 4, -1, 2, 1, -5, 4]\n"
     ]
    }
   ],
   "source": [
    "nums=list(map(int,input().split(',')))\n",
    "sums=0\n",
    "ans=-float('inf')\n",
    "list1=[]\n",
    "for i in nums:\n",
    "    if sums<0:\n",
    "        sums=0\n",
    "    sums+=i\n",
    "    ans=max(sums,ans)\n",
    "print(ans)\n",
    "\n",
    "\n",
    "    \n"
   ]
  },
  {
   "cell_type": "code",
   "execution_count": 28,
   "id": "c659e754-c097-476c-be72-0ce259380ef6",
   "metadata": {},
   "outputs": [],
   "source": [
    "# LEETCODE 121 BUY AND SELL STOCKS"
   ]
  },
  {
   "cell_type": "code",
   "execution_count": 29,
   "id": "8f528808-288f-469b-bec0-1e93418f6278",
   "metadata": {},
   "outputs": [
    {
     "name": "stdin",
     "output_type": "stream",
     "text": [
      " 7,1,5,3,6,4\n"
     ]
    },
    {
     "name": "stdout",
     "output_type": "stream",
     "text": [
      "5\n"
     ]
    }
   ],
   "source": [
    "prices=list(map(int,input().split(',')))\n",
    "buy=prices[0]\n",
    "ans=0\n",
    "for i in range(1,len(prices)):\n",
    "    sell=prices[i]\n",
    "    profit=sell-buy\n",
    "    ans=max(ans,profit)\n",
    "    buy=min(prices[i],buy)\n",
    "print(ans)"
   ]
  },
  {
   "cell_type": "code",
   "execution_count": 31,
   "id": "5c805fbb-a2c2-4c90-ac7d-884698a0f38a",
   "metadata": {},
   "outputs": [],
   "source": [
    "# rearange array elements by sign LEETCODE 2149"
   ]
  },
  {
   "cell_type": "raw",
   "id": "c660821e-df97-46c0-9a75-7f6a1f500c79",
   "metadata": {},
   "source": [
    "class Solution(object):\n",
    "    def rearrangeArray(self, nums):\n",
    "        \"\"\"\n",
    "        :type nums: List[int]\n",
    "        :rtype: List[int]\n",
    "        \"\"\"\n",
    "        list1=[]\n",
    "        list2=[]\n",
    "        list3=[]\n",
    "        for i in range(len(nums)):\n",
    "            if nums[i]>0:\n",
    "                list1.append(nums[i])\n",
    "            else:\n",
    "                list2.append(nums[i])\n",
    "        for i in range(len(list1)):\n",
    "            list3.append(list1[i])\n",
    "            list3.append(list2[i])\n",
    "        return list3"
   ]
  },
  {
   "cell_type": "code",
   "execution_count": 32,
   "id": "f4128140-e0c5-4c26-a31f-93564049c905",
   "metadata": {},
   "outputs": [],
   "source": [
    "# optimal approach"
   ]
  },
  {
   "cell_type": "raw",
   "id": "6dbc0f36-9e66-4280-b828-3afdb5e55e30",
   "metadata": {},
   "source": [
    "ans=[0]*len(nums)\n",
    "        i=0\n",
    "        j=1\n",
    "\n",
    "        for s in range(len(nums)):\n",
    "            if nums[s]<0:\n",
    "                ans[j]=nums[s]\n",
    "                j+=2\n",
    "            else:\n",
    "                ans[i]=nums[s]\n",
    "                i+=2\n",
    "        return ans"
   ]
  },
  {
   "cell_type": "code",
   "execution_count": 44,
   "id": "e112fef9-a482-4e18-9e08-cd8ac26cd018",
   "metadata": {},
   "outputs": [
    {
     "name": "stdin",
     "output_type": "stream",
     "text": [
      " 1,2,3\n"
     ]
    },
    {
     "name": "stdout",
     "output_type": "stream",
     "text": [
      "[1, 3, 2]\n"
     ]
    }
   ],
   "source": [
    "from itertools import permutations\n",
    "arr=[]\n",
    "nums=list(map(int,input().split(',')))\n",
    "a=list(permutations(nums))\n",
    "\n",
    "for i in range(len(a)):\n",
    "    \n",
    "    if a[i]==tuple(nums):\n",
    "        print(list(a[i+1]))\n",
    "        break\n"
   ]
  },
  {
   "cell_type": "code",
   "execution_count": 65,
   "id": "de503eba-d01a-48d3-9587-b47ab38fc5be",
   "metadata": {},
   "outputs": [
    {
     "name": "stdin",
     "output_type": "stream",
     "text": [
      " 10, 22, 12, 3, 0, 6\n"
     ]
    },
    {
     "name": "stdout",
     "output_type": "stream",
     "text": [
      "22 12 6 "
     ]
    }
   ],
   "source": [
    "nums=list(map(int,input().split(',')))\n",
    "for i in range(len(nums)):\n",
    "    x=nums[i+1:]\n",
    "    if i==len(nums)-1:\n",
    "        print(nums[i],end=\" \")\n",
    "        continue    \n",
    "    if nums[i]>max(x):\n",
    "        print(nums[i],end=\" \")\n",
    "# the continue will prevent from executing the second if when the i reaches las ...."
   ]
  },
  {
   "cell_type": "raw",
   "id": "6bf92932-9a9f-4762-acfa-5c70006c077a",
   "metadata": {},
   "source": [
    "#Longest Consecutive Sequence in an Array\n",
    "Input: nums = [100, 4, 200, 1, 3, 2]\n",
    "Output: 4\n",
    "Explanation:\n",
    "The longest sequence of consecutive elements in the array is [1, 2, 3, 4], which has a length of 4. This sequence can be formed regardless of the initial order of the elements in the array."
   ]
  },
  {
   "cell_type": "code",
   "execution_count": 14,
   "id": "685bf766-01a4-48bd-89ae-b9872ef978a6",
   "metadata": {},
   "outputs": [
    {
     "name": "stdin",
     "output_type": "stream",
     "text": [
      " 1,2,3,4,9,5,6,7,8\n"
     ]
    },
    {
     "name": "stdout",
     "output_type": "stream",
     "text": [
      "4\n"
     ]
    }
   ],
   "source": [
    "nums=list(map(int,input().split(',')))\n",
    "list1=[]\n",
    "cnt=[] \n",
    "for i in range(1,len(nums)):\n",
    "    if nums[i]==nums[i-1]+1:\n",
    "        list1.append(nums[i])\n",
    "    else:\n",
    "        cnt.append(len(list1)+1)\n",
    "        list1=[]\n",
    "print(max(cnt))"
   ]
  },
  {
   "cell_type": "code",
   "execution_count": 1,
   "id": "a7fdb03f-9240-4f48-8554-a0a0deb2f6fc",
   "metadata": {},
   "outputs": [],
   "source": [
    "#LEETCODE 73"
   ]
  },
  {
   "cell_type": "raw",
   "id": "02b2c469-e0c2-4688-b05e-f39c2d4deb82",
   "metadata": {},
   "source": [
    "class Solution:\n",
    "    def setZeroes(self, matrix: List[List[int]]) -> None:\n",
    "        \"\"\"\n",
    "        Do not return anything, modify matrix in-place instead.\n",
    "        \"\"\"\n",
    "        n=len(matrix)\n",
    "        m=len(matrix[0])\n",
    "        z_row=set()\n",
    "        z_col=set()\n",
    "        for i in range(n):\n",
    "            for j in range(m):\n",
    "                if matrix[i][j]==0:\n",
    "                    z_row.add(i)\n",
    "                    z_col.add(j)\n",
    "        for i in z_row:\n",
    "            for j in range(m):\n",
    "                matrix[i][j]=0\n",
    "        for i in range(n):\n",
    "            for j in z_col:\n",
    "                matrix[i][j]=0\n",
    "                \n",
    "\n",
    "        "
   ]
  },
  {
   "cell_type": "code",
   "execution_count": 2,
   "id": "6ccd4592-63d1-4ce3-a302-6b2bf0bd41d4",
   "metadata": {},
   "outputs": [],
   "source": [
    "#leetcode 48"
   ]
  },
  {
   "cell_type": "raw",
   "id": "6905e43a-b256-4229-9c19-5d64a0fb08c1",
   "metadata": {},
   "source": [
    "class Solution:\n",
    "    def rotate(self, matrix: List[List[int]]) -> None:\n",
    "        \"\"\"\n",
    "        Do not return anything, modify matrix in-place instead.\n",
    "        \"\"\"\n",
    "        n=len(matrix)\n",
    "        for i in range(n):\n",
    "            for j in range(i+1,n):\n",
    "                matrix[i][j],matrix[j][i]=matrix[j][i],matrix[i][j]\n",
    "        for row in matrix:\n",
    "            row.reverse()        "
   ]
  },
  {
   "cell_type": "code",
   "execution_count": 3,
   "id": "d3537dad-46e7-4a5d-890a-e758013bdd4a",
   "metadata": {},
   "outputs": [],
   "source": [
    "#leetcode 54"
   ]
  },
  {
   "cell_type": "raw",
   "id": "66b57a24-63a2-4b0c-9a4d-8f9ed9ee6135",
   "metadata": {},
   "source": [
    "class Solution:\n",
    "    def spiralOrder(self, matrix: List[List[int]]) -> List[int]:\n",
    "        top=0\n",
    "        left=0\n",
    "        right=len(matrix[0])-1\n",
    "        bottom=len(matrix)-1\n",
    "        result=[]\n",
    "\n",
    "        while left<=right and top<=bottom:\n",
    "            for i in range(left,right+1):\n",
    "                result.append(matrix[top][i])\n",
    "            top+=1\n",
    "            for i in range(top,bottom+1):\n",
    "                result.append(matrix[i][right])\n",
    "            right-=1\n",
    "            if top<=bottom:\n",
    "                for i in range(right,left-1,-1):\n",
    "                    result.append(matrix[bottom][i])\n",
    "                bottom-=1\n",
    "            if left<=right:\n",
    "                for i in range(bottom,top-1,-1):\n",
    "                    result.append(matrix[i][left])\n",
    "                left+=1\n",
    "        return result"
   ]
  },
  {
   "cell_type": "code",
   "execution_count": null,
   "id": "f08ae0da-57c0-479d-b498-6a39d5ddf16e",
   "metadata": {},
   "outputs": [],
   "source": []
  }
 ],
 "metadata": {
  "kernelspec": {
   "display_name": "Python 3 (ipykernel)",
   "language": "python",
   "name": "python3"
  },
  "language_info": {
   "codemirror_mode": {
    "name": "ipython",
    "version": 3
   },
   "file_extension": ".py",
   "mimetype": "text/x-python",
   "name": "python",
   "nbconvert_exporter": "python",
   "pygments_lexer": "ipython3",
   "version": "3.12.3"
  }
 },
 "nbformat": 4,
 "nbformat_minor": 5
}
