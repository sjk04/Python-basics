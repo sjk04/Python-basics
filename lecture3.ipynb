{
 "cells": [
  {
   "cell_type": "code",
   "execution_count": 1,
   "id": "d16326f7-cc43-405b-92d1-5fa164e2dce0",
   "metadata": {},
   "outputs": [],
   "source": [
    "# rucursion basics"
   ]
  },
  {
   "cell_type": "code",
   "execution_count": 3,
   "id": "072404d0-028a-4c05-a4fd-2eff154d6706",
   "metadata": {},
   "outputs": [
    {
     "name": "stdin",
     "output_type": "stream",
     "text": [
      " 5\n"
     ]
    },
    {
     "name": "stdout",
     "output_type": "stream",
     "text": [
      "5\n",
      "4\n",
      "3\n",
      "2\n",
      "1\n"
     ]
    }
   ],
   "source": [
    "def rec(n):\n",
    "    if n==0:\n",
    "        return\n",
    "    else:\n",
    "        print(n)\n",
    "        rec(n-1)\n",
    "\n",
    "n=int(input())\n",
    "rec(n)"
   ]
  },
  {
   "cell_type": "code",
   "execution_count": 4,
   "id": "6e9c8f26-ca32-42d3-805f-490a0361b8ba",
   "metadata": {},
   "outputs": [],
   "source": [
    "#Print Name N times using Recursion"
   ]
  },
  {
   "cell_type": "code",
   "execution_count": 6,
   "id": "f3f8b0a4-54c2-4b36-8cd6-dae42a32bc27",
   "metadata": {},
   "outputs": [
    {
     "name": "stdin",
     "output_type": "stream",
     "text": [
      " 3\n"
     ]
    },
    {
     "name": "stdout",
     "output_type": "stream",
     "text": [
      "Simon\n",
      "Simon\n",
      "Simon\n"
     ]
    }
   ],
   "source": [
    "def recname(n):\n",
    "    if n==0:\n",
    "        return\n",
    "    else:\n",
    "        print(\"Simon\")\n",
    "        recname(n-1)\n",
    "n=int(input())\n",
    "recname(n)"
   ]
  },
  {
   "cell_type": "code",
   "execution_count": 7,
   "id": "ea275c0e-7e89-4253-a4da-4cf835f9dce3",
   "metadata": {},
   "outputs": [],
   "source": [
    "#Print 1 to N using Recursion"
   ]
  },
  {
   "cell_type": "code",
   "execution_count": 10,
   "id": "b8ba7be5-e588-4954-88ef-a879066409c7",
   "metadata": {},
   "outputs": [
    {
     "name": "stdin",
     "output_type": "stream",
     "text": [
      " 3\n"
     ]
    },
    {
     "name": "stdout",
     "output_type": "stream",
     "text": [
      "1\n",
      "2\n",
      "3\n"
     ]
    }
   ],
   "source": [
    "def recname(i,n):\n",
    "    if i>n:\n",
    "        return\n",
    "    else:\n",
    "        print(i)\n",
    "        recname(i+1,n)\n",
    "   \n",
    "n=int(input())\n",
    "recname(1,n)"
   ]
  },
  {
   "cell_type": "code",
   "execution_count": 11,
   "id": "74ae353a-2c38-430c-af82-aa6c8cd99265",
   "metadata": {},
   "outputs": [],
   "source": [
    "#Print N to 1 using recursion"
   ]
  },
  {
   "cell_type": "code",
   "execution_count": 14,
   "id": "c403a4c6-ebcc-4d79-9b3f-30e832ad56d1",
   "metadata": {},
   "outputs": [
    {
     "name": "stdin",
     "output_type": "stream",
     "text": [
      " 3\n"
     ]
    },
    {
     "name": "stdout",
     "output_type": "stream",
     "text": [
      "3\n",
      "2\n",
      "1\n"
     ]
    }
   ],
   "source": [
    "def rec(n):\n",
    "    if n==0:\n",
    "        return\n",
    "    else:\n",
    "        print(n)\n",
    "        rec(n-1)\n",
    "\n",
    "n=int(input())\n",
    "rec(n)"
   ]
  },
  {
   "cell_type": "code",
   "execution_count": 15,
   "id": "b0afca31-ab74-4f5f-b15a-e8371fd8e2e9",
   "metadata": {},
   "outputs": [],
   "source": [
    "# sum of n numbers"
   ]
  },
  {
   "cell_type": "code",
   "execution_count": 17,
   "id": "0db5b29a-b5ca-4842-8867-cc7ce56ee613",
   "metadata": {},
   "outputs": [
    {
     "name": "stdin",
     "output_type": "stream",
     "text": [
      " 3\n"
     ]
    },
    {
     "name": "stdout",
     "output_type": "stream",
     "text": [
      "6\n"
     ]
    }
   ],
   "source": [
    "#with loop\n",
    "n=int(input())\n",
    "sum=0\n",
    "for i in range(n+1):\n",
    "    sum=sum+i\n",
    "    \n",
    "print(sum)"
   ]
  },
  {
   "cell_type": "code",
   "execution_count": 18,
   "id": "07050b0d-20a5-43fc-aa92-1ad0a0364591",
   "metadata": {},
   "outputs": [],
   "source": [
    "#with function recursion"
   ]
  },
  {
   "cell_type": "code",
   "execution_count": 26,
   "id": "0431c96e-aa89-4e04-9a8a-c0685ac1ca6f",
   "metadata": {},
   "outputs": [
    {
     "name": "stdin",
     "output_type": "stream",
     "text": [
      " 3\n"
     ]
    },
    {
     "name": "stdout",
     "output_type": "stream",
     "text": [
      "6\n"
     ]
    }
   ],
   "source": [
    "def num(i,n,su):\n",
    "    if i>n:\n",
    "        return su\n",
    "    else:\n",
    "        su=su+i\n",
    "        return num(i+1,n,su)\n",
    "        \n",
    "        \n",
    "n=int(input())\n",
    "su=0\n",
    "result=num(1,n,su)\n",
    "print(result)"
   ]
  },
  {
   "cell_type": "code",
   "execution_count": 27,
   "id": "8617d6e5-f2bd-4e5a-a87d-be25743458ed",
   "metadata": {},
   "outputs": [],
   "source": [
    "#Factorial of a Number : Iterative and Recursive"
   ]
  },
  {
   "cell_type": "code",
   "execution_count": 28,
   "id": "f126b757-134a-4244-a8b6-82aac1d25655",
   "metadata": {},
   "outputs": [
    {
     "name": "stdin",
     "output_type": "stream",
     "text": [
      " 5\n"
     ]
    },
    {
     "name": "stdout",
     "output_type": "stream",
     "text": [
      "120\n"
     ]
    }
   ],
   "source": [
    "n=int(input())\n",
    "fact=1\n",
    "for i in range(1,n+1):\n",
    "    fact=fact*i\n",
    "print(fact)"
   ]
  },
  {
   "cell_type": "code",
   "execution_count": 30,
   "id": "32b3020d-de7e-4e4d-a288-e39171f995f9",
   "metadata": {},
   "outputs": [
    {
     "name": "stdin",
     "output_type": "stream",
     "text": [
      " 5\n"
     ]
    },
    {
     "name": "stdout",
     "output_type": "stream",
     "text": [
      "120\n"
     ]
    }
   ],
   "source": [
    "def num(i,n,su):\n",
    "    if i>n:\n",
    "        return su\n",
    "    else:\n",
    "        su=su*i\n",
    "        return num(i+1,n,su)\n",
    "        \n",
    "        \n",
    "n=int(input())\n",
    "su=1\n",
    "result=num(1,n,su)\n",
    "print(result)"
   ]
  },
  {
   "cell_type": "code",
   "execution_count": 37,
   "id": "74800731-8bd0-41df-b67d-16ad3da6676c",
   "metadata": {},
   "outputs": [
    {
     "name": "stdin",
     "output_type": "stream",
     "text": [
      " 3\n",
      " 1 2 3\n"
     ]
    },
    {
     "data": {
      "text/plain": [
       "[3, 2, 1]"
      ]
     },
     "execution_count": 37,
     "metadata": {},
     "output_type": "execute_result"
    }
   ],
   "source": [
    "# reverse a array\n",
    "def reverse(a,n):\n",
    "    start=0\n",
    "    end=a-1\n",
    "    while start<a//2:\n",
    "        n[start],n[end]=n[end],n[start]\n",
    "        start+=1\n",
    "        end-=1\n",
    "    return n\n",
    "a=int(input())\n",
    "n=list(map(int,input().split()))\n",
    "n[:a]\n",
    "reverse(a,n)"
   ]
  },
  {
   "cell_type": "code",
   "execution_count": 38,
   "id": "75cfe8b1-c10c-4ec6-9fbf-ee1fa5a9d667",
   "metadata": {},
   "outputs": [],
   "source": [
    "# string pallindrome"
   ]
  },
  {
   "cell_type": "raw",
   "id": "6b038e0c-6bdc-49c2-86e3-018c698a0d55",
   "metadata": {},
   "source": [
    "Input: s = \"A man, a plan, a canal: Panama\"\n",
    "Output: true\n",
    "Explanation: \"amanaplanacanalpanama\" is a palindrome."
   ]
  },
  {
   "cell_type": "code",
   "execution_count": 39,
   "id": "f02b9c06-2435-49b1-b750-22ddf9dcdb11",
   "metadata": {},
   "outputs": [
    {
     "name": "stdin",
     "output_type": "stream",
     "text": [
      "  man, a plan, a canal: Panama\n"
     ]
    },
    {
     "name": "stdout",
     "output_type": "stream",
     "text": [
      "True\n"
     ]
    }
   ],
   "source": [
    "n=input()\n",
    "cleaned_n=''.join(n.lower() for char in n if n.isalnum())\n",
    "if cleaned_n==cleaned_n[::-1]:\n",
    "    print(\"True\")\n",
    "else:\n",
    "    print(\"False\")"
   ]
  },
  {
   "cell_type": "code",
   "execution_count": 40,
   "id": "193b28a4-8446-45e8-8f8c-bb5257a7c9c6",
   "metadata": {},
   "outputs": [],
   "source": [
    "#fibonacci"
   ]
  },
  {
   "cell_type": "code",
   "execution_count": 42,
   "id": "00ba71e2-d60a-4853-b896-a02ed0caedf4",
   "metadata": {},
   "outputs": [
    {
     "name": "stdin",
     "output_type": "stream",
     "text": [
      " 4\n"
     ]
    },
    {
     "name": "stdout",
     "output_type": "stream",
     "text": [
      "3\n"
     ]
    }
   ],
   "source": [
    "n=int(input())\n",
    "a=0\n",
    "b=1\n",
    "if n==0:\n",
    "    print(\"0\")\n",
    "elif n==1:\n",
    "    print(\"1\")\n",
    "for i in range(2,n+1):\n",
    "    c=a+b\n",
    "    a=b\n",
    "    b=c\n",
    "print(c)"
   ]
  },
  {
   "cell_type": "code",
   "execution_count": null,
   "id": "9e1b2b6a-e12c-4bfb-a6d5-4900ede66a7b",
   "metadata": {},
   "outputs": [],
   "source": []
  }
 ],
 "metadata": {
  "kernelspec": {
   "display_name": "Python 3 (ipykernel)",
   "language": "python",
   "name": "python3"
  },
  "language_info": {
   "codemirror_mode": {
    "name": "ipython",
    "version": 3
   },
   "file_extension": ".py",
   "mimetype": "text/x-python",
   "name": "python",
   "nbconvert_exporter": "python",
   "pygments_lexer": "ipython3",
   "version": "3.12.3"
  }
 },
 "nbformat": 4,
 "nbformat_minor": 5
}
