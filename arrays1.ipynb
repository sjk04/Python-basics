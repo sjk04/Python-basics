{
 "cells": [
  {
   "cell_type": "code",
   "execution_count": 1,
   "id": "abd95d0e-752b-4efc-8244-7f71ff651f78",
   "metadata": {},
   "outputs": [],
   "source": [
    "#Find the Largest element in an array"
   ]
  },
  {
   "cell_type": "code",
   "execution_count": 2,
   "id": "603d812c-f611-4566-bb50-0c92feb7d943",
   "metadata": {},
   "outputs": [
    {
     "name": "stdin",
     "output_type": "stream",
     "text": [
      " 1 2 3 4\n"
     ]
    },
    {
     "name": "stdout",
     "output_type": "stream",
     "text": [
      "4\n"
     ]
    }
   ],
   "source": [
    "a=list(map(int,input().split()))\n",
    "print(max(a))"
   ]
  },
  {
   "cell_type": "code",
   "execution_count": 6,
   "id": "b8931911-bba9-44ed-98b8-268e4e3be975",
   "metadata": {},
   "outputs": [
    {
     "name": "stdin",
     "output_type": "stream",
     "text": [
      " 1 2 4 7 7 5\n"
     ]
    },
    {
     "name": "stdout",
     "output_type": "stream",
     "text": [
      "2 5\n"
     ]
    }
   ],
   "source": [
    "#Find Second Smallest and Second Largest Element in an array\n",
    "a=list(map(int,input().split()))\n",
    "largest=-float('inf')\n",
    "second_largest=-float('inf')\n",
    "for i in range(len(a)):\n",
    "    if a[i]>largest:\n",
    "        second_largest=largest\n",
    "        largest=a[i]\n",
    "    elif a[i]>second_largest and a[i]!=largest:\n",
    "        second_largest=a[i]\n",
    "smallest=float('inf')\n",
    "second_smallest=float('inf')\n",
    "for i in range(len(a)):\n",
    "    if a[i]<smallest:\n",
    "        second_smallest=smallest\n",
    "        smallest=a[i]\n",
    "    elif a[i]<second_smallest and a[i]!=smallest:\n",
    "        second_smallest=a[i]\n",
    "print(second_smallest,second_largest)"
   ]
  },
  {
   "cell_type": "code",
   "execution_count": 19,
   "id": "9fe8ce1c-0b94-4e7b-a93d-f591160b7f16",
   "metadata": {},
   "outputs": [
    {
     "name": "stdin",
     "output_type": "stream",
     "text": [
      " 5\n",
      " 1 2 3 4 5\n"
     ]
    },
    {
     "name": "stdout",
     "output_type": "stream",
     "text": [
      "True\n"
     ]
    }
   ],
   "source": [
    "a=int(input())\n",
    "n=list(map(int,input().split()))\n",
    "n=n[:a]\n",
    "issorted=True\n",
    "for i in range(1,len(n)):\n",
    "    if n[i]<n[i-1]:\n",
    "        issorted=False\n",
    "print(True if issorted else False)\n"
   ]
  },
  {
   "cell_type": "code",
   "execution_count": 17,
   "id": "a26d8727-91e3-4361-a3fa-dffa4a44bfd5",
   "metadata": {},
   "outputs": [
    {
     "name": "stdin",
     "output_type": "stream",
     "text": [
      " 5\n",
      " 5 4 6 7 8\n"
     ]
    },
    {
     "name": "stdout",
     "output_type": "stream",
     "text": [
      "false\n"
     ]
    }
   ],
   "source": [
    "a=int(input())\n",
    "n=list(map(int,input().split()))\n",
    "n[:a]\n",
    "if n==sorted(n):\n",
    "    print(\"true\")\n",
    "else:\n",
    "    print(\"false\")"
   ]
  },
  {
   "cell_type": "code",
   "execution_count": 20,
   "id": "7099604c-09f5-426b-830e-03639b496744",
   "metadata": {},
   "outputs": [],
   "source": [
    "#leetcode 1752. Check if Array Is Sorted and Rotated"
   ]
  },
  {
   "cell_type": "raw",
   "id": "6671ac61-6691-45c0-bd57-6f23042dd59d",
   "metadata": {},
   "source": [
    "class Solution(object):\n",
    "    def check(self, nums):\n",
    "        \"\"\"\n",
    "        :type nums: List[int]\n",
    "        :rtype: bool\n",
    "        \"\"\"\n",
    "        n=len(nums)\n",
    "        a=sorted(nums)\n",
    "        if n==1:\n",
    "            return True\n",
    "        for i in range(1,n):\n",
    "            if nums==a:\n",
    "                return True\n",
    "            else:\n",
    "\n",
    "                nums = nums[-1:] + nums[:-1]\n",
    "\n",
    "                if nums==a:\n",
    "                    return True\n",
    "        return False\n",
    "        "
   ]
  },
  {
   "cell_type": "code",
   "execution_count": 21,
   "id": "cd1fed37-65ad-4a9f-bd4e-544dce3bd33a",
   "metadata": {},
   "outputs": [],
   "source": [
    "#remove duplicates from array LEETCODE 26"
   ]
  },
  {
   "cell_type": "raw",
   "id": "dee7d0a3-2080-4898-ae23-c92484ce1730",
   "metadata": {},
   "source": [
    "class Solution(object):\n",
    "    def removeDuplicates(self, nums):\n",
    "        \"\"\"\n",
    "        :type nums: List[int]\n",
    "        :rtype: int\n",
    "        \"\"\"\n",
    "        if not nums:\n",
    "            return 0\n",
    "        i=0\n",
    "        for j in range(1,len(nums)):\n",
    "            if nums[j]!=nums[i]:\n",
    "                i+=1\n",
    "            nums[i]=nums[j]\n",
    "        return i+1"
   ]
  },
  {
   "cell_type": "code",
   "execution_count": 28,
   "id": "db72dd3f-ff5f-4e2a-8823-f885ac2657bf",
   "metadata": {},
   "outputs": [],
   "source": [
    "#Left Rotate the Array LEETCODE 189"
   ]
  },
  {
   "cell_type": "raw",
   "id": "70111946-3cd7-4ed6-9978-d0113c3b2da6",
   "metadata": {},
   "source": [
    "class Solution(object):\n",
    "    def rotate(self, nums, k):\n",
    "        \"\"\"\n",
    "        :type nums: List[int]\n",
    "        :type k: int\n",
    "        :rtype: None Do not return anything, modify nums in-place instead.\n",
    "        \"\"\"\n",
    "        n=len(nums)\n",
    "        k=k%n\n",
    "        def rev(start,end):\n",
    "            while start<end:\n",
    "                nums[start],nums[end]=nums[end],nums[start]\n",
    "                start+=1\n",
    "                end-=1\n",
    "        \n",
    "        rev(0,n-1)\n",
    "        rev(0,k-1)\n",
    "        rev(k,n-1)\n",
    "        \n",
    "\n",
    "        "
   ]
  },
  {
   "cell_type": "code",
   "execution_count": 33,
   "id": "570b6d45-12f5-4b11-9ad5-821515be8bbd",
   "metadata": {},
   "outputs": [
    {
     "name": "stdin",
     "output_type": "stream",
     "text": [
      " 1 2 3 4 5 6 7\n",
      " 3\n"
     ]
    },
    {
     "name": "stdout",
     "output_type": "stream",
     "text": [
      "[7, 6, 5, 4, 3, 2, 1]\n"
     ]
    }
   ],
   "source": [
    "a=list(map(int,input().split()))\n",
    "k=int(input())\n",
    "k=k%n\n",
    "n=len(a)\n",
    "start=0\n",
    "end=n-1\n",
    "for i in range(k+1):\n",
    "    while start<end:\n",
    "        a[start],a[end]=a[end],a[start]\n",
    "        start+=1\n",
    "        end-=1\n",
    "print(a)"
   ]
  },
  {
   "cell_type": "code",
   "execution_count": 34,
   "id": "eefb5c81-c58a-459f-9390-0259aad024be",
   "metadata": {},
   "outputs": [],
   "source": [
    "# shifting array left by one "
   ]
  },
  {
   "cell_type": "code",
   "execution_count": 35,
   "id": "e9449f54-1730-49ac-be9f-ee24838a31fe",
   "metadata": {},
   "outputs": [
    {
     "name": "stdin",
     "output_type": "stream",
     "text": [
      " 1 2 3 4 5 6 7\n"
     ]
    },
    {
     "name": "stdout",
     "output_type": "stream",
     "text": [
      "[2, 3, 4, 5, 6, 7, 1]\n"
     ]
    }
   ],
   "source": [
    "a=list(map(int,input().split()))\n",
    "b=[]\n",
    "for i in range(1,len(a)):\n",
    "    b.append(a[i])\n",
    "b.append(a[0])\n",
    "print(b)"
   ]
  },
  {
   "cell_type": "code",
   "execution_count": 38,
   "id": "dd3bf3f4-bbcf-45f2-9ba3-8d596fa78acf",
   "metadata": {},
   "outputs": [
    {
     "name": "stdout",
     "output_type": "stream",
     "text": [
      "[0, 0]\n",
      "[1, 3, 12]\n",
      "[1, 3, 12, 0, 0]\n"
     ]
    }
   ],
   "source": [
    "# 0s in last of the list \n",
    "\n",
    "nums=[0,1,0,3,12]\n",
    "list1=[]\n",
    "list2=[]\n",
    "for i in range(len(nums)):\n",
    "    if nums[i]==0:\n",
    "        list2.append(nums[i])\n",
    "    else:\n",
    "        list1.append(nums[i])\n",
    "print(list2)\n",
    "print(list1)\n",
    "print(list1+list2)\n",
    "        "
   ]
  },
  {
   "cell_type": "code",
   "execution_count": 39,
   "id": "9c7ab576-0f5d-47a4-bfb3-43245ee18425",
   "metadata": {},
   "outputs": [],
   "source": [
    "#optimal approach LEETCODE 283"
   ]
  },
  {
   "cell_type": "raw",
   "id": "160e36ff-0243-411f-b402-1d621068c9bd",
   "metadata": {},
   "source": [
    "class Solution(object):\n",
    "    def moveZeroes(self, nums):\n",
    "        \"\"\"\n",
    "        :type nums: List[int]\n",
    "        :rtype: None Do not return anything, modify nums in-place instead.\n",
    "        \"\"\"\n",
    "        left=0\n",
    "        for right in range(len(nums)):\n",
    "            if nums[right]!=0:\n",
    "                nums[left],nums[right]=nums[right],nums[left]\n",
    "                left+=1\n",
    "        return nums\n",
    "\n",
    "        "
   ]
  },
  {
   "cell_type": "code",
   "execution_count": 40,
   "id": "76c64a43-aad2-4107-9237-56bb3370aeef",
   "metadata": {},
   "outputs": [],
   "source": [
    "#Union of Two Sorted Arrays"
   ]
  },
  {
   "cell_type": "code",
   "execution_count": 45,
   "id": "dfe35a3a-a0e5-4cd9-b46d-3c5c9be9be60",
   "metadata": {},
   "outputs": [
    {
     "name": "stdin",
     "output_type": "stream",
     "text": [
      " 3\n",
      " 1 2 3\n",
      " 3\n",
      " 3 4 5\n"
     ]
    },
    {
     "name": "stdout",
     "output_type": "stream",
     "text": [
      "[1, 2, 3, 4, 5]\n"
     ]
    }
   ],
   "source": [
    "a=int(input())\n",
    "list1=list(map(int,input().split()))\n",
    "\n",
    "b=int(input())\n",
    "list2=list(map(int,input().split()))\n",
    "\n",
    "list3=[]\n",
    "for i in list1:\n",
    "    list3.append(i)\n",
    "for i in list2:\n",
    "    if i not in list3:\n",
    "        list3.append(i)\n",
    "    \n",
    "print(list3) "
   ]
  },
  {
   "cell_type": "code",
   "execution_count": 51,
   "id": "68112b3b-33d1-4374-9490-ff5b5d771f7e",
   "metadata": {},
   "outputs": [
    {
     "name": "stdin",
     "output_type": "stream",
     "text": [
      " 3\n",
      " 0 1\n"
     ]
    },
    {
     "name": "stdout",
     "output_type": "stream",
     "text": [
      "2\n"
     ]
    }
   ],
   "source": [
    "#Find the missing number in an array\n",
    "\n",
    "a=int(input())\n",
    "list1=list(map(int,input().split()))\n",
    "for i in range(len(list1)+1):\n",
    "    if i not in list1:\n",
    "        b=i\n",
    "print(b)"
   ]
  },
  {
   "cell_type": "code",
   "execution_count": 52,
   "id": "94d1233d-22b8-4841-a4b9-7746cccbed11",
   "metadata": {},
   "outputs": [],
   "source": [
    "#LEETCODE 268"
   ]
  },
  {
   "cell_type": "raw",
   "id": "6c7565e3-2a36-421b-8e78-19e1d80062ce",
   "metadata": {},
   "source": [
    "class Solution(object):\n",
    "    def missingNumber(self, nums):\n",
    "        \"\"\"\n",
    "        :type nums: List[int]\n",
    "        :rtype: int\n",
    "        \"\"\"\n",
    "        for i in range(len(nums)+1):\n",
    "            if i not in nums:\n",
    "                return i\n",
    "        "
   ]
  },
  {
   "cell_type": "code",
   "execution_count": 53,
   "id": "2c224564-4d93-47e0-a2e3-2e23b1f7436e",
   "metadata": {},
   "outputs": [],
   "source": [
    "#LEETCODE 485"
   ]
  },
  {
   "cell_type": "raw",
   "id": "8c773bf1-823d-4b94-b8b8-e1dcc353eb45",
   "metadata": {},
   "source": [
    "class Solution(object):\n",
    "    def findMaxConsecutiveOnes(self, nums):\n",
    "        \"\"\"\n",
    "        :type nums: List[int]\n",
    "        :rtype: int\n",
    "        \"\"\"\n",
    "        count=0\n",
    "        max_count=0\n",
    "        for i in range(len(nums)):\n",
    "            if nums[i]==1:\n",
    "                count+=1\n",
    "                max_count=max(max_count,count)\n",
    "            else:\n",
    "                count=0\n",
    "        return max_count\n",
    "        "
   ]
  },
  {
   "cell_type": "code",
   "execution_count": 62,
   "id": "9941ad35-49d5-4764-aff6-286c92063e34",
   "metadata": {},
   "outputs": [
    {
     "name": "stdin",
     "output_type": "stream",
     "text": [
      " 2\n",
      " aa\n"
     ]
    },
    {
     "name": "stdout",
     "output_type": "stream",
     "text": [
      "YES\n"
     ]
    },
    {
     "name": "stdin",
     "output_type": "stream",
     "text": [
      " bb\n"
     ]
    },
    {
     "name": "stdout",
     "output_type": "stream",
     "text": [
      "YES\n"
     ]
    }
   ],
   "source": [
    "a=int(input())\n",
    "for i in range(a):\n",
    "    s=input()\n",
    "    n=len(s)\n",
    "    start=s[:n//2]\n",
    "    end=s[n//2:]\n",
    "    if start==end:\n",
    "        print(\"YES\")\n",
    "    else:\n",
    "        print(\"NO\")\n"
   ]
  },
  {
   "cell_type": "code",
   "execution_count": 69,
   "id": "5f5ff1ff-38b9-4a18-80e7-0a45c4ad4e81",
   "metadata": {},
   "outputs": [
    {
     "name": "stdin",
     "output_type": "stream",
     "text": [
      " 1\n",
      " 11110\n"
     ]
    },
    {
     "name": "stdout",
     "output_type": "stream",
     "text": [
      "Bad\n"
     ]
    }
   ],
   "source": [
    "a=int(input())\n",
    "for i in range(a):\n",
    "    s=input()\n",
    "    if \"101\" in s or \"010\"in s:\n",
    "        print(\"Good\")\n",
    "    else:\n",
    "        print(\"Bad\")"
   ]
  },
  {
   "cell_type": "code",
   "execution_count": 72,
   "id": "7a6a66e8-ecaa-4e7f-8e84-580f525182bd",
   "metadata": {},
   "outputs": [
    {
     "name": "stdin",
     "output_type": "stream",
     "text": [
      " 1\n",
      " word\n"
     ]
    },
    {
     "name": "stdout",
     "output_type": "stream",
     "text": [
      "word\n"
     ]
    }
   ],
   "source": [
    "a=int(input())\n",
    "for i in range(a):\n",
    "    s=input()\n",
    "    n=len(s)\n",
    "    if n<=10:\n",
    "        print(s)\n",
    "    else:\n",
    "        a=n-2\n",
    "        print(s[0]+str(a)+s[n-1])"
   ]
  },
  {
   "cell_type": "code",
   "execution_count": 89,
   "id": "2ea9ae2a-c121-48c5-8521-9e42c8175d24",
   "metadata": {},
   "outputs": [
    {
     "name": "stdin",
     "output_type": "stream",
     "text": [
      " jhbskq\n"
     ]
    },
    {
     "name": "stdout",
     "output_type": "stream",
     "text": [
      "1\n"
     ]
    }
   ],
   "source": [
    "s=input()\n",
    "for ch in ['.', ',', '!', '?']:\n",
    "    s = s.replace(ch, ' ')\n",
    "list1=s.split()\n",
    "print(len(list1))\n",
    "\n",
    "\n",
    "\n",
    "\n",
    "\n",
    "\n"
   ]
  },
  {
   "cell_type": "code",
   "execution_count": 98,
   "id": "d1324551-6ae0-460f-9159-d584d119f369",
   "metadata": {},
   "outputs": [
    {
     "name": "stdin",
     "output_type": "stream",
     "text": [
      " abcdefg\n",
      " AbCdEfF\n"
     ]
    },
    {
     "name": "stdout",
     "output_type": "stream",
     "text": [
      "1\n"
     ]
    }
   ],
   "source": [
    "s=input()\n",
    "d=input()\n",
    "s=s.lower()\n",
    "d=d.lower()\n",
    "if s==d:\n",
    "    print(\"0\")\n",
    "else:\n",
    "    # for i in range(len(s)):\n",
    "    #     if s[i]<d[i]:\n",
    "    #         print(\"-1\")\n",
    "    #         break\n",
    "    #     else:\n",
    "    #         print(\"1\")\n",
    "    #         break  \n",
    "    if s<d:\n",
    "        print(\"-1\")\n",
    "    else:\n",
    "        print(\"1\")\n",
    "            \n"
   ]
  },
  {
   "cell_type": "code",
   "execution_count": 119,
   "id": "ed52cf8b-ab6d-40b2-b307-bb87f6806982",
   "metadata": {},
   "outputs": [
    {
     "name": "stdin",
     "output_type": "stream",
     "text": [
      " 3+2+1\n"
     ]
    },
    {
     "name": "stdout",
     "output_type": "stream",
     "text": [
      "1+2+3\n"
     ]
    }
   ],
   "source": [
    "s = input()\n",
    "list1=[]\n",
    "for i in range(len(s)):\n",
    "    if s[i]==\"+\":\n",
    "        continue\n",
    "    else:\n",
    "        list1.append(s[i])\n",
    "list1.sort()\n",
    "a='+'.join(list1)\n",
    "print(a)\n",
    "    \n"
   ]
  },
  {
   "cell_type": "code",
   "execution_count": 103,
   "id": "6577f5f2-4e55-482f-80d7-eea2285c1073",
   "metadata": {},
   "outputs": [
    {
     "name": "stdin",
     "output_type": "stream",
     "text": [
      " 1+1+3+1+3\n"
     ]
    }
   ],
   "source": [
    "s=input()\n",
    "for i in range(len(s),2):\n",
    "    print(i)"
   ]
  },
  {
   "cell_type": "code",
   "execution_count": 124,
   "id": "3ac7dc88-9dfd-4219-90b8-12802e8fd781",
   "metadata": {},
   "outputs": [
    {
     "name": "stdin",
     "output_type": "stream",
     "text": [
      " abb\n"
     ]
    },
    {
     "name": "stdout",
     "output_type": "stream",
     "text": [
      "CHAT WITH HER!\n"
     ]
    }
   ],
   "source": [
    "a=input()\n",
    "dic={}\n",
    "for i in range(len(a)):\n",
    "    if a[i] in dic:\n",
    "        dic[a[i]]+=1\n",
    "    else:\n",
    "        dic[a[i]]=1\n",
    "if len(dic)%2==0:\n",
    "    print(\"CHAT WITH HER!\")\n",
    "else:\n",
    "    print(\"IGNORE HIM!\")"
   ]
  },
  {
   "cell_type": "code",
   "execution_count": 133,
   "id": "48f81e38-fd0f-49ed-bff0-e7fb543faa0a",
   "metadata": {},
   "outputs": [
    {
     "name": "stdin",
     "output_type": "stream",
     "text": [
      " I love you\n"
     ]
    },
    {
     "name": "stdout",
     "output_type": "stream",
     "text": [
      "I evol uoy "
     ]
    }
   ],
   "source": [
    "a=input().split(\" \")\n",
    "for i in a:\n",
    "    print(i[::-1],end=\" \")\n",
    "   \n"
   ]
  },
  {
   "cell_type": "code",
   "execution_count": 143,
   "id": "a6a59919-bb99-4fe5-a28b-d1e6f4472d6c",
   "metadata": {},
   "outputs": [
    {
     "name": "stdin",
     "output_type": "stream",
     "text": [
      " LR\n"
     ]
    },
    {
     "name": "stdout",
     "output_type": "stream",
     "text": [
      "1\n",
      "LR\n"
     ]
    }
   ],
   "source": [
    "a = input()\n",
    "lcount = 0\n",
    "rcount = 0\n",
    "list1 = []\n",
    "temp = \"\"\n",
    "\n",
    "for i in a:\n",
    "    temp += i\n",
    "    if i == \"L\":\n",
    "        lcount += 1\n",
    "    else:\n",
    "        rcount += 1\n",
    "\n",
    "    if lcount == rcount:\n",
    "        list1.append(temp)\n",
    "        temp = \"\"\n",
    "        lcount = 0\n",
    "        rcount = 0\n",
    "\n",
    "print(len(list1))\n",
    "for part in list1:\n",
    "    print(part)\n"
   ]
  },
  {
   "cell_type": "code",
   "execution_count": 141,
   "id": "28989c21-3dec-477a-aa7e-aeb1d1e2bc7d",
   "metadata": {},
   "outputs": [
    {
     "name": "stdin",
     "output_type": "stream",
     "text": [
      " leetcode\n"
     ]
    },
    {
     "name": "stdout",
     "output_type": "stream",
     "text": [
      "0\n"
     ]
    }
   ],
   "source": [
    "s=input()\n",
    "a=list(s)\n",
    "dic={}\n",
    "for i in range(len(a)):\n",
    "    if a[i] in dic:\n",
    "        dic[a[i]]+=1\n",
    "    else:\n",
    "        dic[a[i]]=1\n",
    "for i in range(len(a)):\n",
    "    if dic[a[i]]==1:\n",
    "        print(i)\n",
    "        break"
   ]
  },
  {
   "cell_type": "code",
   "execution_count": 142,
   "id": "19764c19-1d9c-4583-9536-f6077cfb2a14",
   "metadata": {},
   "outputs": [],
   "source": [
    "#LEETCODE 136"
   ]
  },
  {
   "cell_type": "raw",
   "id": "d8823ba2-36b9-41c4-806a-8695e2f87ba4",
   "metadata": {},
   "source": [
    "class Solution(object):\n",
    "    def singleNumber(self, nums):\n",
    "        \"\"\"\n",
    "        :type nums: List[int]\n",
    "        :rtype: int\n",
    "        \"\"\"\n",
    "        dic={}\n",
    "        for i in range(len(nums)):\n",
    "            if nums[i] in dic:\n",
    "                dic[nums[i]]+=1\n",
    "            else:\n",
    "                dic[nums[i]]=1\n",
    "        for key,value in dic.items():\n",
    "            if dic[key]==1:\n",
    "                return key\n",
    "        "
   ]
  },
  {
   "cell_type": "code",
   "execution_count": 148,
   "id": "ab1eca86-edee-4b04-9071-0de64d1d4c24",
   "metadata": {},
   "outputs": [],
   "source": [
    "#Longest Subarray with given Sum K(Positives)    \n",
    "#1. max sum\n",
    "#2 Longest Subarray with given Sum K(Positives)\n",
    "#brute force\n",
    "\n",
    "            "
   ]
  },
  {
   "cell_type": "code",
   "execution_count": 149,
   "id": "57e090cc-6d70-4a8d-9057-9f25c19f3d37",
   "metadata": {},
   "outputs": [],
   "source": [
    "# given an array -max subarrray sum and also given the size of subarray which have the max sum"
   ]
  },
  {
   "cell_type": "code",
   "execution_count": 152,
   "id": "3485de9a-6a91-4708-be47-5fcb2479dfbb",
   "metadata": {},
   "outputs": [
    {
     "name": "stdin",
     "output_type": "stream",
     "text": [
      " -7 3 2 5 -10 100 6 9\n",
      " 4\n"
     ]
    },
    {
     "name": "stdout",
     "output_type": "stream",
     "text": [
      "0\n",
      "97\n",
      "101\n",
      "105\n",
      "105\n"
     ]
    }
   ],
   "source": [
    "a=list(map(int,input().split()))\n",
    "k=int(input())\n",
    "sums=0\n",
    "for i in range(k):\n",
    "    sums+=a[i]\n",
    "ans=sums\n",
    "i=0\n",
    "j=k\n",
    "while j<len(a):\n",
    "    sums-=a[i]\n",
    "    sums+=a[j]\n",
    "    \n",
    "    ans=max(ans,sums)\n",
    "    i+=1\n",
    "    j+=1\n",
    "print(ans)\n",
    "\n",
    "# this is when you are given the size of sub array and out of which which sub array has max sum"
   ]
  },
  {
   "cell_type": "code",
   "execution_count": 153,
   "id": "18590d6c-d0a3-43c9-8d3e-811cf7bc4bd5",
   "metadata": {},
   "outputs": [],
   "source": [
    "#LEETCODE 53"
   ]
  },
  {
   "cell_type": "raw",
   "id": "874d2303-b62e-47da-ae92-fffe348be382",
   "metadata": {},
   "source": [
    "class Solution(object):\n",
    "    def maxSubArray(self, nums):\n",
    "        \"\"\"\n",
    "        :type nums: List[int]\n",
    "        :rtype: int\n",
    "        \"\"\"\n",
    "        sum=0\n",
    "        ans=-float('inf')\n",
    "        for i in nums:\n",
    "            if sum<0:\n",
    "                sum=0\n",
    "            sum+=i\n",
    "            ans=max(sum,ans)\n",
    "        return ans\n",
    "        "
   ]
  },
  {
   "cell_type": "markdown",
   "id": "47dbf055-1a0c-4b7d-8343-c482a91d538d",
   "metadata": {},
   "source": [
    "# code below is wrong ...wrong logic"
   ]
  },
  {
   "cell_type": "code",
   "execution_count": 18,
   "id": "3fbcce36-1869-49b1-86e3-4d5eff3bc0cb",
   "metadata": {},
   "outputs": [
    {
     "name": "stdin",
     "output_type": "stream",
     "text": [
      " 1 2 1 3\n",
      " 2\n"
     ]
    },
    {
     "name": "stdout",
     "output_type": "stream",
     "text": [
      "[2]\n",
      "2\n"
     ]
    }
   ],
   "source": [
    "# largest subarray with sum k\n",
    "\n",
    "a=list(map(int,input().split()))\n",
    "k=int(input())\n",
    "sums=0\n",
    "list1=[]\n",
    "count=0\n",
    "for i in range(len(a)):\n",
    "    sums+=a[i]\n",
    "    count+=1\n",
    "    if sums==k:\n",
    "        list1.append(count)\n",
    "        \n",
    "        sums=0\n",
    "        count=0\n",
    "    elif sums>k:\n",
    "        sums=0\n",
    "        count=0\n",
    "    else:\n",
    "        sums=0\n",
    "        \n",
    "        continue\n",
    "    \n",
    "print(list1)\n",
    "print(max(list1) if list1 else 0)\n",
    "        \n",
    "\n",
    "# print(list1)\n",
    "# print(len(list1))\n",
    "    \n"
   ]
  },
  {
   "cell_type": "code",
   "execution_count": 19,
   "id": "1bc92abc-d968-491d-890a-ff2c991d1052",
   "metadata": {},
   "outputs": [],
   "source": [
    "#SOLUTION - BRUTE FORCE"
   ]
  },
  {
   "cell_type": "code",
   "execution_count": 25,
   "id": "5745bef7-eb46-46f9-a78b-0f2f44cb73fd",
   "metadata": {},
   "outputs": [
    {
     "name": "stdin",
     "output_type": "stream",
     "text": [
      " 1 2 3 1 1 1 1\n",
      " 3\n"
     ]
    },
    {
     "name": "stdout",
     "output_type": "stream",
     "text": [
      "3\n"
     ]
    }
   ],
   "source": [
    "a=list(map(int,input().split()))\n",
    "k=int(input())\n",
    "sums=0\n",
    "list1=[]\n",
    "list2=[]\n",
    "for i in range(len(a)):\n",
    "    for j in range(i,len(a)):\n",
    "        list1.append(a[i:j+1])\n",
    "for i in list1:\n",
    "    if sum(i)==k:\n",
    "        list2.append(len(i))\n",
    "    else:\n",
    "        continue\n",
    "print(max(list2))\n",
    "    "
   ]
  },
  {
   "cell_type": "code",
   "execution_count": 26,
   "id": "74438aa4-6ab0-4bbf-941e-201b523021cc",
   "metadata": {},
   "outputs": [],
   "source": [
    "# BETTER approach"
   ]
  },
  {
   "cell_type": "code",
   "execution_count": 30,
   "id": "52717f61-529c-4199-9e51-bc91e33e21e8",
   "metadata": {},
   "outputs": [
    {
     "name": "stdin",
     "output_type": "stream",
     "text": [
      " 1 2 3 1 1 1 1\n",
      " 3\n"
     ]
    },
    {
     "name": "stdout",
     "output_type": "stream",
     "text": [
      "3\n"
     ]
    }
   ],
   "source": [
    "a=list(map(int,input().split()))\n",
    "k=int(input())\n",
    "maxlength=0\n",
    "for i in range(len(a)):\n",
    "    sums=0\n",
    "    for j in range(i,len(a)):\n",
    "        sums+=a[j]\n",
    "        if sums==k:\n",
    "            maxlength=max(maxlength,j-i+1)\n",
    "print(maxlength)"
   ]
  },
  {
   "cell_type": "code",
   "execution_count": null,
   "id": "6a4f039a-7921-4af7-8ba5-1b1ffa535511",
   "metadata": {},
   "outputs": [],
   "source": []
  }
 ],
 "metadata": {
  "kernelspec": {
   "display_name": "Python 3 (ipykernel)",
   "language": "python",
   "name": "python3"
  },
  "language_info": {
   "codemirror_mode": {
    "name": "ipython",
    "version": 3
   },
   "file_extension": ".py",
   "mimetype": "text/x-python",
   "name": "python",
   "nbconvert_exporter": "python",
   "pygments_lexer": "ipython3",
   "version": "3.12.3"
  }
 },
 "nbformat": 4,
 "nbformat_minor": 5
}
