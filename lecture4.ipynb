{
 "cells": [
  {
   "cell_type": "code",
   "execution_count": null,
   "id": "1f917700-ad55-4c50-8cf9-173971b68153",
   "metadata": {},
   "outputs": [],
   "source": [
    "#CONTAINS TWO SUM,VALID ANAGRAM,GROUP ANAGRAM,VALIDATE SUDOKU"
   ]
  },
  {
   "cell_type": "code",
   "execution_count": 1,
   "id": "5c9e5c3e-1c30-4daf-bfe2-a9e3108578f2",
   "metadata": {},
   "outputs": [],
   "source": [
    "#dictionaries,or hashmaps,sets,problems in python"
   ]
  },
  {
   "cell_type": "code",
   "execution_count": 3,
   "id": "72034d32-d68d-4395-9e88-0a49c5c7c988",
   "metadata": {},
   "outputs": [],
   "source": [
    "#valid anagram leetcode problem 242"
   ]
  },
  {
   "cell_type": "code",
   "execution_count": 5,
   "id": "04de501e-898d-42d0-8314-ffd4759df610",
   "metadata": {},
   "outputs": [
    {
     "name": "stdin",
     "output_type": "stream",
     "text": [
      " rat\n",
      " car\n"
     ]
    },
    {
     "name": "stdout",
     "output_type": "stream",
     "text": [
      "False\n"
     ]
    }
   ],
   "source": [
    "#using list    TIME COMPLEXITY=O(nlogn) SPACE COMPLEXITY=O(n)\n",
    "s=input()\n",
    "t=input()\n",
    "list_s=sorted(s)\n",
    "list_t=sorted(t)\n",
    "if list_s==list_t:\n",
    "    print(\"True\")\n",
    "else:\n",
    "    print(\"False\")"
   ]
  },
  {
   "cell_type": "code",
   "execution_count": 9,
   "id": "9c6705df-ed8b-450e-bff0-de4f83f1a94a",
   "metadata": {},
   "outputs": [
    {
     "name": "stdin",
     "output_type": "stream",
     "text": [
      " rat\n",
      " car\n"
     ]
    },
    {
     "name": "stdout",
     "output_type": "stream",
     "text": [
      "{'r': 1, 'a': 1, 't': 1}\n",
      "{'c': 1, 'a': 1, 'r': 1}\n",
      "False\n"
     ]
    }
   ],
   "source": [
    "s = input()\n",
    "t = input()\n",
    "\n",
    "if len(s) != len(t):\n",
    "    print(\"False\")\n",
    "else:\n",
    "    dict_s = {}\n",
    "    dict_t = {}\n",
    "\n",
    "    for i in range(len(s)):\n",
    "        # For s\n",
    "        if s[i] in dict_s:\n",
    "            dict_s[s[i]] += 1\n",
    "        else:\n",
    "            dict_s[s[i]] = 1\n",
    "\n",
    "        # For t \n",
    "        if t[i] in dict_t:\n",
    "            dict_t[t[i]] += 1\n",
    "        else:\n",
    "            dict_t[t[i]] = 1\n",
    "\n",
    "    print(dict_s)\n",
    "    print(dict_t)\n",
    "\n",
    "    if dict_s == dict_t:\n",
    "        print(\"True\")\n",
    "    else:\n",
    "        print(\"False\")\n"
   ]
  },
  {
   "cell_type": "code",
   "execution_count": 10,
   "id": "4cfcc732-4b0d-4c4b-be3b-1275654ca7e6",
   "metadata": {},
   "outputs": [],
   "source": [
    "#Count frequency of each element in the array"
   ]
  },
  {
   "cell_type": "code",
   "execution_count": 23,
   "id": "e7669d00-e921-417c-8719-2d8bb96e4a8d",
   "metadata": {},
   "outputs": [
    {
     "name": "stdin",
     "output_type": "stream",
     "text": [
      " 1 1 2 2 3 3\n"
     ]
    },
    {
     "name": "stdout",
     "output_type": "stream",
     "text": [
      "[1, 1, 2, 2, 3, 3]\n",
      "1 appears 2 times\n",
      "2 appears 2 times\n",
      "3 appears 2 times\n"
     ]
    }
   ],
   "source": [
    "a=list(map(int,input().split()))\n",
    "dict_a={}\n",
    "print(a)\n",
    "for i in range(len(a)):\n",
    "    if a[i] in dict_a:\n",
    "        dict_a[a[i]]+=1\n",
    "    else:\n",
    "         dict_a[a[i]]=1\n",
    "for key in dict_a:\n",
    "    print(f\"{key} appears {dict_a[key]} times\")\n",
    "        "
   ]
  },
  {
   "cell_type": "code",
   "execution_count": 24,
   "id": "cd14570d-d8f5-48f3-a5ee-c273433fa686",
   "metadata": {},
   "outputs": [],
   "source": [
    "#Find the highest/lowest frequency element  "
   ]
  },
  {
   "cell_type": "code",
   "execution_count": 37,
   "id": "775e7154-f25b-47d3-ae07-7a207fae80cd",
   "metadata": {},
   "outputs": [
    {
     "name": "stdin",
     "output_type": "stream",
     "text": [
      " 1 1 2 3 3 3\n"
     ]
    },
    {
     "name": "stdout",
     "output_type": "stream",
     "text": [
      "3 2\n"
     ]
    }
   ],
   "source": [
    "#Find the highest/lowest frequency element\n",
    "a=list(map(int,input().split()))\n",
    "dict_a={}\n",
    "for i in range(len(a)):\n",
    "     if a[i] in dict_a:\n",
    "        dict_a[a[i]]+=1\n",
    "     else:\n",
    "        dict_a[a[i]]=1\n",
    "b=max(dict_a.values())\n",
    "c=min(dict_a.values())\n",
    "for key,value in dict_a.items():\n",
    "    if value==b:\n",
    "        print(key,end=\" \")\n",
    "for key,value in dict_a.items():\n",
    "    if value==c:\n",
    "        print(key)\n"
   ]
  },
  {
   "cell_type": "code",
   "execution_count": 38,
   "id": "baaffafc-8e37-4161-9d2f-d15dcdd04f4d",
   "metadata": {},
   "outputs": [],
   "source": [
    "#Group Anagrams leetcode 49"
   ]
  },
  {
   "cell_type": "code",
   "execution_count": 39,
   "id": "da2f53a5-417c-4238-944a-33311a8e13f7",
   "metadata": {},
   "outputs": [],
   "source": [
    "#https://www.youtube.com/watch?v=RcZsTI5h0kg&t=2s"
   ]
  },
  {
   "cell_type": "code",
   "execution_count": 47,
   "id": "660668df-c4e3-47a5-957d-38d5fa93cf5f",
   "metadata": {},
   "outputs": [
    {
     "name": "stdin",
     "output_type": "stream",
     "text": [
      "  eat,tea,tan,ate,nat,bat\n"
     ]
    },
    {
     "name": "stdout",
     "output_type": "stream",
     "text": [
      "[[' eat'], ['tea', 'ate'], ['tan', 'nat'], ['bat']]\n"
     ]
    }
   ],
   "source": [
    "from collections import defaultdict \n",
    "a=list(map(str,input().split(\",\")))\n",
    "ana=defaultdict(list)\n",
    "result=[]\n",
    "for s in a:\n",
    "    s_sorted=tuple(sorted(s))\n",
    "    ana[s_sorted].append(s)\n",
    "for value in ana.values():\n",
    "    result.append(value)\n",
    "print(result)"
   ]
  },
  {
   "cell_type": "code",
   "execution_count": 48,
   "id": "a3518b3c-92ed-42f6-a4d1-db5c4d72ad0b",
   "metadata": {},
   "outputs": [
    {
     "name": "stdin",
     "output_type": "stream",
     "text": [
      " eat,tea,tan,ate,nat,bat\n"
     ]
    },
    {
     "name": "stdout",
     "output_type": "stream",
     "text": [
      "[['eat', 'tea', 'ate'], ['tan', 'nat'], ['bat']]\n"
     ]
    }
   ],
   "source": [
    "from collections import defaultdict\n",
    "\n",
    "a = list(map(str, input().split(\",\")))\n",
    "ana = defaultdict(list)\n",
    "\n",
    "for s in a:\n",
    "    s_sorted = tuple(sorted(s))  # ✅ Correct: tuple used as hashable key\n",
    "    ana[s_sorted].append(s)\n",
    "\n",
    "print(list(ana.values()))\n"
   ]
  },
  {
   "cell_type": "code",
   "execution_count": 49,
   "id": "05a6e29d-3870-4471-878c-d4b04d250916",
   "metadata": {},
   "outputs": [],
   "source": [
    "# TWO SUM"
   ]
  },
  {
   "cell_type": "raw",
   "id": "bd009508-f220-4751-bc76-8a002b085f8c",
   "metadata": {},
   "source": [
    "# o(n^2) using double for loops\n",
    "\"\"\" \n",
    "for i in range(len(nums)):\n",
    "            for j in range(len(nums)):\n",
    "                if i==j:\n",
    "                    continue\n",
    "                if nums[i]+nums[j]==target:\n",
    "                    return [i,j]\n",
    "\"\"\"\n"
   ]
  },
  {
   "cell_type": "raw",
   "id": "a5b762fd-e2e9-4b5b-9a4d-4a6fe0888036",
   "metadata": {},
   "source": [
    "better solution\n",
    "for i in range(len(nums)):\n",
    "            for j in range(i+1,len(nums)):\n",
    "                \n",
    "                if nums[i]+nums[j]==target:\n",
    "                    return [i,j]"
   ]
  },
  {
   "cell_type": "code",
   "execution_count": 53,
   "id": "4aaff84b-9fbd-4515-921c-b4011c5a8d43",
   "metadata": {},
   "outputs": [],
   "source": [
    "# using dictionaries  OPTIMAL SOLUTION"
   ]
  },
  {
   "cell_type": "code",
   "execution_count": 54,
   "id": "456c3844-0890-4a28-a04f-a5af5bf53322",
   "metadata": {},
   "outputs": [
    {
     "ename": "KeyError",
     "evalue": "0",
     "output_type": "error",
     "traceback": [
      "\u001b[1;31m---------------------------------------------------------------------------\u001b[0m",
      "\u001b[1;31mKeyError\u001b[0m                                  Traceback (most recent call last)",
      "Cell \u001b[1;32mIn[54], line 8\u001b[0m\n\u001b[0;32m      6\u001b[0m \u001b[38;5;28;01mfor\u001b[39;00m i \u001b[38;5;129;01min\u001b[39;00m \u001b[38;5;28mrange\u001b[39m(\u001b[38;5;28mlen\u001b[39m(nums)):\n\u001b[0;32m      7\u001b[0m     y\u001b[38;5;241m=\u001b[39mtarget\u001b[38;5;241m-\u001b[39mnums[i]\n\u001b[1;32m----> 8\u001b[0m     \u001b[38;5;28;01mif\u001b[39;00m y \u001b[38;5;129;01min\u001b[39;00m h \u001b[38;5;129;01mand\u001b[39;00m y\u001b[38;5;241m!=\u001b[39m\u001b[43mh\u001b[49m\u001b[43m[\u001b[49m\u001b[43mi\u001b[49m\u001b[43m]\u001b[49m:\n\u001b[0;32m      9\u001b[0m         \u001b[38;5;28mprint\u001b[39m(\u001b[38;5;124m\"\u001b[39m\u001b[38;5;124m[\u001b[39m\u001b[38;5;124m\"\u001b[39m,i,h[y],\u001b[38;5;124m\"\u001b[39m\u001b[38;5;124m]\u001b[39m\u001b[38;5;124m\"\u001b[39m)\n",
      "\u001b[1;31mKeyError\u001b[0m: 0"
     ]
    }
   ],
   "source": [
    "nums=[2,7,11,15]\n",
    "target=9\n",
    "h={}\n",
    "for i in range(len(nums)):\n",
    "    h[nums[i]]=i\n",
    "for i in range(len(nums)):\n",
    "    y=target-nums[i]\n",
    "    if y in h and y!=h[i]:\n",
    "        print(\"[\",i,h[y],\"]\")"
   ]
  },
  {
   "cell_type": "code",
   "execution_count": 55,
   "id": "37467ca9-4817-4706-b9b7-9045d5e50b0e",
   "metadata": {},
   "outputs": [
    {
     "name": "stdout",
     "output_type": "stream",
     "text": [
      "[ 0 1 ]\n",
      "[ 1 0 ]\n"
     ]
    }
   ],
   "source": [
    "nums=[2,7,11,15]\n",
    "target=9\n",
    "h={}\n",
    "for i in range(len(nums)):\n",
    "    h[nums[i]]=i\n",
    "for i in range(len(nums)):\n",
    "    y=target-nums[i]\n",
    "    if y in h and y!=h[y]:\n",
    "        print(\"[\",i,h[y],\"]\")"
   ]
  },
  {
   "cell_type": "code",
   "execution_count": 56,
   "id": "874185b4-a5f6-4693-a57f-13019000ef5b",
   "metadata": {},
   "outputs": [],
   "source": [
    "#VALIDATE SUDOKU "
   ]
  },
  {
   "cell_type": "code",
   "execution_count": 57,
   "id": "c89343ef-7e02-4b1a-a319-79fcb7f51bc1",
   "metadata": {},
   "outputs": [],
   "source": [
    "#https://www.youtube.com/watch?v=HyiAKwasi3M\n",
    "#below is the leetcode solution try it out"
   ]
  },
  {
   "cell_type": "raw",
   "id": "a2494a12-f255-46a9-8233-4a3a005e743f",
   "metadata": {},
   "source": [
    "class Solution(object):\n",
    "    def isValidSudoku(self, board):\n",
    "        \"\"\"\n",
    "        :type board: List[List[str]]\n",
    "        :rtype: bool\n",
    "        \"\"\"\n",
    "        for i in range(9):\n",
    "            s=set()\n",
    "            for j in range(9):\n",
    "                item=board[i][j]\n",
    "                if item in s:\n",
    "                    return False\n",
    "                elif item != '.':\n",
    "                    s.add(item)\n",
    "        for i in range(9):\n",
    "            s=set()\n",
    "            for j in range(9):\n",
    "                item=board[j][i]\n",
    "                if item in s:\n",
    "                    return False\n",
    "                elif item != '.':\n",
    "                    s.add(item)\n",
    "        start=[(0,0),(0,3),(0,6),\n",
    "                (3,0),(3,3),(3,6),\n",
    "                (6,0),(6,3),(6,6)]\n",
    "        for i,j in start:\n",
    "            s=set()\n",
    "            for row in range(i,i+3):\n",
    "                for col in range(j,j+3):\n",
    "                    item=board[row][col]\n",
    "                    if item in s:\n",
    "                        return False\n",
    "                    elif item != '.':\n",
    "                        s.add(item)\n",
    "        return True"
   ]
  },
  {
   "cell_type": "code",
   "execution_count": null,
   "id": "6c65b309-55a1-48bd-a457-3db5c0f743d0",
   "metadata": {},
   "outputs": [],
   "source": []
  }
 ],
 "metadata": {
  "kernelspec": {
   "display_name": "Python 3 (ipykernel)",
   "language": "python",
   "name": "python3"
  },
  "language_info": {
   "codemirror_mode": {
    "name": "ipython",
    "version": 3
   },
   "file_extension": ".py",
   "mimetype": "text/x-python",
   "name": "python",
   "nbconvert_exporter": "python",
   "pygments_lexer": "ipython3",
   "version": "3.12.3"
  }
 },
 "nbformat": 4,
 "nbformat_minor": 5
}
