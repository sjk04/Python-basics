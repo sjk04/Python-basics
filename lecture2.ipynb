{
 "cells": [
  {
   "cell_type": "code",
   "execution_count": 1,
   "id": "981b91e8-a7e8-478c-b81a-7058a7af30a7",
   "metadata": {},
   "outputs": [],
   "source": [
    "#Count digits in a number"
   ]
  },
  {
   "cell_type": "code",
   "execution_count": 18,
   "id": "76d2873c-390e-420c-9fb2-f9b1ab47d524",
   "metadata": {},
   "outputs": [
    {
     "name": "stdin",
     "output_type": "stream",
     "text": [
      " 1234\n"
     ]
    },
    {
     "name": "stdout",
     "output_type": "stream",
     "text": [
      "4\n"
     ]
    }
   ],
   "source": [
    "a=input()\n",
    "print(len(a))"
   ]
  },
  {
   "cell_type": "code",
   "execution_count": 19,
   "id": "d8f100bd-3984-4a75-af85-d7d61a2ac9b9",
   "metadata": {},
   "outputs": [],
   "source": [
    "#Reverse Digits of A Number"
   ]
  },
  {
   "cell_type": "code",
   "execution_count": 20,
   "id": "eb0a7295-21ca-46db-aeb7-627d63592f76",
   "metadata": {},
   "outputs": [
    {
     "name": "stdin",
     "output_type": "stream",
     "text": [
      " 1234\n"
     ]
    },
    {
     "name": "stdout",
     "output_type": "stream",
     "text": [
      "4321\n"
     ]
    }
   ],
   "source": [
    "a=input()\n",
    "print(a[::-1])"
   ]
  },
  {
   "cell_type": "code",
   "execution_count": 22,
   "id": "136db826-1392-44e6-bcd9-1d26db38bc22",
   "metadata": {},
   "outputs": [
    {
     "name": "stdin",
     "output_type": "stream",
     "text": [
      " 121\n"
     ]
    },
    {
     "name": "stdout",
     "output_type": "stream",
     "text": [
      "true\n"
     ]
    }
   ],
   "source": [
    "a=int(input())\n",
    "b=str(a)\n",
    "c=b[::-1]\n",
    "if b==c:\n",
    "    print(\"true\")\n",
    "else:\n",
    "    print(\"false\")"
   ]
  },
  {
   "cell_type": "code",
   "execution_count": 7,
   "id": "9e871801-4434-4a93-b4cf-c78cd9356aa3",
   "metadata": {},
   "outputs": [
    {
     "name": "stdin",
     "output_type": "stream",
     "text": [
      " 20\n",
      " 15\n"
     ]
    },
    {
     "name": "stdout",
     "output_type": "stream",
     "text": [
      "5\n"
     ]
    }
   ],
   "source": [
    "a=int(input())\n",
    "b=int(input())\n",
    "list1=[]\n",
    "list2=[]\n",
    "list3=[]\n",
    "for i in range(1,a+1):\n",
    "    if a%i==0:\n",
    "        list1.append(i)\n",
    "for i in range(1,b+1):\n",
    "    if b%i==0:\n",
    "        list2.append(i)\n",
    "for i in list1:\n",
    "    if i in list2:\n",
    "        list3.append(i)\n",
    "print(max(list3))\n",
    "        \n",
    "        "
   ]
  },
  {
   "cell_type": "code",
   "execution_count": 2,
   "id": "fcb8c9e0-c9dd-4f67-bb2d-08a0d23d971a",
   "metadata": {},
   "outputs": [
    {
     "name": "stdout",
     "output_type": "stream",
     "text": [
      "4\n"
     ]
    }
   ],
   "source": [
    "a=['t','t','t','f','f','f','f']\n",
    "start=0\n",
    "end=len(a)-1\n",
    "result=0\n",
    "while start<=end:\n",
    "    mid=(start+end)//2\n",
    "    if a[mid]=='f':\n",
    "        result=mid\n",
    "        end=mid-1\n",
    "    else:\n",
    "        start=mid+1\n",
    "print(result+1)\n",
    "        "
   ]
  },
  {
   "cell_type": "code",
   "execution_count": 8,
   "id": "29391407-c4be-4465-b595-1d8a2f15acf1",
   "metadata": {},
   "outputs": [],
   "source": [
    "#Check if a number is Armstrong Number or not"
   ]
  },
  {
   "cell_type": "code",
   "execution_count": 12,
   "id": "bd2ecceb-9397-486f-9e25-ac5c0c778194",
   "metadata": {},
   "outputs": [
    {
     "name": "stdin",
     "output_type": "stream",
     "text": [
      " 371\n"
     ]
    },
    {
     "name": "stdout",
     "output_type": "stream",
     "text": [
      "True\n"
     ]
    }
   ],
   "source": [
    "n=int(input())\n",
    "sum=0\n",
    "d=n\n",
    "for i in range(1,n+1):\n",
    "    a=n%10\n",
    "    sum=sum+a*a*a\n",
    "    n=n//10\n",
    "    \n",
    "if sum==d:\n",
    "    print(True)\n",
    "else:\n",
    "    print(False)"
   ]
  },
  {
   "cell_type": "code",
   "execution_count": 13,
   "id": "9f7c78ac-4f1d-47cf-98f3-dd9511f92b9d",
   "metadata": {},
   "outputs": [],
   "source": [
    "#Print all Divisors of a given Number"
   ]
  },
  {
   "cell_type": "code",
   "execution_count": 15,
   "id": "ac78c615-0ec7-4578-a7d7-8d049ceb3aa0",
   "metadata": {},
   "outputs": [
    {
     "name": "stdin",
     "output_type": "stream",
     "text": [
      " 12\n"
     ]
    },
    {
     "name": "stdout",
     "output_type": "stream",
     "text": [
      "[1, 2, 3, 4, 6, 12]\n"
     ]
    }
   ],
   "source": [
    "n=int(input())\n",
    "list1=[]\n",
    "for i in range(1,n+1):\n",
    "    if n%i==0:\n",
    "        list1.append(i)\n",
    "print(list1)"
   ]
  },
  {
   "cell_type": "code",
   "execution_count": 1,
   "id": "2af3325a-604f-4394-bc1f-cb5f0cd11140",
   "metadata": {},
   "outputs": [],
   "source": [
    "#prime number"
   ]
  },
  {
   "cell_type": "code",
   "execution_count": 12,
   "id": "2dd3dde6-7fc8-44fc-96f4-266f98200e27",
   "metadata": {},
   "outputs": [
    {
     "name": "stdin",
     "output_type": "stream",
     "text": [
      " 5\n"
     ]
    },
    {
     "name": "stdout",
     "output_type": "stream",
     "text": [
      "True\n"
     ]
    }
   ],
   "source": [
    "a=int(input())\n",
    "count=0\n",
    "for i in range(1,a+1):\n",
    "    if a%i==0:\n",
    "        count+=1\n",
    "if count==2:\n",
    "    print(\"True\")\n",
    "else:\n",
    "    print(\"False\")"
   ]
  },
  {
   "cell_type": "code",
   "execution_count": null,
   "id": "f6304a28-3690-433a-a661-835acff093c8",
   "metadata": {},
   "outputs": [],
   "source": []
  }
 ],
 "metadata": {
  "kernelspec": {
   "display_name": "Python 3 (ipykernel)",
   "language": "python",
   "name": "python3"
  },
  "language_info": {
   "codemirror_mode": {
    "name": "ipython",
    "version": 3
   },
   "file_extension": ".py",
   "mimetype": "text/x-python",
   "name": "python",
   "nbconvert_exporter": "python",
   "pygments_lexer": "ipython3",
   "version": "3.12.3"
  }
 },
 "nbformat": 4,
 "nbformat_minor": 5
}
